{
 "cells": [
  {
   "cell_type": "code",
   "execution_count": 1,
   "metadata": {},
   "outputs": [],
   "source": [
    "import os\n",
    "import pandas as pd\n",
    "import numpy as np\n",
    "import pickle\n",
    "from collections import Counter\n",
    "\n",
    "%matplotlib inline\n",
    "import seaborn as sns\n",
    "import matplotlib.pyplot as plt\n",
    "\n",
    "import warnings\n",
    "warnings.filterwarnings(\"ignore\")"
   ]
  },
  {
   "cell_type": "code",
   "execution_count": 3,
   "metadata": {},
   "outputs": [],
   "source": [
    "# from beiming_common import *\n",
    "from sklearn.model_selection import train_test_split\n",
    "\n",
    "from sklearn.model_selection import KFold\n",
    "import multiprocessing"
   ]
  },
  {
   "cell_type": "code",
   "execution_count": 3,
   "metadata": {},
   "outputs": [
    {
     "name": "stdout",
     "output_type": "stream",
     "text": [
      "CPU times: user 2.84 s, sys: 5.21 s, total: 8.04 s\n",
      "Wall time: 18.3 s\n"
     ]
    }
   ],
   "source": [
    "%%time\n",
    "stations_dict = pickle.load(open('stations_dict.p', \"rb\"))\n",
    "stations_latlng = pickle.load(open('stations_latlng.p', \"rb\"))\n",
    "df = pd.read_feather('df_train')"
   ]
  },
  {
   "cell_type": "code",
   "execution_count": 4,
   "metadata": {},
   "outputs": [
    {
     "data": {
      "text/plain": [
       "0.05     622.0\n",
       "0.20    1128.0\n",
       "0.40    1724.0\n",
       "0.60    2490.0\n",
       "0.80    3831.0\n",
       "0.95    6644.0\n",
       "Name: est_dist, dtype: float64"
      ]
     },
     "execution_count": 4,
     "metadata": {},
     "output_type": "execute_result"
    }
   ],
   "source": [
    "df.est_dist.quantile([.05, .2, .4, .6, .8, .95])"
   ]
  },
  {
   "cell_type": "code",
   "execution_count": 5,
   "metadata": {},
   "outputs": [
    {
     "name": "stdout",
     "output_type": "stream",
     "text": [
      "CPU times: user 3.01 s, sys: 2.85 s, total: 5.86 s\n",
      "Wall time: 5.96 s\n"
     ]
    }
   ],
   "source": [
    "%%time\n",
    "# dist_group\n",
    "df['dist_group'] = 0\n",
    "df.loc[df['est_dist'] < 622, 'dist_group'] = 0\n",
    "df.loc[(df['est_dist'] >= 622) , 'dist_group'] = 1\n",
    "df.loc[(df['est_dist'] >= 1128), 'dist_group'] = 2\n",
    "df.loc[(df['est_dist'] >= 1724), 'dist_group'] = 3\n",
    "df.loc[(df['est_dist'] >= 2489), 'dist_group'] = 4\n",
    "df.loc[(df['est_dist'] >= 3830), 'dist_group'] = 5\n",
    "df.loc[(df['est_dist'] >= 6643), 'dist_group'] = 6"
   ]
  },
  {
   "cell_type": "code",
   "execution_count": 6,
   "metadata": {},
   "outputs": [
    {
     "data": {
      "text/html": [
       "<div>\n",
       "<style>\n",
       "    .dataframe thead tr:only-child th {\n",
       "        text-align: right;\n",
       "    }\n",
       "\n",
       "    .dataframe thead th {\n",
       "        text-align: left;\n",
       "    }\n",
       "\n",
       "    .dataframe tbody tr th {\n",
       "        vertical-align: top;\n",
       "    }\n",
       "</style>\n",
       "<table border=\"1\" class=\"dataframe\">\n",
       "  <thead>\n",
       "    <tr style=\"text-align: right;\">\n",
       "      <th></th>\n",
       "      <th>tripduration</th>\n",
       "      <th>start station id</th>\n",
       "      <th>end station id</th>\n",
       "      <th>birth year</th>\n",
       "      <th>gender</th>\n",
       "      <th>starthour</th>\n",
       "      <th>date</th>\n",
       "      <th>weekday</th>\n",
       "      <th>weekend</th>\n",
       "      <th>month</th>\n",
       "      <th>Temp_high</th>\n",
       "      <th>Temp_avg</th>\n",
       "      <th>Temp_low</th>\n",
       "      <th>Precip</th>\n",
       "      <th>Rain</th>\n",
       "      <th>Snow</th>\n",
       "      <th>Fog</th>\n",
       "      <th>rain_vol</th>\n",
       "      <th>temp_level</th>\n",
       "      <th>start_cluster</th>\n",
       "      <th>end_cluster</th>\n",
       "      <th>user_enc</th>\n",
       "      <th>est_dist</th>\n",
       "      <th>temp_diff</th>\n",
       "      <th>off_work</th>\n",
       "      <th>snow_plus_1</th>\n",
       "      <th>dist_group</th>\n",
       "    </tr>\n",
       "  </thead>\n",
       "  <tbody>\n",
       "    <tr>\n",
       "      <th>14140417</th>\n",
       "      <td>351</td>\n",
       "      <td>3270</td>\n",
       "      <td>3185</td>\n",
       "      <td>1984</td>\n",
       "      <td>1</td>\n",
       "      <td>11.5</td>\n",
       "      <td>2017-11-03</td>\n",
       "      <td>5</td>\n",
       "      <td>0</td>\n",
       "      <td>11</td>\n",
       "      <td>74</td>\n",
       "      <td>63</td>\n",
       "      <td>51</td>\n",
       "      <td>0.000</td>\n",
       "      <td>0</td>\n",
       "      <td>0</td>\n",
       "      <td>0</td>\n",
       "      <td>0</td>\n",
       "      <td>2</td>\n",
       "      <td>6</td>\n",
       "      <td>6</td>\n",
       "      <td>1</td>\n",
       "      <td>1032</td>\n",
       "      <td>2</td>\n",
       "      <td>0</td>\n",
       "      <td>0</td>\n",
       "      <td>1</td>\n",
       "    </tr>\n",
       "    <tr>\n",
       "      <th>4039038</th>\n",
       "      <td>2212</td>\n",
       "      <td>501</td>\n",
       "      <td>279</td>\n",
       "      <td>1990</td>\n",
       "      <td>2</td>\n",
       "      <td>7.5</td>\n",
       "      <td>2017-05-11</td>\n",
       "      <td>4</td>\n",
       "      <td>0</td>\n",
       "      <td>5</td>\n",
       "      <td>62</td>\n",
       "      <td>57</td>\n",
       "      <td>51</td>\n",
       "      <td>0.000</td>\n",
       "      <td>0</td>\n",
       "      <td>0</td>\n",
       "      <td>0</td>\n",
       "      <td>0</td>\n",
       "      <td>1</td>\n",
       "      <td>13</td>\n",
       "      <td>0</td>\n",
       "      <td>1</td>\n",
       "      <td>7428</td>\n",
       "      <td>-1</td>\n",
       "      <td>0</td>\n",
       "      <td>0</td>\n",
       "      <td>6</td>\n",
       "    </tr>\n",
       "    <tr>\n",
       "      <th>8208635</th>\n",
       "      <td>324</td>\n",
       "      <td>127</td>\n",
       "      <td>3260</td>\n",
       "      <td>1984</td>\n",
       "      <td>1</td>\n",
       "      <td>20.0</td>\n",
       "      <td>2017-07-27</td>\n",
       "      <td>4</td>\n",
       "      <td>0</td>\n",
       "      <td>7</td>\n",
       "      <td>78</td>\n",
       "      <td>72</td>\n",
       "      <td>65</td>\n",
       "      <td>0.001</td>\n",
       "      <td>0</td>\n",
       "      <td>0</td>\n",
       "      <td>0</td>\n",
       "      <td>1</td>\n",
       "      <td>3</td>\n",
       "      <td>5</td>\n",
       "      <td>5</td>\n",
       "      <td>1</td>\n",
       "      <td>1643</td>\n",
       "      <td>1</td>\n",
       "      <td>0</td>\n",
       "      <td>0</td>\n",
       "      <td>2</td>\n",
       "    </tr>\n",
       "    <tr>\n",
       "      <th>12279686</th>\n",
       "      <td>455</td>\n",
       "      <td>3016</td>\n",
       "      <td>3094</td>\n",
       "      <td>1980</td>\n",
       "      <td>1</td>\n",
       "      <td>19.5</td>\n",
       "      <td>2017-10-03</td>\n",
       "      <td>2</td>\n",
       "      <td>0</td>\n",
       "      <td>10</td>\n",
       "      <td>71</td>\n",
       "      <td>64</td>\n",
       "      <td>57</td>\n",
       "      <td>0.000</td>\n",
       "      <td>0</td>\n",
       "      <td>0</td>\n",
       "      <td>0</td>\n",
       "      <td>0</td>\n",
       "      <td>2</td>\n",
       "      <td>15</td>\n",
       "      <td>15</td>\n",
       "      <td>1</td>\n",
       "      <td>2243</td>\n",
       "      <td>-2</td>\n",
       "      <td>0</td>\n",
       "      <td>0</td>\n",
       "      <td>3</td>\n",
       "    </tr>\n",
       "    <tr>\n",
       "      <th>10851562</th>\n",
       "      <td>731</td>\n",
       "      <td>499</td>\n",
       "      <td>3341</td>\n",
       "      <td>1982</td>\n",
       "      <td>1</td>\n",
       "      <td>2.0</td>\n",
       "      <td>2017-09-12</td>\n",
       "      <td>2</td>\n",
       "      <td>0</td>\n",
       "      <td>9</td>\n",
       "      <td>78</td>\n",
       "      <td>69</td>\n",
       "      <td>59</td>\n",
       "      <td>0.000</td>\n",
       "      <td>0</td>\n",
       "      <td>0</td>\n",
       "      <td>0</td>\n",
       "      <td>0</td>\n",
       "      <td>3</td>\n",
       "      <td>7</td>\n",
       "      <td>8</td>\n",
       "      <td>1</td>\n",
       "      <td>5142</td>\n",
       "      <td>2</td>\n",
       "      <td>0</td>\n",
       "      <td>0</td>\n",
       "      <td>5</td>\n",
       "    </tr>\n",
       "  </tbody>\n",
       "</table>\n",
       "</div>"
      ],
      "text/plain": [
       "          tripduration  start station id  end station id  birth year  gender  \\\n",
       "14140417           351              3270            3185        1984       1   \n",
       "4039038           2212               501             279        1990       2   \n",
       "8208635            324               127            3260        1984       1   \n",
       "12279686           455              3016            3094        1980       1   \n",
       "10851562           731               499            3341        1982       1   \n",
       "\n",
       "          starthour       date  weekday  weekend  month  Temp_high  Temp_avg  \\\n",
       "14140417       11.5 2017-11-03        5        0     11         74        63   \n",
       "4039038         7.5 2017-05-11        4        0      5         62        57   \n",
       "8208635        20.0 2017-07-27        4        0      7         78        72   \n",
       "12279686       19.5 2017-10-03        2        0     10         71        64   \n",
       "10851562        2.0 2017-09-12        2        0      9         78        69   \n",
       "\n",
       "          Temp_low  Precip  Rain  Snow  Fog  rain_vol  temp_level  \\\n",
       "14140417        51   0.000     0     0    0         0           2   \n",
       "4039038         51   0.000     0     0    0         0           1   \n",
       "8208635         65   0.001     0     0    0         1           3   \n",
       "12279686        57   0.000     0     0    0         0           2   \n",
       "10851562        59   0.000     0     0    0         0           3   \n",
       "\n",
       "          start_cluster  end_cluster  user_enc  est_dist  temp_diff  off_work  \\\n",
       "14140417              6            6         1      1032          2         0   \n",
       "4039038              13            0         1      7428         -1         0   \n",
       "8208635               5            5         1      1643          1         0   \n",
       "12279686             15           15         1      2243         -2         0   \n",
       "10851562              7            8         1      5142          2         0   \n",
       "\n",
       "          snow_plus_1  dist_group  \n",
       "14140417            0           1  \n",
       "4039038             0           6  \n",
       "8208635             0           2  \n",
       "12279686            0           3  \n",
       "10851562            0           5  "
      ]
     },
     "metadata": {},
     "output_type": "display_data"
    }
   ],
   "source": [
    "display_all(df.sample(5))"
   ]
  },
  {
   "cell_type": "code",
   "execution_count": 7,
   "metadata": {},
   "outputs": [
    {
     "name": "stdout",
     "output_type": "stream",
     "text": [
      "CPU times: user 2.42 s, sys: 971 ms, total: 3.39 s\n",
      "Wall time: 3.56 s\n"
     ]
    },
    {
     "data": {
      "image/png": "[encoded data removed]",
      "text/plain": [
       "<Figure size 1440x1008 with 1 Axes>"
      ]
     },
     "metadata": {},
     "output_type": "display_data"
    }
   ],
   "source": [
    "%%time\n",
    "\n",
    "plt.figure(figsize=(20,14))\n",
    "ax = sns.boxplot(x=\"dist_group\", y=\"tripduration\", data=df)"
   ]
  },
  {
   "cell_type": "code",
   "execution_count": 8,
   "metadata": {},
   "outputs": [
    {
     "name": "stdout",
     "output_type": "stream",
     "text": [
      "CPU times: user 1.49 s, sys: 608 ms, total: 2.1 s\n",
      "Wall time: 2.1 s\n"
     ]
    },
    {
     "data": {
      "image/png": "[encoded data removed]",
      "text/plain": [
       "<Figure size 1440x1008 with 1 Axes>"
      ]
     },
     "metadata": {},
     "output_type": "display_data"
    }
   ],
   "source": [
    "%%time\n",
    "\n",
    "plt.figure(figsize=(20,14))\n",
    "ax = sns.boxplot(x=\"start_cluster\", y=\"tripduration\", data=df)"
   ]
  },
  {
   "cell_type": "code",
   "execution_count": 6,
   "metadata": {},
   "outputs": [
    {
     "data": {
      "text/plain": [
       "0.0      16.0\n",
       "0.1      25.0\n",
       "0.2      28.0\n",
       "0.4      34.0\n",
       "0.6      42.0\n",
       "0.8      54.0\n",
       "0.9      68.0\n",
       "1.0    2018.0\n",
       "Name: age, dtype: float64"
      ]
     },
     "execution_count": 6,
     "metadata": {},
     "output_type": "execute_result"
    }
   ],
   "source": [
    "df['age'] = 2017-df['birth year']\n",
    "df.drop('birth year',1,inplace=True)\n",
    "df['age'].quantile([0, .1, .2, .4, .6, .8, .9, 1.])"
   ]
  },
  {
   "cell_type": "code",
   "execution_count": 7,
   "metadata": {},
   "outputs": [
    {
     "name": "stdout",
     "output_type": "stream",
     "text": [
      "CPU times: user 2.5 s, sys: 2.67 s, total: 5.17 s\n",
      "Wall time: 5.21 s\n"
     ]
    }
   ],
   "source": [
    "%%time\n",
    "# age\n",
    "# 0, 10, 20, 40, 60, 80, 90, 100 percentile\n",
    "df['age_group'] = 0\n",
    "df.loc[(df['age'] >= 54), 'age_group'] = 1\n",
    "df.loc[(df['age'] >= 68), 'age_group'] = 2\n",
    "df.loc[(df['age'] == 2018), 'age_group'] = 3"
   ]
  },
  {
   "cell_type": "code",
   "execution_count": 8,
   "metadata": {},
   "outputs": [
    {
     "name": "stdout",
     "output_type": "stream",
     "text": [
      "CPU times: user 2.17 s, sys: 832 ms, total: 3 s\n",
      "Wall time: 3.09 s\n"
     ]
    },
    {
     "data": {
      "image/png": "[encoded data removed]",
      "text/plain": [
       "<Figure size 1440x1008 with 1 Axes>"
      ]
     },
     "metadata": {},
     "output_type": "display_data"
    }
   ],
   "source": [
    "%%time\n",
    "\n",
    "plt.figure(figsize=(20,14))\n",
    "ax = sns.boxplot(x=\"age_group\", y=\"tripduration\", data=df)"
   ]
  },
  {
   "cell_type": "code",
   "execution_count": 12,
   "metadata": {
    "collapsed": true
   },
   "outputs": [],
   "source": [
    "def station_info(station_id):\n",
    "    print(stations_latlng[station_id], stations_dict[station_id])"
   ]
  },
  {
   "cell_type": "code",
   "execution_count": 13,
   "metadata": {},
   "outputs": [
    {
     "name": "stdout",
     "output_type": "stream",
     "text": [
      "(40.766638139981659, -73.953482959941283) E 72 St & York Ave\n"
     ]
    }
   ],
   "source": [
    "station_info(3156)"
   ]
  },
  {
   "cell_type": "code",
   "execution_count": 14,
   "metadata": {},
   "outputs": [
    {
     "name": "stdout",
     "output_type": "stream",
     "text": [
      "(40.771404260009312, -73.953516600020578) 1 Ave & E 78 St\n"
     ]
    }
   ],
   "source": [
    "station_info(3140)"
   ]
  },
  {
   "cell_type": "code",
   "execution_count": 9,
   "metadata": {},
   "outputs": [
    {
     "name": "stdout",
     "output_type": "stream",
     "text": [
      "CPU times: user 1.27 s, sys: 974 ms, total: 2.25 s\n",
      "Wall time: 2.25 s\n"
     ]
    }
   ],
   "source": [
    "%%time\n",
    "# log tripduration\n",
    "df['tripduration'] = np.log(df['tripduration'])"
   ]
  },
  {
   "cell_type": "code",
   "execution_count": 10,
   "metadata": {},
   "outputs": [
    {
     "name": "stdout",
     "output_type": "stream",
     "text": [
      "CPU times: user 11.2 s, sys: 5.19 s, total: 16.4 s\n",
      "Wall time: 17 s\n"
     ]
    }
   ],
   "source": [
    "%%time\n",
    "trn, val = train_test_split(df, test_size=0.2, random_state=42)\n",
    "\n",
    "trn = trn.reset_index()\n",
    "# trn.drop('index',1,inplace=True)\n",
    "\n",
    "val = val.reset_index()\n",
    "# val.drop('index',1,inplace=True)\n",
    "\n",
    "del df"
   ]
  },
  {
   "cell_type": "code",
   "execution_count": 11,
   "metadata": {
    "collapsed": true
   },
   "outputs": [],
   "source": [
    "def prepare_enc(train, cols, std_enc=True):\n",
    "    for c in cols:\n",
    "        train[c+\"_mean_enc\"] = np.nan\n",
    "        if std_enc:\n",
    "            train[c+\"_std_enc\"] = np.nan"
   ]
  },
  {
   "cell_type": "code",
   "execution_count": 12,
   "metadata": {
    "collapsed": true
   },
   "outputs": [],
   "source": [
    "encode_cols = ['gender', 'starthour', 'weekday', 'start station id', 'end station id', \n",
    "               'weekend', 'month', 'Rain', 'Snow', 'Fog', \n",
    "               'rain_vol', 'temp_level', 'start_cluster', 'end_cluster', 'user_enc', \n",
    "               'off_work', 'snow_plus_1', 'age_group', 'dist_group']"
   ]
  },
  {
   "cell_type": "code",
   "execution_count": 13,
   "metadata": {
    "collapsed": true
   },
   "outputs": [],
   "source": [
    "# t = trn.sample(100000).copy().reset_index()\n",
    "# v = val.sample(25000).copy().reset_index()\n",
    "# prepare_enc(t, encode_cols)\n",
    "# # prepare_enc(v, encode_cols)"
   ]
  },
  {
   "cell_type": "code",
   "execution_count": 14,
   "metadata": {
    "collapsed": true
   },
   "outputs": [],
   "source": [
    "def reg_target_enc_trn(col, trn=trn, target='tripduration', splits=4, std_enc=True):\n",
    "    \"\"\" \n",
    "    Computes regularize mean encoding \n",
    "    for a categorical variable\n",
    "    Inputs:\n",
    "       train: training dataframe\n",
    "    \"\"\"\n",
    "    df = trn[[col, col+\"_mean_enc\", col+\"_std_enc\",'tripduration']]\n",
    "    kf = KFold(n_splits=splits)\n",
    "    for trn_ind, val_ind in kf.split(df):\n",
    "        mean_by_col = df.loc[trn_ind].groupby(col)[target].mean()\n",
    "        df.loc[val_ind, col+\"_mean_enc\"] = df.loc[val_ind, col].map(mean_by_col)\n",
    "        \n",
    "        if std_enc:\n",
    "            std_by_col = df.loc[trn_ind].groupby(col)[target].std()\n",
    "            df.loc[val_ind, col+\"_std_enc\"] = df.loc[val_ind, col].map(std_by_col)\n",
    "            \n",
    "\n",
    "    target_enc_mean = df.groupby(col)[target].mean()\n",
    "    target_enc_std = None\n",
    "    if std_enc:\n",
    "        target_enc_std = df.groupby(col)[target].std()\n",
    "        \n",
    "    print(col)\n",
    "    return target_enc_mean, target_enc_std\n",
    "\n"
   ]
  },
  {
   "cell_type": "code",
   "execution_count": 15,
   "metadata": {},
   "outputs": [
    {
     "name": "stdout",
     "output_type": "stream",
     "text": [
      "CPU times: user 3.27 s, sys: 2.12 s, total: 5.39 s\n",
      "Wall time: 5.62 s\n"
     ]
    }
   ],
   "source": [
    "%%time\n",
    "prepare_enc(trn, encode_cols)"
   ]
  },
  {
   "cell_type": "code",
   "execution_count": 16,
   "metadata": {},
   "outputs": [
    {
     "data": {
      "text/html": [
       "<div>\n",
       "<style>\n",
       "    .dataframe thead tr:only-child th {\n",
       "        text-align: right;\n",
       "    }\n",
       "\n",
       "    .dataframe thead th {\n",
       "        text-align: left;\n",
       "    }\n",
       "\n",
       "    .dataframe tbody tr th {\n",
       "        vertical-align: top;\n",
       "    }\n",
       "</style>\n",
       "<table border=\"1\" class=\"dataframe\">\n",
       "  <thead>\n",
       "    <tr style=\"text-align: right;\">\n",
       "      <th></th>\n",
       "      <th>index</th>\n",
       "      <th>tripduration</th>\n",
       "      <th>start station id</th>\n",
       "      <th>end station id</th>\n",
       "      <th>gender</th>\n",
       "      <th>starthour</th>\n",
       "      <th>date</th>\n",
       "      <th>weekday</th>\n",
       "      <th>weekend</th>\n",
       "      <th>month</th>\n",
       "      <th>...</th>\n",
       "      <th>user_enc_mean_enc</th>\n",
       "      <th>user_enc_std_enc</th>\n",
       "      <th>off_work_mean_enc</th>\n",
       "      <th>off_work_std_enc</th>\n",
       "      <th>snow_plus_1_mean_enc</th>\n",
       "      <th>snow_plus_1_std_enc</th>\n",
       "      <th>age_group_mean_enc</th>\n",
       "      <th>age_group_std_enc</th>\n",
       "      <th>dist_group_mean_enc</th>\n",
       "      <th>dist_group_std_enc</th>\n",
       "    </tr>\n",
       "  </thead>\n",
       "  <tbody>\n",
       "    <tr>\n",
       "      <th>0</th>\n",
       "      <td>5263797</td>\n",
       "      <td>6.739337</td>\n",
       "      <td>405</td>\n",
       "      <td>514</td>\n",
       "      <td>2</td>\n",
       "      <td>23.5</td>\n",
       "      <td>2017-06-04</td>\n",
       "      <td>7</td>\n",
       "      <td>1</td>\n",
       "      <td>6</td>\n",
       "      <td>...</td>\n",
       "      <td>NaN</td>\n",
       "      <td>NaN</td>\n",
       "      <td>NaN</td>\n",
       "      <td>NaN</td>\n",
       "      <td>NaN</td>\n",
       "      <td>NaN</td>\n",
       "      <td>NaN</td>\n",
       "      <td>NaN</td>\n",
       "      <td>NaN</td>\n",
       "      <td>NaN</td>\n",
       "    </tr>\n",
       "    <tr>\n",
       "      <th>1</th>\n",
       "      <td>14148066</td>\n",
       "      <td>5.993961</td>\n",
       "      <td>284</td>\n",
       "      <td>496</td>\n",
       "      <td>1</td>\n",
       "      <td>13.5</td>\n",
       "      <td>2017-11-03</td>\n",
       "      <td>5</td>\n",
       "      <td>0</td>\n",
       "      <td>11</td>\n",
       "      <td>...</td>\n",
       "      <td>NaN</td>\n",
       "      <td>NaN</td>\n",
       "      <td>NaN</td>\n",
       "      <td>NaN</td>\n",
       "      <td>NaN</td>\n",
       "      <td>NaN</td>\n",
       "      <td>NaN</td>\n",
       "      <td>NaN</td>\n",
       "      <td>NaN</td>\n",
       "      <td>NaN</td>\n",
       "    </tr>\n",
       "    <tr>\n",
       "      <th>2</th>\n",
       "      <td>5168070</td>\n",
       "      <td>6.563856</td>\n",
       "      <td>421</td>\n",
       "      <td>3063</td>\n",
       "      <td>1</td>\n",
       "      <td>21.5</td>\n",
       "      <td>2017-06-02</td>\n",
       "      <td>5</td>\n",
       "      <td>0</td>\n",
       "      <td>6</td>\n",
       "      <td>...</td>\n",
       "      <td>NaN</td>\n",
       "      <td>NaN</td>\n",
       "      <td>NaN</td>\n",
       "      <td>NaN</td>\n",
       "      <td>NaN</td>\n",
       "      <td>NaN</td>\n",
       "      <td>NaN</td>\n",
       "      <td>NaN</td>\n",
       "      <td>NaN</td>\n",
       "      <td>NaN</td>\n",
       "    </tr>\n",
       "    <tr>\n",
       "      <th>3</th>\n",
       "      <td>9107624</td>\n",
       "      <td>6.180017</td>\n",
       "      <td>368</td>\n",
       "      <td>428</td>\n",
       "      <td>1</td>\n",
       "      <td>12.0</td>\n",
       "      <td>2017-08-12</td>\n",
       "      <td>6</td>\n",
       "      <td>1</td>\n",
       "      <td>8</td>\n",
       "      <td>...</td>\n",
       "      <td>NaN</td>\n",
       "      <td>NaN</td>\n",
       "      <td>NaN</td>\n",
       "      <td>NaN</td>\n",
       "      <td>NaN</td>\n",
       "      <td>NaN</td>\n",
       "      <td>NaN</td>\n",
       "      <td>NaN</td>\n",
       "      <td>NaN</td>\n",
       "      <td>NaN</td>\n",
       "    </tr>\n",
       "    <tr>\n",
       "      <th>4</th>\n",
       "      <td>67419</td>\n",
       "      <td>6.001415</td>\n",
       "      <td>402</td>\n",
       "      <td>527</td>\n",
       "      <td>1</td>\n",
       "      <td>18.5</td>\n",
       "      <td>2017-01-04</td>\n",
       "      <td>3</td>\n",
       "      <td>0</td>\n",
       "      <td>1</td>\n",
       "      <td>...</td>\n",
       "      <td>NaN</td>\n",
       "      <td>NaN</td>\n",
       "      <td>NaN</td>\n",
       "      <td>NaN</td>\n",
       "      <td>NaN</td>\n",
       "      <td>NaN</td>\n",
       "      <td>NaN</td>\n",
       "      <td>NaN</td>\n",
       "      <td>NaN</td>\n",
       "      <td>NaN</td>\n",
       "    </tr>\n",
       "  </tbody>\n",
       "</table>\n",
       "<p>5 rows × 67 columns</p>\n",
       "</div>"
      ],
      "text/plain": [
       "      index  tripduration  start station id  end station id  gender  \\\n",
       "0   5263797      6.739337               405             514       2   \n",
       "1  14148066      5.993961               284             496       1   \n",
       "2   5168070      6.563856               421            3063       1   \n",
       "3   9107624      6.180017               368             428       1   \n",
       "4     67419      6.001415               402             527       1   \n",
       "\n",
       "   starthour       date  weekday  weekend  month         ...          \\\n",
       "0       23.5 2017-06-04        7        1      6         ...           \n",
       "1       13.5 2017-11-03        5        0     11         ...           \n",
       "2       21.5 2017-06-02        5        0      6         ...           \n",
       "3       12.0 2017-08-12        6        1      8         ...           \n",
       "4       18.5 2017-01-04        3        0      1         ...           \n",
       "\n",
       "   user_enc_mean_enc  user_enc_std_enc  off_work_mean_enc  off_work_std_enc  \\\n",
       "0                NaN               NaN                NaN               NaN   \n",
       "1                NaN               NaN                NaN               NaN   \n",
       "2                NaN               NaN                NaN               NaN   \n",
       "3                NaN               NaN                NaN               NaN   \n",
       "4                NaN               NaN                NaN               NaN   \n",
       "\n",
       "   snow_plus_1_mean_enc  snow_plus_1_std_enc  age_group_mean_enc  \\\n",
       "0                   NaN                  NaN                 NaN   \n",
       "1                   NaN                  NaN                 NaN   \n",
       "2                   NaN                  NaN                 NaN   \n",
       "3                   NaN                  NaN                 NaN   \n",
       "4                   NaN                  NaN                 NaN   \n",
       "\n",
       "   age_group_std_enc  dist_group_mean_enc  dist_group_std_enc  \n",
       "0                NaN                  NaN                 NaN  \n",
       "1                NaN                  NaN                 NaN  \n",
       "2                NaN                  NaN                 NaN  \n",
       "3                NaN                  NaN                 NaN  \n",
       "4                NaN                  NaN                 NaN  \n",
       "\n",
       "[5 rows x 67 columns]"
      ]
     },
     "execution_count": 16,
     "metadata": {},
     "output_type": "execute_result"
    }
   ],
   "source": [
    "trn.head()"
   ]
  },
  {
   "cell_type": "code",
   "execution_count": 17,
   "metadata": {
    "collapsed": true
   },
   "outputs": [
    {
     "name": "stdout",
     "output_type": "stream",
     "text": [
      "weekday\n",
      "month\n",
      "gender\n",
      "end station id\n",
      "Rain\n",
      "weekend\n",
      "starthour\n",
      "start station id\n",
      "Snow\n",
      "rain_vol\n",
      "start_cluster\n",
      "user_enc\n",
      "Fog\n",
      "end_cluster\n",
      "off_work\n",
      "temp_level\n",
      "snow_plus_1\n",
      "dist_group\n",
      "age_group\n",
      "CPU times: user 183 ms, sys: 179 ms, total: 362 ms\n",
      "Wall time: 4min 5s\n"
     ]
    },
    {
     "name": "stderr",
     "output_type": "stream",
     "text": [
      "Process ForkPoolWorker-2:\n",
      "Process ForkPoolWorker-3:\n",
      "Process ForkPoolWorker-4:\n",
      "Process ForkPoolWorker-1:\n",
      "Traceback (most recent call last):\n",
      "Traceback (most recent call last):\n",
      "Traceback (most recent call last):\n",
      "Traceback (most recent call last):\n",
      "  File \"/Users/Ben/anaconda3/lib/python3.6/multiprocessing/process.py\", line 249, in _bootstrap\n",
      "    self.run()\n",
      "  File \"/Users/Ben/anaconda3/lib/python3.6/multiprocessing/process.py\", line 249, in _bootstrap\n",
      "    self.run()\n",
      "  File \"/Users/Ben/anaconda3/lib/python3.6/multiprocessing/process.py\", line 249, in _bootstrap\n",
      "    self.run()\n",
      "  File \"/Users/Ben/anaconda3/lib/python3.6/multiprocessing/process.py\", line 249, in _bootstrap\n",
      "    self.run()\n",
      "  File \"/Users/Ben/anaconda3/lib/python3.6/multiprocessing/process.py\", line 93, in run\n",
      "    self._target(*self._args, **self._kwargs)\n",
      "  File \"/Users/Ben/anaconda3/lib/python3.6/multiprocessing/process.py\", line 93, in run\n",
      "    self._target(*self._args, **self._kwargs)\n",
      "  File \"/Users/Ben/anaconda3/lib/python3.6/multiprocessing/process.py\", line 93, in run\n",
      "    self._target(*self._args, **self._kwargs)\n",
      "  File \"/Users/Ben/anaconda3/lib/python3.6/multiprocessing/process.py\", line 93, in run\n",
      "    self._target(*self._args, **self._kwargs)\n",
      "  File \"/Users/Ben/anaconda3/lib/python3.6/multiprocessing/pool.py\", line 108, in worker\n",
      "    task = get()\n",
      "  File \"/Users/Ben/anaconda3/lib/python3.6/multiprocessing/pool.py\", line 108, in worker\n",
      "    task = get()\n",
      "  File \"/Users/Ben/anaconda3/lib/python3.6/multiprocessing/pool.py\", line 108, in worker\n",
      "    task = get()\n",
      "  File \"/Users/Ben/anaconda3/lib/python3.6/multiprocessing/pool.py\", line 108, in worker\n",
      "    task = get()\n",
      "  File \"/Users/Ben/anaconda3/lib/python3.6/multiprocessing/queues.py\", line 341, in get\n",
      "    with self._rlock:\n",
      "  File \"/Users/Ben/anaconda3/lib/python3.6/multiprocessing/queues.py\", line 342, in get\n",
      "    res = self._reader.recv_bytes()\n",
      "  File \"/Users/Ben/anaconda3/lib/python3.6/multiprocessing/queues.py\", line 341, in get\n",
      "    with self._rlock:\n",
      "  File \"/Users/Ben/anaconda3/lib/python3.6/multiprocessing/queues.py\", line 341, in get\n",
      "    with self._rlock:\n",
      "  File \"/Users/Ben/anaconda3/lib/python3.6/multiprocessing/synchronize.py\", line 96, in __enter__\n",
      "    return self._semlock.__enter__()\n",
      "  File \"/Users/Ben/anaconda3/lib/python3.6/multiprocessing/connection.py\", line 216, in recv_bytes\n",
      "    buf = self._recv_bytes(maxlength)\n",
      "  File \"/Users/Ben/anaconda3/lib/python3.6/multiprocessing/synchronize.py\", line 96, in __enter__\n",
      "    return self._semlock.__enter__()\n",
      "  File \"/Users/Ben/anaconda3/lib/python3.6/multiprocessing/synchronize.py\", line 96, in __enter__\n",
      "    return self._semlock.__enter__()\n",
      "KeyboardInterrupt\n",
      "  File \"/Users/Ben/anaconda3/lib/python3.6/multiprocessing/connection.py\", line 407, in _recv_bytes\n",
      "    buf = self._recv(4)\n",
      "KeyboardInterrupt\n",
      "KeyboardInterrupt\n",
      "  File \"/Users/Ben/anaconda3/lib/python3.6/multiprocessing/connection.py\", line 379, in _recv\n",
      "    chunk = read(handle, remaining)\n",
      "KeyboardInterrupt\n"
     ]
    }
   ],
   "source": [
    "%%time\n",
    "pool = multiprocessing.Pool(processes=4)\n",
    "res = pool.map(reg_target_enc_trn, encode_cols)"
   ]
  },
  {
   "cell_type": "code",
   "execution_count": 18,
   "metadata": {},
   "outputs": [
    {
     "name": "stdout",
     "output_type": "stream",
     "text": [
      "gender\n",
      "starthour\n",
      "weekday\n",
      "start station id\n",
      "end station id\n",
      "weekend\n",
      "month\n",
      "Rain\n",
      "Snow\n",
      "Fog\n",
      "rain_vol\n",
      "temp_level\n",
      "start_cluster\n",
      "end_cluster\n",
      "user_enc\n",
      "off_work\n",
      "snow_plus_1\n",
      "age_group\n",
      "dist_group\n",
      "CPU times: user 31.4 s, sys: 12.3 s, total: 43.7 s\n",
      "Wall time: 49.8 s\n"
     ]
    }
   ],
   "source": [
    "%%time\n",
    "for i in range(len(res)):\n",
    "    c = encode_cols[i]\n",
    "    print(c)\n",
    "    trn[c+\"_mean_enc\"] = trn[c].map(res[i][0])\n",
    "    trn[c+\"_std_enc\"] = trn[c].map(res[i][1])"
   ]
  },
  {
   "cell_type": "code",
   "execution_count": 19,
   "metadata": {
    "collapsed": true
   },
   "outputs": [],
   "source": [
    "# def mean_enc_trn(zip_obj, v=r, \n",
    "#                    target='tripduration',std_enc=True):\n",
    "#     \"\"\" \n",
    "#     Computes target enconding for test data\n",
    "#     This is similar to how we do dfidation\n",
    "#     \"\"\"\n",
    "#     col = zip_obj[0]\n",
    "#     enc_mean, enc_std = zip_obj[1][0], zip_obj[1][1]\n",
    "#     df = v[[col]]\n",
    "#     df[col+\"_mean_enc\"] = df[col].map(enc_mean)\n",
    "\n",
    "#     if std_enc:\n",
    "#         df[col+\"_std_enc\"] = df[col].map(enc_std)\n",
    "\n",
    "#     return df[[col+\"_mean_enc\", col+\"_std_enc\"]]\n",
    "\n",
    "\n",
    "def mean_enc_val(zip_obj, v=val, \n",
    "                   target='tripduration',std_enc=True):\n",
    "    \"\"\" \n",
    "    Computes target enconding for test data\n",
    "    This is similar to how we do dfidation\n",
    "    \"\"\"\n",
    "    col = zip_obj[0]\n",
    "    enc_mean, enc_std = zip_obj[1][0], zip_obj[1][1]\n",
    "    df = v[[col]]\n",
    "    df[col+\"_mean_enc\"] = df[col].map(enc_mean)\n",
    "\n",
    "    if std_enc:\n",
    "        df[col+\"_std_enc\"] = df[col].map(enc_std)\n",
    "\n",
    "    return df[[col+\"_mean_enc\", col+\"_std_enc\"]]"
   ]
  },
  {
   "cell_type": "code",
   "execution_count": 20,
   "metadata": {
    "collapsed": true
   },
   "outputs": [
    {
     "name": "stdout",
     "output_type": "stream",
     "text": [
      "CPU times: user 1.12 s, sys: 20.5 s, total: 21.7 s\n",
      "Wall time: 28.6 s\n"
     ]
    },
    {
     "name": "stderr",
     "output_type": "stream",
     "text": [
      "Process ForkPoolWorker-5:\n",
      "Process ForkPoolWorker-7:\n",
      "Process ForkPoolWorker-8:\n",
      "Process ForkPoolWorker-6:\n",
      "Traceback (most recent call last):\n",
      "Traceback (most recent call last):\n",
      "Traceback (most recent call last):\n",
      "Traceback (most recent call last):\n",
      "  File \"/Users/Ben/anaconda3/lib/python3.6/multiprocessing/process.py\", line 249, in _bootstrap\n",
      "    self.run()\n",
      "  File \"/Users/Ben/anaconda3/lib/python3.6/multiprocessing/process.py\", line 249, in _bootstrap\n",
      "    self.run()\n",
      "  File \"/Users/Ben/anaconda3/lib/python3.6/multiprocessing/process.py\", line 249, in _bootstrap\n",
      "    self.run()\n",
      "  File \"/Users/Ben/anaconda3/lib/python3.6/multiprocessing/process.py\", line 249, in _bootstrap\n",
      "    self.run()\n",
      "  File \"/Users/Ben/anaconda3/lib/python3.6/multiprocessing/process.py\", line 93, in run\n",
      "    self._target(*self._args, **self._kwargs)\n",
      "  File \"/Users/Ben/anaconda3/lib/python3.6/multiprocessing/process.py\", line 93, in run\n",
      "    self._target(*self._args, **self._kwargs)\n",
      "  File \"/Users/Ben/anaconda3/lib/python3.6/multiprocessing/process.py\", line 93, in run\n",
      "    self._target(*self._args, **self._kwargs)\n",
      "  File \"/Users/Ben/anaconda3/lib/python3.6/multiprocessing/process.py\", line 93, in run\n",
      "    self._target(*self._args, **self._kwargs)\n",
      "  File \"/Users/Ben/anaconda3/lib/python3.6/multiprocessing/pool.py\", line 108, in worker\n",
      "    task = get()\n",
      "  File \"/Users/Ben/anaconda3/lib/python3.6/multiprocessing/pool.py\", line 108, in worker\n",
      "    task = get()\n",
      "  File \"/Users/Ben/anaconda3/lib/python3.6/multiprocessing/pool.py\", line 108, in worker\n",
      "    task = get()\n",
      "  File \"/Users/Ben/anaconda3/lib/python3.6/multiprocessing/pool.py\", line 108, in worker\n",
      "    task = get()\n",
      "  File \"/Users/Ben/anaconda3/lib/python3.6/multiprocessing/queues.py\", line 342, in get\n",
      "    res = self._reader.recv_bytes()\n",
      "  File \"/Users/Ben/anaconda3/lib/python3.6/multiprocessing/queues.py\", line 341, in get\n",
      "    with self._rlock:\n",
      "  File \"/Users/Ben/anaconda3/lib/python3.6/multiprocessing/queues.py\", line 341, in get\n",
      "    with self._rlock:\n",
      "  File \"/Users/Ben/anaconda3/lib/python3.6/multiprocessing/queues.py\", line 341, in get\n",
      "    with self._rlock:\n",
      "  File \"/Users/Ben/anaconda3/lib/python3.6/multiprocessing/connection.py\", line 216, in recv_bytes\n",
      "    buf = self._recv_bytes(maxlength)\n",
      "  File \"/Users/Ben/anaconda3/lib/python3.6/multiprocessing/synchronize.py\", line 96, in __enter__\n",
      "    return self._semlock.__enter__()\n",
      "  File \"/Users/Ben/anaconda3/lib/python3.6/multiprocessing/synchronize.py\", line 96, in __enter__\n",
      "    return self._semlock.__enter__()\n",
      "  File \"/Users/Ben/anaconda3/lib/python3.6/multiprocessing/connection.py\", line 407, in _recv_bytes\n",
      "    buf = self._recv(4)\n",
      "  File \"/Users/Ben/anaconda3/lib/python3.6/multiprocessing/synchronize.py\", line 96, in __enter__\n",
      "    return self._semlock.__enter__()\n",
      "KeyboardInterrupt\n",
      "KeyboardInterrupt\n",
      "  File \"/Users/Ben/anaconda3/lib/python3.6/multiprocessing/connection.py\", line 379, in _recv\n",
      "    chunk = read(handle, remaining)\n",
      "KeyboardInterrupt\n",
      "KeyboardInterrupt\n"
     ]
    }
   ],
   "source": [
    "%%time\n",
    "pool = multiprocessing.Pool(processes=4)\n",
    "r = pool.map(mean_enc_val, zip(encode_cols, res))"
   ]
  },
  {
   "cell_type": "code",
   "execution_count": 21,
   "metadata": {},
   "outputs": [
    {
     "name": "stdout",
     "output_type": "stream",
     "text": [
      "CPU times: user 2.59 s, sys: 2.84 s, total: 5.43 s\n",
      "Wall time: 6 s\n"
     ]
    }
   ],
   "source": [
    "%%time\n",
    "tmp = pd.concat([i for i in r], axis=1)\n",
    "val = pd.concat((val, tmp), axis=1)"
   ]
  },
  {
   "cell_type": "code",
   "execution_count": 23,
   "metadata": {},
   "outputs": [
    {
     "data": {
      "text/html": [
       "<div>\n",
       "<style>\n",
       "    .dataframe thead tr:only-child th {\n",
       "        text-align: right;\n",
       "    }\n",
       "\n",
       "    .dataframe thead th {\n",
       "        text-align: left;\n",
       "    }\n",
       "\n",
       "    .dataframe tbody tr th {\n",
       "        vertical-align: top;\n",
       "    }\n",
       "</style>\n",
       "<table border=\"1\" class=\"dataframe\">\n",
       "  <thead>\n",
       "    <tr style=\"text-align: right;\">\n",
       "      <th></th>\n",
       "      <th>index</th>\n",
       "      <th>tripduration</th>\n",
       "      <th>start station id</th>\n",
       "      <th>end station id</th>\n",
       "      <th>gender</th>\n",
       "      <th>starthour</th>\n",
       "      <th>date</th>\n",
       "      <th>weekday</th>\n",
       "      <th>weekend</th>\n",
       "      <th>month</th>\n",
       "      <th>...</th>\n",
       "      <th>user_enc_mean_enc</th>\n",
       "      <th>user_enc_std_enc</th>\n",
       "      <th>off_work_mean_enc</th>\n",
       "      <th>off_work_std_enc</th>\n",
       "      <th>snow_plus_1_mean_enc</th>\n",
       "      <th>snow_plus_1_std_enc</th>\n",
       "      <th>age_group_mean_enc</th>\n",
       "      <th>age_group_std_enc</th>\n",
       "      <th>dist_group_mean_enc</th>\n",
       "      <th>dist_group_std_enc</th>\n",
       "    </tr>\n",
       "  </thead>\n",
       "  <tbody>\n",
       "    <tr>\n",
       "      <th>0</th>\n",
       "      <td>5263797</td>\n",
       "      <td>6.739337</td>\n",
       "      <td>405</td>\n",
       "      <td>514</td>\n",
       "      <td>2</td>\n",
       "      <td>23.5</td>\n",
       "      <td>2017-06-04</td>\n",
       "      <td>7</td>\n",
       "      <td>1</td>\n",
       "      <td>6</td>\n",
       "      <td>...</td>\n",
       "      <td>6.340716</td>\n",
       "      <td>0.704413</td>\n",
       "      <td>6.409396</td>\n",
       "      <td>0.720069</td>\n",
       "      <td>6.410832</td>\n",
       "      <td>0.720703</td>\n",
       "      <td>6.347784</td>\n",
       "      <td>0.706758</td>\n",
       "      <td>6.746486</td>\n",
       "      <td>0.370500</td>\n",
       "    </tr>\n",
       "    <tr>\n",
       "      <th>1</th>\n",
       "      <td>14148066</td>\n",
       "      <td>5.993961</td>\n",
       "      <td>284</td>\n",
       "      <td>496</td>\n",
       "      <td>1</td>\n",
       "      <td>13.5</td>\n",
       "      <td>2017-11-03</td>\n",
       "      <td>5</td>\n",
       "      <td>0</td>\n",
       "      <td>11</td>\n",
       "      <td>...</td>\n",
       "      <td>6.340716</td>\n",
       "      <td>0.704413</td>\n",
       "      <td>6.409396</td>\n",
       "      <td>0.720069</td>\n",
       "      <td>6.410832</td>\n",
       "      <td>0.720703</td>\n",
       "      <td>6.347784</td>\n",
       "      <td>0.706758</td>\n",
       "      <td>6.064984</td>\n",
       "      <td>0.456506</td>\n",
       "    </tr>\n",
       "    <tr>\n",
       "      <th>2</th>\n",
       "      <td>5168070</td>\n",
       "      <td>6.563856</td>\n",
       "      <td>421</td>\n",
       "      <td>3063</td>\n",
       "      <td>1</td>\n",
       "      <td>21.5</td>\n",
       "      <td>2017-06-02</td>\n",
       "      <td>5</td>\n",
       "      <td>0</td>\n",
       "      <td>6</td>\n",
       "      <td>...</td>\n",
       "      <td>6.340716</td>\n",
       "      <td>0.704413</td>\n",
       "      <td>6.409396</td>\n",
       "      <td>0.720069</td>\n",
       "      <td>6.410832</td>\n",
       "      <td>0.720703</td>\n",
       "      <td>6.347784</td>\n",
       "      <td>0.706758</td>\n",
       "      <td>6.391882</td>\n",
       "      <td>0.407452</td>\n",
       "    </tr>\n",
       "    <tr>\n",
       "      <th>3</th>\n",
       "      <td>9107624</td>\n",
       "      <td>6.180017</td>\n",
       "      <td>368</td>\n",
       "      <td>428</td>\n",
       "      <td>1</td>\n",
       "      <td>12.0</td>\n",
       "      <td>2017-08-12</td>\n",
       "      <td>6</td>\n",
       "      <td>1</td>\n",
       "      <td>8</td>\n",
       "      <td>...</td>\n",
       "      <td>6.340716</td>\n",
       "      <td>0.704413</td>\n",
       "      <td>6.409396</td>\n",
       "      <td>0.720069</td>\n",
       "      <td>6.410832</td>\n",
       "      <td>0.720703</td>\n",
       "      <td>6.347784</td>\n",
       "      <td>0.706758</td>\n",
       "      <td>6.391882</td>\n",
       "      <td>0.407452</td>\n",
       "    </tr>\n",
       "    <tr>\n",
       "      <th>4</th>\n",
       "      <td>67419</td>\n",
       "      <td>6.001415</td>\n",
       "      <td>402</td>\n",
       "      <td>527</td>\n",
       "      <td>1</td>\n",
       "      <td>18.5</td>\n",
       "      <td>2017-01-04</td>\n",
       "      <td>3</td>\n",
       "      <td>0</td>\n",
       "      <td>1</td>\n",
       "      <td>...</td>\n",
       "      <td>6.340716</td>\n",
       "      <td>0.704413</td>\n",
       "      <td>6.409396</td>\n",
       "      <td>0.720069</td>\n",
       "      <td>6.410832</td>\n",
       "      <td>0.720703</td>\n",
       "      <td>6.347784</td>\n",
       "      <td>0.706758</td>\n",
       "      <td>6.391882</td>\n",
       "      <td>0.407452</td>\n",
       "    </tr>\n",
       "  </tbody>\n",
       "</table>\n",
       "<p>5 rows × 67 columns</p>\n",
       "</div>"
      ],
      "text/plain": [
       "      index  tripduration  start station id  end station id  gender  \\\n",
       "0   5263797      6.739337               405             514       2   \n",
       "1  14148066      5.993961               284             496       1   \n",
       "2   5168070      6.563856               421            3063       1   \n",
       "3   9107624      6.180017               368             428       1   \n",
       "4     67419      6.001415               402             527       1   \n",
       "\n",
       "   starthour       date  weekday  weekend  month         ...          \\\n",
       "0       23.5 2017-06-04        7        1      6         ...           \n",
       "1       13.5 2017-11-03        5        0     11         ...           \n",
       "2       21.5 2017-06-02        5        0      6         ...           \n",
       "3       12.0 2017-08-12        6        1      8         ...           \n",
       "4       18.5 2017-01-04        3        0      1         ...           \n",
       "\n",
       "   user_enc_mean_enc  user_enc_std_enc  off_work_mean_enc  off_work_std_enc  \\\n",
       "0           6.340716          0.704413           6.409396          0.720069   \n",
       "1           6.340716          0.704413           6.409396          0.720069   \n",
       "2           6.340716          0.704413           6.409396          0.720069   \n",
       "3           6.340716          0.704413           6.409396          0.720069   \n",
       "4           6.340716          0.704413           6.409396          0.720069   \n",
       "\n",
       "   snow_plus_1_mean_enc  snow_plus_1_std_enc  age_group_mean_enc  \\\n",
       "0              6.410832             0.720703            6.347784   \n",
       "1              6.410832             0.720703            6.347784   \n",
       "2              6.410832             0.720703            6.347784   \n",
       "3              6.410832             0.720703            6.347784   \n",
       "4              6.410832             0.720703            6.347784   \n",
       "\n",
       "   age_group_std_enc  dist_group_mean_enc  dist_group_std_enc  \n",
       "0           0.706758             6.746486            0.370500  \n",
       "1           0.706758             6.064984            0.456506  \n",
       "2           0.706758             6.391882            0.407452  \n",
       "3           0.706758             6.391882            0.407452  \n",
       "4           0.706758             6.391882            0.407452  \n",
       "\n",
       "[5 rows x 67 columns]"
      ]
     },
     "execution_count": 23,
     "metadata": {},
     "output_type": "execute_result"
    }
   ],
   "source": [
    "trn.head()"
   ]
  },
  {
   "cell_type": "code",
   "execution_count": 22,
   "metadata": {},
   "outputs": [
    {
     "data": {
      "text/html": [
       "<div>\n",
       "<style>\n",
       "    .dataframe thead tr:only-child th {\n",
       "        text-align: right;\n",
       "    }\n",
       "\n",
       "    .dataframe thead th {\n",
       "        text-align: left;\n",
       "    }\n",
       "\n",
       "    .dataframe tbody tr th {\n",
       "        vertical-align: top;\n",
       "    }\n",
       "</style>\n",
       "<table border=\"1\" class=\"dataframe\">\n",
       "  <thead>\n",
       "    <tr style=\"text-align: right;\">\n",
       "      <th></th>\n",
       "      <th>index</th>\n",
       "      <th>tripduration</th>\n",
       "      <th>start station id</th>\n",
       "      <th>end station id</th>\n",
       "      <th>gender</th>\n",
       "      <th>starthour</th>\n",
       "      <th>date</th>\n",
       "      <th>weekday</th>\n",
       "      <th>weekend</th>\n",
       "      <th>month</th>\n",
       "      <th>...</th>\n",
       "      <th>user_enc_mean_enc</th>\n",
       "      <th>user_enc_std_enc</th>\n",
       "      <th>off_work_mean_enc</th>\n",
       "      <th>off_work_std_enc</th>\n",
       "      <th>snow_plus_1_mean_enc</th>\n",
       "      <th>snow_plus_1_std_enc</th>\n",
       "      <th>age_group_mean_enc</th>\n",
       "      <th>age_group_std_enc</th>\n",
       "      <th>dist_group_mean_enc</th>\n",
       "      <th>dist_group_std_enc</th>\n",
       "    </tr>\n",
       "  </thead>\n",
       "  <tbody>\n",
       "    <tr>\n",
       "      <th>0</th>\n",
       "      <td>12663736</td>\n",
       "      <td>7.037906</td>\n",
       "      <td>3521</td>\n",
       "      <td>3372</td>\n",
       "      <td>1</td>\n",
       "      <td>11.5</td>\n",
       "      <td>2017-10-10</td>\n",
       "      <td>2</td>\n",
       "      <td>0</td>\n",
       "      <td>10</td>\n",
       "      <td>...</td>\n",
       "      <td>7.027676</td>\n",
       "      <td>0.552210</td>\n",
       "      <td>6.409396</td>\n",
       "      <td>0.720069</td>\n",
       "      <td>6.410832</td>\n",
       "      <td>0.720703</td>\n",
       "      <td>6.347784</td>\n",
       "      <td>0.706758</td>\n",
       "      <td>6.746486</td>\n",
       "      <td>0.370500</td>\n",
       "    </tr>\n",
       "    <tr>\n",
       "      <th>1</th>\n",
       "      <td>6389358</td>\n",
       "      <td>7.444833</td>\n",
       "      <td>394</td>\n",
       "      <td>315</td>\n",
       "      <td>1</td>\n",
       "      <td>11.0</td>\n",
       "      <td>2017-06-25</td>\n",
       "      <td>7</td>\n",
       "      <td>1</td>\n",
       "      <td>6</td>\n",
       "      <td>...</td>\n",
       "      <td>6.340716</td>\n",
       "      <td>0.704413</td>\n",
       "      <td>6.409396</td>\n",
       "      <td>0.720069</td>\n",
       "      <td>6.410832</td>\n",
       "      <td>0.720703</td>\n",
       "      <td>6.347784</td>\n",
       "      <td>0.706758</td>\n",
       "      <td>7.134718</td>\n",
       "      <td>0.316551</td>\n",
       "    </tr>\n",
       "    <tr>\n",
       "      <th>2</th>\n",
       "      <td>8046559</td>\n",
       "      <td>7.454720</td>\n",
       "      <td>3369</td>\n",
       "      <td>529</td>\n",
       "      <td>1</td>\n",
       "      <td>15.0</td>\n",
       "      <td>2017-07-25</td>\n",
       "      <td>2</td>\n",
       "      <td>0</td>\n",
       "      <td>7</td>\n",
       "      <td>...</td>\n",
       "      <td>6.340716</td>\n",
       "      <td>0.704413</td>\n",
       "      <td>6.409396</td>\n",
       "      <td>0.720069</td>\n",
       "      <td>6.410832</td>\n",
       "      <td>0.720703</td>\n",
       "      <td>6.347784</td>\n",
       "      <td>0.706758</td>\n",
       "      <td>7.134718</td>\n",
       "      <td>0.316551</td>\n",
       "    </tr>\n",
       "    <tr>\n",
       "      <th>3</th>\n",
       "      <td>12119889</td>\n",
       "      <td>7.056175</td>\n",
       "      <td>470</td>\n",
       "      <td>453</td>\n",
       "      <td>1</td>\n",
       "      <td>13.5</td>\n",
       "      <td>2017-10-01</td>\n",
       "      <td>7</td>\n",
       "      <td>1</td>\n",
       "      <td>10</td>\n",
       "      <td>...</td>\n",
       "      <td>6.340716</td>\n",
       "      <td>0.704413</td>\n",
       "      <td>6.409396</td>\n",
       "      <td>0.720069</td>\n",
       "      <td>6.410832</td>\n",
       "      <td>0.720703</td>\n",
       "      <td>6.390670</td>\n",
       "      <td>0.706385</td>\n",
       "      <td>5.364905</td>\n",
       "      <td>0.826955</td>\n",
       "    </tr>\n",
       "    <tr>\n",
       "      <th>4</th>\n",
       "      <td>4095392</td>\n",
       "      <td>6.577861</td>\n",
       "      <td>523</td>\n",
       "      <td>3428</td>\n",
       "      <td>1</td>\n",
       "      <td>7.0</td>\n",
       "      <td>2017-05-12</td>\n",
       "      <td>5</td>\n",
       "      <td>0</td>\n",
       "      <td>5</td>\n",
       "      <td>...</td>\n",
       "      <td>6.340716</td>\n",
       "      <td>0.704413</td>\n",
       "      <td>6.409396</td>\n",
       "      <td>0.720069</td>\n",
       "      <td>6.410832</td>\n",
       "      <td>0.720703</td>\n",
       "      <td>6.347784</td>\n",
       "      <td>0.706758</td>\n",
       "      <td>6.746486</td>\n",
       "      <td>0.370500</td>\n",
       "    </tr>\n",
       "  </tbody>\n",
       "</table>\n",
       "<p>5 rows × 67 columns</p>\n",
       "</div>"
      ],
      "text/plain": [
       "      index  tripduration  start station id  end station id  gender  \\\n",
       "0  12663736      7.037906              3521            3372       1   \n",
       "1   6389358      7.444833               394             315       1   \n",
       "2   8046559      7.454720              3369             529       1   \n",
       "3  12119889      7.056175               470             453       1   \n",
       "4   4095392      6.577861               523            3428       1   \n",
       "\n",
       "   starthour       date  weekday  weekend  month         ...          \\\n",
       "0       11.5 2017-10-10        2        0     10         ...           \n",
       "1       11.0 2017-06-25        7        1      6         ...           \n",
       "2       15.0 2017-07-25        2        0      7         ...           \n",
       "3       13.5 2017-10-01        7        1     10         ...           \n",
       "4        7.0 2017-05-12        5        0      5         ...           \n",
       "\n",
       "   user_enc_mean_enc  user_enc_std_enc  off_work_mean_enc  off_work_std_enc  \\\n",
       "0           7.027676          0.552210           6.409396          0.720069   \n",
       "1           6.340716          0.704413           6.409396          0.720069   \n",
       "2           6.340716          0.704413           6.409396          0.720069   \n",
       "3           6.340716          0.704413           6.409396          0.720069   \n",
       "4           6.340716          0.704413           6.409396          0.720069   \n",
       "\n",
       "   snow_plus_1_mean_enc  snow_plus_1_std_enc  age_group_mean_enc  \\\n",
       "0              6.410832             0.720703            6.347784   \n",
       "1              6.410832             0.720703            6.347784   \n",
       "2              6.410832             0.720703            6.347784   \n",
       "3              6.410832             0.720703            6.390670   \n",
       "4              6.410832             0.720703            6.347784   \n",
       "\n",
       "   age_group_std_enc  dist_group_mean_enc  dist_group_std_enc  \n",
       "0           0.706758             6.746486            0.370500  \n",
       "1           0.706758             7.134718            0.316551  \n",
       "2           0.706758             7.134718            0.316551  \n",
       "3           0.706385             5.364905            0.826955  \n",
       "4           0.706758             6.746486            0.370500  \n",
       "\n",
       "[5 rows x 67 columns]"
      ]
     },
     "execution_count": 22,
     "metadata": {},
     "output_type": "execute_result"
    }
   ],
   "source": [
    "val.head()"
   ]
  },
  {
   "cell_type": "code",
   "execution_count": 26,
   "metadata": {},
   "outputs": [
    {
     "data": {
      "text/plain": [
       "Index(['index', 'tripduration', 'start station id', 'end station id', 'gender',\n",
       "       'starthour', 'date', 'weekday', 'weekend', 'month', 'Temp_high',\n",
       "       'Temp_avg', 'Temp_low', 'Precip', 'Rain', 'Snow', 'Fog', 'rain_vol',\n",
       "       'temp_level', 'start_cluster', 'end_cluster', 'user_enc', 'est_dist',\n",
       "       'temp_diff', 'off_work', 'snow_plus_1', 'dist_group', 'age',\n",
       "       'age_group', 'gender_mean_enc', 'gender_std_enc', 'starthour_mean_enc',\n",
       "       'starthour_std_enc', 'weekday_mean_enc', 'weekday_std_enc',\n",
       "       'start station id_mean_enc', 'start station id_std_enc',\n",
       "       'end station id_mean_enc', 'end station id_std_enc', 'weekend_mean_enc',\n",
       "       'weekend_std_enc', 'month_mean_enc', 'month_std_enc', 'Rain_mean_enc',\n",
       "       'Rain_std_enc', 'Snow_mean_enc', 'Snow_std_enc', 'Fog_mean_enc',\n",
       "       'Fog_std_enc', 'rain_vol_mean_enc', 'rain_vol_std_enc',\n",
       "       'temp_level_mean_enc', 'temp_level_std_enc', 'start_cluster_mean_enc',\n",
       "       'start_cluster_std_enc', 'end_cluster_mean_enc', 'end_cluster_std_enc',\n",
       "       'user_enc_mean_enc', 'user_enc_std_enc', 'off_work_mean_enc',\n",
       "       'off_work_std_enc', 'snow_plus_1_mean_enc', 'snow_plus_1_std_enc',\n",
       "       'age_group_mean_enc', 'age_group_std_enc'],\n",
       "      dtype='object')"
      ]
     },
     "execution_count": 26,
     "metadata": {},
     "output_type": "execute_result"
    }
   ],
   "source": [
    "trn.columns"
   ]
  },
  {
   "cell_type": "code",
   "execution_count": 27,
   "metadata": {},
   "outputs": [
    {
     "name": "stdout",
     "output_type": "stream",
     "text": [
      "CPU times: user 6 µs, sys: 1 µs, total: 7 µs\n",
      "Wall time: 10 µs\n"
     ]
    }
   ],
   "source": [
    "%%time\n",
    "# drop\n",
    "c = encode_cols.copy()\n",
    "c.append('index')\n",
    "c.remove('snow_plus_1')\n",
    "c.append('date')\n",
    "c.append('age')\n"
   ]
  },
  {
   "cell_type": "code",
   "execution_count": 28,
   "metadata": {},
   "outputs": [
    {
     "data": {
      "text/plain": [
       "47"
      ]
     },
     "execution_count": 28,
     "metadata": {},
     "output_type": "execute_result"
    }
   ],
   "source": [
    "C = list(set(trn.columns) - set(c))\n",
    "len(C)"
   ]
  },
  {
   "cell_type": "code",
   "execution_count": 36,
   "metadata": {},
   "outputs": [
    {
     "name": "stdout",
     "output_type": "stream",
     "text": [
      "CPU times: user 2.11 s, sys: 2.91 s, total: 5.03 s\n",
      "Wall time: 6.01 s\n"
     ]
    }
   ],
   "source": [
    "%%time\n",
    "trn =  trn.drop(c, 1)"
   ]
  },
  {
   "cell_type": "code",
   "execution_count": 37,
   "metadata": {},
   "outputs": [
    {
     "name": "stdout",
     "output_type": "stream",
     "text": [
      "CPU times: user 2.46 s, sys: 6.85 s, total: 9.31 s\n",
      "Wall time: 11.9 s\n"
     ]
    }
   ],
   "source": [
    "%%time\n",
    "val =  val.drop(c, 1)"
   ]
  },
  {
   "cell_type": "code",
   "execution_count": 42,
   "metadata": {},
   "outputs": [
    {
     "data": {
      "text/plain": [
       "Index(['tripduration', 'Temp_high', 'Temp_avg', 'Temp_low', 'Precip',\n",
       "       'est_dist', 'temp_diff', 'snow_plus_1', 'gender_mean_enc',\n",
       "       'gender_std_enc', 'starthour_mean_enc', 'starthour_std_enc',\n",
       "       'weekday_mean_enc', 'weekday_std_enc', 'start station id_mean_enc',\n",
       "       'start station id_std_enc', 'end station id_mean_enc',\n",
       "       'end station id_std_enc', 'weekend_mean_enc', 'weekend_std_enc',\n",
       "       'month_mean_enc', 'month_std_enc', 'Rain_mean_enc', 'Rain_std_enc',\n",
       "       'Snow_mean_enc', 'Snow_std_enc', 'Fog_mean_enc', 'Fog_std_enc',\n",
       "       'rain_vol_mean_enc', 'rain_vol_std_enc', 'temp_level_mean_enc',\n",
       "       'temp_level_std_enc', 'start_cluster_mean_enc', 'start_cluster_std_enc',\n",
       "       'end_cluster_mean_enc', 'end_cluster_std_enc', 'user_enc_mean_enc',\n",
       "       'user_enc_std_enc', 'off_work_mean_enc', 'off_work_std_enc',\n",
       "       'snow_plus_1_mean_enc', 'snow_plus_1_std_enc', 'age_group_mean_enc',\n",
       "       'age_group_std_enc', 'dist_group_mean_enc', 'dist_group_std_enc'],\n",
       "      dtype='object')"
      ]
     },
     "execution_count": 42,
     "metadata": {},
     "output_type": "execute_result"
    }
   ],
   "source": [
    "val.columns"
   ]
  },
  {
   "cell_type": "code",
   "execution_count": 44,
   "metadata": {},
   "outputs": [
    {
     "data": {
      "text/plain": [
       "array([ True,  True,  True,  True,  True,  True,  True,  True,  True,\n",
       "        True,  True,  True,  True,  True,  True,  True,  True,  True,\n",
       "        True,  True,  True,  True,  True,  True,  True,  True,  True,\n",
       "        True,  True,  True,  True,  True,  True,  True,  True,  True,\n",
       "        True,  True,  True,  True,  True,  True,  True,  True,  True,  True], dtype=bool)"
      ]
     },
     "execution_count": 44,
     "metadata": {},
     "output_type": "execute_result"
    }
   ],
   "source": [
    "trn.columns == val.columns"
   ]
  },
  {
   "cell_type": "code",
   "execution_count": 3,
   "metadata": {},
   "outputs": [
    {
     "name": "stdout",
     "output_type": "stream",
     "text": [
      "CPU times: user 3.98 s, sys: 3.98 s, total: 7.96 s\n",
      "Wall time: 16.1 s\n"
     ]
    }
   ],
   "source": []
  },
  {
   "cell_type": "code",
   "execution_count": 47,
   "metadata": {},
   "outputs": [
    {
     "data": {
      "text/plain": [
       "start station id_std_enc    2\n",
       "end station id_std_enc      1\n",
       "dtype: int64"
      ]
     },
     "execution_count": 47,
     "metadata": {},
     "output_type": "execute_result"
    }
   ],
   "source": [
    "x = trn.isnull().sum()\n",
    "x = x[x>0]\n",
    "x"
   ]
  },
  {
   "cell_type": "code",
   "execution_count": 49,
   "metadata": {},
   "outputs": [],
   "source": [
    "for c in x.index:\n",
    "    trn[c] = trn[c].fillna(trn[c].mean())"
   ]
  },
  {
   "cell_type": "code",
   "execution_count": 52,
   "metadata": {},
   "outputs": [
    {
     "name": "stdout",
     "output_type": "stream",
     "text": [
      "end station id_mean_enc    1\n",
      "end station id_std_enc     1\n",
      "dtype: int64\n"
     ]
    }
   ],
   "source": [
    "x = val.isnull().sum()\n",
    "x = x[x>0]\n",
    "print(x)\n",
    "for c in x.index:\n",
    "    val[c] = val[c].fillna(val[c].mean())"
   ]
  },
  {
   "cell_type": "code",
   "execution_count": 55,
   "metadata": {
    "collapsed": true
   },
   "outputs": [],
   "source": [
    "trn.to_feather('trn')"
   ]
  },
  {
   "cell_type": "code",
   "execution_count": 56,
   "metadata": {
    "collapsed": true
   },
   "outputs": [],
   "source": [
    "val.to_feather('val')"
   ]
  },
  {
   "cell_type": "code",
   "execution_count": null,
   "metadata": {
    "collapsed": true
   },
   "outputs": [],
   "source": []
  }
 ],
 "metadata": {
  "kernelspec": {
   "display_name": "Python 3",
   "language": "python",
   "name": "python3"
  },
  "language_info": {
   "codemirror_mode": {
    "name": "ipython",
    "version": 3
   },
   "file_extension": ".py",
   "mimetype": "text/x-python",
   "name": "python",
   "nbconvert_exporter": "python",
   "pygments_lexer": "ipython3",
   "version": "3.6.4"
  }
 },
 "nbformat": 4,
 "nbformat_minor": 2
}
