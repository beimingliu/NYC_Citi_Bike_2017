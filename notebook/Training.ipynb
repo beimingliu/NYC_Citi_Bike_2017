{
 "cells": [
  {
   "cell_type": "code",
   "execution_count": 1,
   "metadata": {
    "collapsed": true
   },
   "outputs": [],
   "source": [
    "import os\n",
    "import pandas as pd\n",
    "import numpy as np\n",
    "import pickle\n",
    "from collections import Counter\n",
    "\n",
    "%matplotlib inline\n",
    "import seaborn as sns\n",
    "import matplotlib.pyplot as plt\n",
    "\n",
    "import warnings\n",
    "warnings.filterwarnings(\"ignore\")"
   ]
  },
  {
   "cell_type": "code",
   "execution_count": 2,
   "metadata": {
    "collapsed": true
   },
   "outputs": [],
   "source": [
    "from beiming_common import *\n",
    "%matplotlib inline\n",
    "import seaborn as sns"
   ]
  },
  {
   "cell_type": "code",
   "execution_count": 3,
   "metadata": {
    "collapsed": true
   },
   "outputs": [],
   "source": [
    "import lightgbm as lgb\n",
    "\n",
    "from sklearn.ensemble import RandomForestClassifier\n",
    "from sklearn.ensemble import RandomForestRegressor\n",
    "from sklearn.metrics import accuracy_score, log_loss, auc, roc_curve, mean_squared_error\n",
    "from sklearn.metrics import f1_score, precision_score, recall_score"
   ]
  },
  {
   "cell_type": "code",
   "execution_count": 4,
   "metadata": {},
   "outputs": [
    {
     "name": "stdout",
     "output_type": "stream",
     "text": [
      "CPU times: user 4.79 s, sys: 10.2 s, total: 15 s\n",
      "Wall time: 40.6 s\n"
     ]
    }
   ],
   "source": [
    "%%time\n",
    "trn = pd.read_feather('trn')\n",
    "val = pd.read_feather('val')"
   ]
  },
  {
   "cell_type": "code",
   "execution_count": 5,
   "metadata": {},
   "outputs": [
    {
     "data": {
      "text/plain": [
       "(12961440, 46)"
      ]
     },
     "execution_count": 5,
     "metadata": {},
     "output_type": "execute_result"
    }
   ],
   "source": [
    "trn.shape"
   ]
  },
  {
   "cell_type": "code",
   "execution_count": 6,
   "metadata": {
    "collapsed": true
   },
   "outputs": [],
   "source": [
    "trn['est_dist'] = np.log1p(trn['est_dist'])\n",
    "val['est_dist'] = np.log1p(val['est_dist'])"
   ]
  },
  {
   "cell_type": "code",
   "execution_count": 7,
   "metadata": {},
   "outputs": [
    {
     "data": {
      "text/html": [
       "<div>\n",
       "<style>\n",
       "    .dataframe thead tr:only-child th {\n",
       "        text-align: right;\n",
       "    }\n",
       "\n",
       "    .dataframe thead th {\n",
       "        text-align: left;\n",
       "    }\n",
       "\n",
       "    .dataframe tbody tr th {\n",
       "        vertical-align: top;\n",
       "    }\n",
       "</style>\n",
       "<table border=\"1\" class=\"dataframe\">\n",
       "  <thead>\n",
       "    <tr style=\"text-align: right;\">\n",
       "      <th></th>\n",
       "      <th>tripduration</th>\n",
       "      <th>Temp_high</th>\n",
       "      <th>Temp_avg</th>\n",
       "      <th>Temp_low</th>\n",
       "      <th>Precip</th>\n",
       "      <th>est_dist</th>\n",
       "      <th>temp_diff</th>\n",
       "      <th>snow_plus_1</th>\n",
       "      <th>gender_mean_enc</th>\n",
       "      <th>gender_std_enc</th>\n",
       "      <th>starthour_mean_enc</th>\n",
       "      <th>starthour_std_enc</th>\n",
       "      <th>weekday_mean_enc</th>\n",
       "      <th>weekday_std_enc</th>\n",
       "      <th>start station id_mean_enc</th>\n",
       "      <th>start station id_std_enc</th>\n",
       "      <th>end station id_mean_enc</th>\n",
       "      <th>end station id_std_enc</th>\n",
       "      <th>weekend_mean_enc</th>\n",
       "      <th>weekend_std_enc</th>\n",
       "      <th>month_mean_enc</th>\n",
       "      <th>month_std_enc</th>\n",
       "      <th>Rain_mean_enc</th>\n",
       "      <th>Rain_std_enc</th>\n",
       "      <th>Snow_mean_enc</th>\n",
       "      <th>Snow_std_enc</th>\n",
       "      <th>Fog_mean_enc</th>\n",
       "      <th>Fog_std_enc</th>\n",
       "      <th>rain_vol_mean_enc</th>\n",
       "      <th>rain_vol_std_enc</th>\n",
       "      <th>temp_level_mean_enc</th>\n",
       "      <th>temp_level_std_enc</th>\n",
       "      <th>start_cluster_mean_enc</th>\n",
       "      <th>start_cluster_std_enc</th>\n",
       "      <th>end_cluster_mean_enc</th>\n",
       "      <th>end_cluster_std_enc</th>\n",
       "      <th>user_enc_mean_enc</th>\n",
       "      <th>user_enc_std_enc</th>\n",
       "      <th>off_work_mean_enc</th>\n",
       "      <th>off_work_std_enc</th>\n",
       "      <th>snow_plus_1_mean_enc</th>\n",
       "      <th>snow_plus_1_std_enc</th>\n",
       "      <th>age_group_mean_enc</th>\n",
       "      <th>age_group_std_enc</th>\n",
       "      <th>dist_group_mean_enc</th>\n",
       "      <th>dist_group_std_enc</th>\n",
       "    </tr>\n",
       "  </thead>\n",
       "  <tbody>\n",
       "    <tr>\n",
       "      <th>0</th>\n",
       "      <td>6.739337</td>\n",
       "      <td>70</td>\n",
       "      <td>63</td>\n",
       "      <td>56</td>\n",
       "      <td>0.09</td>\n",
       "      <td>8.003363</td>\n",
       "      <td>-3</td>\n",
       "      <td>0</td>\n",
       "      <td>6.474443</td>\n",
       "      <td>0.687611</td>\n",
       "      <td>6.329964</td>\n",
       "      <td>0.737178</td>\n",
       "      <td>6.502080</td>\n",
       "      <td>0.752799</td>\n",
       "      <td>6.636288</td>\n",
       "      <td>0.666697</td>\n",
       "      <td>6.908596</td>\n",
       "      <td>0.560284</td>\n",
       "      <td>6.505435</td>\n",
       "      <td>0.748308</td>\n",
       "      <td>6.460098</td>\n",
       "      <td>0.719749</td>\n",
       "      <td>6.382563</td>\n",
       "      <td>0.717934</td>\n",
       "      <td>6.410285</td>\n",
       "      <td>0.720709</td>\n",
       "      <td>6.409599</td>\n",
       "      <td>0.720464</td>\n",
       "      <td>6.389451</td>\n",
       "      <td>0.715055</td>\n",
       "      <td>6.438768</td>\n",
       "      <td>0.722130</td>\n",
       "      <td>6.379680</td>\n",
       "      <td>0.674114</td>\n",
       "      <td>6.365921</td>\n",
       "      <td>0.671175</td>\n",
       "      <td>6.340716</td>\n",
       "      <td>0.704413</td>\n",
       "      <td>6.409396</td>\n",
       "      <td>0.720069</td>\n",
       "      <td>6.410832</td>\n",
       "      <td>0.720703</td>\n",
       "      <td>6.347784</td>\n",
       "      <td>0.706758</td>\n",
       "      <td>6.746486</td>\n",
       "      <td>0.370500</td>\n",
       "    </tr>\n",
       "    <tr>\n",
       "      <th>1</th>\n",
       "      <td>5.993961</td>\n",
       "      <td>74</td>\n",
       "      <td>63</td>\n",
       "      <td>51</td>\n",
       "      <td>0.00</td>\n",
       "      <td>7.196687</td>\n",
       "      <td>2</td>\n",
       "      <td>0</td>\n",
       "      <td>6.311982</td>\n",
       "      <td>0.708584</td>\n",
       "      <td>6.443064</td>\n",
       "      <td>0.737526</td>\n",
       "      <td>6.384463</td>\n",
       "      <td>0.711508</td>\n",
       "      <td>6.253448</td>\n",
       "      <td>0.688141</td>\n",
       "      <td>6.296133</td>\n",
       "      <td>0.611598</td>\n",
       "      <td>6.377969</td>\n",
       "      <td>0.709001</td>\n",
       "      <td>6.325141</td>\n",
       "      <td>0.716738</td>\n",
       "      <td>6.416588</td>\n",
       "      <td>0.721228</td>\n",
       "      <td>6.410285</td>\n",
       "      <td>0.720709</td>\n",
       "      <td>6.409599</td>\n",
       "      <td>0.720464</td>\n",
       "      <td>6.421399</td>\n",
       "      <td>0.722291</td>\n",
       "      <td>6.438768</td>\n",
       "      <td>0.722130</td>\n",
       "      <td>6.379680</td>\n",
       "      <td>0.674114</td>\n",
       "      <td>6.287242</td>\n",
       "      <td>0.651744</td>\n",
       "      <td>6.340716</td>\n",
       "      <td>0.704413</td>\n",
       "      <td>6.409396</td>\n",
       "      <td>0.720069</td>\n",
       "      <td>6.410832</td>\n",
       "      <td>0.720703</td>\n",
       "      <td>6.347784</td>\n",
       "      <td>0.706758</td>\n",
       "      <td>6.064984</td>\n",
       "      <td>0.456506</td>\n",
       "    </tr>\n",
       "    <tr>\n",
       "      <th>2</th>\n",
       "      <td>6.563856</td>\n",
       "      <td>76</td>\n",
       "      <td>67</td>\n",
       "      <td>57</td>\n",
       "      <td>0.01</td>\n",
       "      <td>7.675546</td>\n",
       "      <td>-3</td>\n",
       "      <td>0</td>\n",
       "      <td>6.311982</td>\n",
       "      <td>0.708584</td>\n",
       "      <td>6.357715</td>\n",
       "      <td>0.729703</td>\n",
       "      <td>6.384463</td>\n",
       "      <td>0.711508</td>\n",
       "      <td>6.300130</td>\n",
       "      <td>0.694324</td>\n",
       "      <td>6.375100</td>\n",
       "      <td>0.806395</td>\n",
       "      <td>6.377969</td>\n",
       "      <td>0.709001</td>\n",
       "      <td>6.460098</td>\n",
       "      <td>0.719749</td>\n",
       "      <td>6.416588</td>\n",
       "      <td>0.721228</td>\n",
       "      <td>6.410285</td>\n",
       "      <td>0.720709</td>\n",
       "      <td>6.409599</td>\n",
       "      <td>0.720464</td>\n",
       "      <td>6.402176</td>\n",
       "      <td>0.716659</td>\n",
       "      <td>6.476009</td>\n",
       "      <td>0.722570</td>\n",
       "      <td>6.377380</td>\n",
       "      <td>0.755415</td>\n",
       "      <td>6.386540</td>\n",
       "      <td>0.758747</td>\n",
       "      <td>6.340716</td>\n",
       "      <td>0.704413</td>\n",
       "      <td>6.409396</td>\n",
       "      <td>0.720069</td>\n",
       "      <td>6.410832</td>\n",
       "      <td>0.720703</td>\n",
       "      <td>6.347784</td>\n",
       "      <td>0.706758</td>\n",
       "      <td>6.391882</td>\n",
       "      <td>0.407452</td>\n",
       "    </tr>\n",
       "    <tr>\n",
       "      <th>3</th>\n",
       "      <td>6.180017</td>\n",
       "      <td>77</td>\n",
       "      <td>71</td>\n",
       "      <td>64</td>\n",
       "      <td>0.11</td>\n",
       "      <td>7.708411</td>\n",
       "      <td>-5</td>\n",
       "      <td>0</td>\n",
       "      <td>6.311982</td>\n",
       "      <td>0.708584</td>\n",
       "      <td>6.431937</td>\n",
       "      <td>0.743573</td>\n",
       "      <td>6.508737</td>\n",
       "      <td>0.743847</td>\n",
       "      <td>6.375959</td>\n",
       "      <td>0.647910</td>\n",
       "      <td>6.320960</td>\n",
       "      <td>0.697721</td>\n",
       "      <td>6.505435</td>\n",
       "      <td>0.748308</td>\n",
       "      <td>6.470666</td>\n",
       "      <td>0.725101</td>\n",
       "      <td>6.382563</td>\n",
       "      <td>0.717934</td>\n",
       "      <td>6.410285</td>\n",
       "      <td>0.720709</td>\n",
       "      <td>6.409599</td>\n",
       "      <td>0.720464</td>\n",
       "      <td>6.389451</td>\n",
       "      <td>0.715055</td>\n",
       "      <td>6.476009</td>\n",
       "      <td>0.722570</td>\n",
       "      <td>6.356166</td>\n",
       "      <td>0.679597</td>\n",
       "      <td>6.424941</td>\n",
       "      <td>0.696973</td>\n",
       "      <td>6.340716</td>\n",
       "      <td>0.704413</td>\n",
       "      <td>6.409396</td>\n",
       "      <td>0.720069</td>\n",
       "      <td>6.410832</td>\n",
       "      <td>0.720703</td>\n",
       "      <td>6.347784</td>\n",
       "      <td>0.706758</td>\n",
       "      <td>6.391882</td>\n",
       "      <td>0.407452</td>\n",
       "    </tr>\n",
       "    <tr>\n",
       "      <th>4</th>\n",
       "      <td>6.001415</td>\n",
       "      <td>52</td>\n",
       "      <td>44</td>\n",
       "      <td>34</td>\n",
       "      <td>0.00</td>\n",
       "      <td>7.554859</td>\n",
       "      <td>9</td>\n",
       "      <td>0</td>\n",
       "      <td>6.311982</td>\n",
       "      <td>0.708584</td>\n",
       "      <td>6.423421</td>\n",
       "      <td>0.715790</td>\n",
       "      <td>6.376942</td>\n",
       "      <td>0.705802</td>\n",
       "      <td>6.325896</td>\n",
       "      <td>0.650938</td>\n",
       "      <td>6.345532</td>\n",
       "      <td>0.641355</td>\n",
       "      <td>6.377969</td>\n",
       "      <td>0.709001</td>\n",
       "      <td>6.261284</td>\n",
       "      <td>0.682873</td>\n",
       "      <td>6.416588</td>\n",
       "      <td>0.721228</td>\n",
       "      <td>6.410285</td>\n",
       "      <td>0.720709</td>\n",
       "      <td>6.409599</td>\n",
       "      <td>0.720464</td>\n",
       "      <td>6.421399</td>\n",
       "      <td>0.722291</td>\n",
       "      <td>6.264907</td>\n",
       "      <td>0.697596</td>\n",
       "      <td>6.299158</td>\n",
       "      <td>0.659189</td>\n",
       "      <td>6.487339</td>\n",
       "      <td>0.618557</td>\n",
       "      <td>6.340716</td>\n",
       "      <td>0.704413</td>\n",
       "      <td>6.409396</td>\n",
       "      <td>0.720069</td>\n",
       "      <td>6.410832</td>\n",
       "      <td>0.720703</td>\n",
       "      <td>6.347784</td>\n",
       "      <td>0.706758</td>\n",
       "      <td>6.391882</td>\n",
       "      <td>0.407452</td>\n",
       "    </tr>\n",
       "  </tbody>\n",
       "</table>\n",
       "</div>"
      ],
      "text/plain": [
       "   tripduration  Temp_high  Temp_avg  Temp_low  Precip  est_dist  temp_diff  \\\n",
       "0      6.739337         70        63        56    0.09  8.003363         -3   \n",
       "1      5.993961         74        63        51    0.00  7.196687          2   \n",
       "2      6.563856         76        67        57    0.01  7.675546         -3   \n",
       "3      6.180017         77        71        64    0.11  7.708411         -5   \n",
       "4      6.001415         52        44        34    0.00  7.554859          9   \n",
       "\n",
       "   snow_plus_1  gender_mean_enc  gender_std_enc  starthour_mean_enc  \\\n",
       "0            0         6.474443        0.687611            6.329964   \n",
       "1            0         6.311982        0.708584            6.443064   \n",
       "2            0         6.311982        0.708584            6.357715   \n",
       "3            0         6.311982        0.708584            6.431937   \n",
       "4            0         6.311982        0.708584            6.423421   \n",
       "\n",
       "   starthour_std_enc  weekday_mean_enc  weekday_std_enc  \\\n",
       "0           0.737178          6.502080         0.752799   \n",
       "1           0.737526          6.384463         0.711508   \n",
       "2           0.729703          6.384463         0.711508   \n",
       "3           0.743573          6.508737         0.743847   \n",
       "4           0.715790          6.376942         0.705802   \n",
       "\n",
       "   start station id_mean_enc  start station id_std_enc  \\\n",
       "0                   6.636288                  0.666697   \n",
       "1                   6.253448                  0.688141   \n",
       "2                   6.300130                  0.694324   \n",
       "3                   6.375959                  0.647910   \n",
       "4                   6.325896                  0.650938   \n",
       "\n",
       "   end station id_mean_enc  end station id_std_enc  weekend_mean_enc  \\\n",
       "0                 6.908596                0.560284          6.505435   \n",
       "1                 6.296133                0.611598          6.377969   \n",
       "2                 6.375100                0.806395          6.377969   \n",
       "3                 6.320960                0.697721          6.505435   \n",
       "4                 6.345532                0.641355          6.377969   \n",
       "\n",
       "   weekend_std_enc  month_mean_enc  month_std_enc  Rain_mean_enc  \\\n",
       "0         0.748308        6.460098       0.719749       6.382563   \n",
       "1         0.709001        6.325141       0.716738       6.416588   \n",
       "2         0.709001        6.460098       0.719749       6.416588   \n",
       "3         0.748308        6.470666       0.725101       6.382563   \n",
       "4         0.709001        6.261284       0.682873       6.416588   \n",
       "\n",
       "   Rain_std_enc  Snow_mean_enc  Snow_std_enc  Fog_mean_enc  Fog_std_enc  \\\n",
       "0      0.717934       6.410285      0.720709      6.409599     0.720464   \n",
       "1      0.721228       6.410285      0.720709      6.409599     0.720464   \n",
       "2      0.721228       6.410285      0.720709      6.409599     0.720464   \n",
       "3      0.717934       6.410285      0.720709      6.409599     0.720464   \n",
       "4      0.721228       6.410285      0.720709      6.409599     0.720464   \n",
       "\n",
       "   rain_vol_mean_enc  rain_vol_std_enc  temp_level_mean_enc  \\\n",
       "0           6.389451          0.715055             6.438768   \n",
       "1           6.421399          0.722291             6.438768   \n",
       "2           6.402176          0.716659             6.476009   \n",
       "3           6.389451          0.715055             6.476009   \n",
       "4           6.421399          0.722291             6.264907   \n",
       "\n",
       "   temp_level_std_enc  start_cluster_mean_enc  start_cluster_std_enc  \\\n",
       "0            0.722130                6.379680               0.674114   \n",
       "1            0.722130                6.379680               0.674114   \n",
       "2            0.722570                6.377380               0.755415   \n",
       "3            0.722570                6.356166               0.679597   \n",
       "4            0.697596                6.299158               0.659189   \n",
       "\n",
       "   end_cluster_mean_enc  end_cluster_std_enc  user_enc_mean_enc  \\\n",
       "0              6.365921             0.671175           6.340716   \n",
       "1              6.287242             0.651744           6.340716   \n",
       "2              6.386540             0.758747           6.340716   \n",
       "3              6.424941             0.696973           6.340716   \n",
       "4              6.487339             0.618557           6.340716   \n",
       "\n",
       "   user_enc_std_enc  off_work_mean_enc  off_work_std_enc  \\\n",
       "0          0.704413           6.409396          0.720069   \n",
       "1          0.704413           6.409396          0.720069   \n",
       "2          0.704413           6.409396          0.720069   \n",
       "3          0.704413           6.409396          0.720069   \n",
       "4          0.704413           6.409396          0.720069   \n",
       "\n",
       "   snow_plus_1_mean_enc  snow_plus_1_std_enc  age_group_mean_enc  \\\n",
       "0              6.410832             0.720703            6.347784   \n",
       "1              6.410832             0.720703            6.347784   \n",
       "2              6.410832             0.720703            6.347784   \n",
       "3              6.410832             0.720703            6.347784   \n",
       "4              6.410832             0.720703            6.347784   \n",
       "\n",
       "   age_group_std_enc  dist_group_mean_enc  dist_group_std_enc  \n",
       "0           0.706758             6.746486            0.370500  \n",
       "1           0.706758             6.064984            0.456506  \n",
       "2           0.706758             6.391882            0.407452  \n",
       "3           0.706758             6.391882            0.407452  \n",
       "4           0.706758             6.391882            0.407452  "
      ]
     },
     "metadata": {},
     "output_type": "display_data"
    }
   ],
   "source": [
    "display_all(trn.head())"
   ]
  },
  {
   "cell_type": "code",
   "execution_count": 8,
   "metadata": {},
   "outputs": [
    {
     "name": "stdout",
     "output_type": "stream",
     "text": [
      "CPU times: user 5.14 s, sys: 15.8 s, total: 20.9 s\n",
      "Wall time: 23.6 s\n"
     ]
    }
   ],
   "source": [
    "%%time\n",
    "from sklearn.preprocessing import MinMaxScaler\n",
    "\n",
    "data = trn[['Temp_high', 'Temp_avg', 'Temp_low', 'temp_diff']]#.reshape(-1, 1)\n",
    "\n",
    "scaler = MinMaxScaler()\n",
    "scaler.fit(data)\n"
   ]
  },
  {
   "cell_type": "code",
   "execution_count": 9,
   "metadata": {
    "collapsed": true
   },
   "outputs": [],
   "source": [
    "trn[['Temp_high', 'Temp_avg', 'Temp_low', 'temp_diff']] = scaler.transform(data)"
   ]
  },
  {
   "cell_type": "code",
   "execution_count": 10,
   "metadata": {
    "collapsed": true
   },
   "outputs": [],
   "source": [
    "val[['Temp_high', 'Temp_avg', 'Temp_low', 'temp_diff']] = scaler.transform(val[['Temp_high', 'Temp_avg', 'Temp_low', 'temp_diff']] )"
   ]
  },
  {
   "cell_type": "code",
   "execution_count": 11,
   "metadata": {},
   "outputs": [
    {
     "data": {
      "text/html": [
       "<div>\n",
       "<style>\n",
       "    .dataframe thead tr:only-child th {\n",
       "        text-align: right;\n",
       "    }\n",
       "\n",
       "    .dataframe thead th {\n",
       "        text-align: left;\n",
       "    }\n",
       "\n",
       "    .dataframe tbody tr th {\n",
       "        vertical-align: top;\n",
       "    }\n",
       "</style>\n",
       "<table border=\"1\" class=\"dataframe\">\n",
       "  <thead>\n",
       "    <tr style=\"text-align: right;\">\n",
       "      <th></th>\n",
       "      <th>tripduration</th>\n",
       "      <th>Temp_high</th>\n",
       "      <th>Temp_avg</th>\n",
       "      <th>Temp_low</th>\n",
       "      <th>Precip</th>\n",
       "      <th>est_dist</th>\n",
       "      <th>temp_diff</th>\n",
       "      <th>snow_plus_1</th>\n",
       "      <th>gender_mean_enc</th>\n",
       "      <th>gender_std_enc</th>\n",
       "      <th>...</th>\n",
       "      <th>user_enc_mean_enc</th>\n",
       "      <th>user_enc_std_enc</th>\n",
       "      <th>off_work_mean_enc</th>\n",
       "      <th>off_work_std_enc</th>\n",
       "      <th>snow_plus_1_mean_enc</th>\n",
       "      <th>snow_plus_1_std_enc</th>\n",
       "      <th>age_group_mean_enc</th>\n",
       "      <th>age_group_std_enc</th>\n",
       "      <th>dist_group_mean_enc</th>\n",
       "      <th>dist_group_std_enc</th>\n",
       "    </tr>\n",
       "  </thead>\n",
       "  <tbody>\n",
       "    <tr>\n",
       "      <th>0</th>\n",
       "      <td>7.037906</td>\n",
       "      <td>0.828947</td>\n",
       "      <td>0.830986</td>\n",
       "      <td>0.814286</td>\n",
       "      <td>0.0</td>\n",
       "      <td>8.187577</td>\n",
       "      <td>0.641509</td>\n",
       "      <td>0</td>\n",
       "      <td>6.311982</td>\n",
       "      <td>0.708584</td>\n",
       "      <td>...</td>\n",
       "      <td>7.027676</td>\n",
       "      <td>0.552210</td>\n",
       "      <td>6.409396</td>\n",
       "      <td>0.720069</td>\n",
       "      <td>6.410832</td>\n",
       "      <td>0.720703</td>\n",
       "      <td>6.347784</td>\n",
       "      <td>0.706758</td>\n",
       "      <td>6.746486</td>\n",
       "      <td>0.370500</td>\n",
       "    </tr>\n",
       "    <tr>\n",
       "      <th>1</th>\n",
       "      <td>7.444833</td>\n",
       "      <td>0.855263</td>\n",
       "      <td>0.859155</td>\n",
       "      <td>0.842857</td>\n",
       "      <td>0.0</td>\n",
       "      <td>8.636752</td>\n",
       "      <td>0.547170</td>\n",
       "      <td>0</td>\n",
       "      <td>6.311982</td>\n",
       "      <td>0.708584</td>\n",
       "      <td>...</td>\n",
       "      <td>6.340716</td>\n",
       "      <td>0.704413</td>\n",
       "      <td>6.409396</td>\n",
       "      <td>0.720069</td>\n",
       "      <td>6.410832</td>\n",
       "      <td>0.720703</td>\n",
       "      <td>6.347784</td>\n",
       "      <td>0.706758</td>\n",
       "      <td>7.134718</td>\n",
       "      <td>0.316551</td>\n",
       "    </tr>\n",
       "    <tr>\n",
       "      <th>2</th>\n",
       "      <td>7.454720</td>\n",
       "      <td>0.697368</td>\n",
       "      <td>0.732394</td>\n",
       "      <td>0.757143</td>\n",
       "      <td>0.0</td>\n",
       "      <td>8.789812</td>\n",
       "      <td>0.528302</td>\n",
       "      <td>0</td>\n",
       "      <td>6.311982</td>\n",
       "      <td>0.708584</td>\n",
       "      <td>...</td>\n",
       "      <td>6.340716</td>\n",
       "      <td>0.704413</td>\n",
       "      <td>6.409396</td>\n",
       "      <td>0.720069</td>\n",
       "      <td>6.410832</td>\n",
       "      <td>0.720703</td>\n",
       "      <td>6.347784</td>\n",
       "      <td>0.706758</td>\n",
       "      <td>7.134718</td>\n",
       "      <td>0.316551</td>\n",
       "    </tr>\n",
       "    <tr>\n",
       "      <th>3</th>\n",
       "      <td>7.056175</td>\n",
       "      <td>0.657895</td>\n",
       "      <td>0.619718</td>\n",
       "      <td>0.585714</td>\n",
       "      <td>0.0</td>\n",
       "      <td>5.493061</td>\n",
       "      <td>0.603774</td>\n",
       "      <td>0</td>\n",
       "      <td>6.311982</td>\n",
       "      <td>0.708584</td>\n",
       "      <td>...</td>\n",
       "      <td>6.340716</td>\n",
       "      <td>0.704413</td>\n",
       "      <td>6.409396</td>\n",
       "      <td>0.720069</td>\n",
       "      <td>6.410832</td>\n",
       "      <td>0.720703</td>\n",
       "      <td>6.390670</td>\n",
       "      <td>0.706385</td>\n",
       "      <td>5.364905</td>\n",
       "      <td>0.826955</td>\n",
       "    </tr>\n",
       "    <tr>\n",
       "      <th>4</th>\n",
       "      <td>6.577861</td>\n",
       "      <td>0.618421</td>\n",
       "      <td>0.591549</td>\n",
       "      <td>0.557143</td>\n",
       "      <td>0.0</td>\n",
       "      <td>7.889834</td>\n",
       "      <td>0.622642</td>\n",
       "      <td>0</td>\n",
       "      <td>6.311982</td>\n",
       "      <td>0.708584</td>\n",
       "      <td>...</td>\n",
       "      <td>6.340716</td>\n",
       "      <td>0.704413</td>\n",
       "      <td>6.409396</td>\n",
       "      <td>0.720069</td>\n",
       "      <td>6.410832</td>\n",
       "      <td>0.720703</td>\n",
       "      <td>6.347784</td>\n",
       "      <td>0.706758</td>\n",
       "      <td>6.746486</td>\n",
       "      <td>0.370500</td>\n",
       "    </tr>\n",
       "  </tbody>\n",
       "</table>\n",
       "<p>5 rows × 46 columns</p>\n",
       "</div>"
      ],
      "text/plain": [
       "   tripduration  Temp_high  Temp_avg  Temp_low  Precip  est_dist  temp_diff  \\\n",
       "0      7.037906   0.828947  0.830986  0.814286     0.0  8.187577   0.641509   \n",
       "1      7.444833   0.855263  0.859155  0.842857     0.0  8.636752   0.547170   \n",
       "2      7.454720   0.697368  0.732394  0.757143     0.0  8.789812   0.528302   \n",
       "3      7.056175   0.657895  0.619718  0.585714     0.0  5.493061   0.603774   \n",
       "4      6.577861   0.618421  0.591549  0.557143     0.0  7.889834   0.622642   \n",
       "\n",
       "   snow_plus_1  gender_mean_enc  gender_std_enc         ...          \\\n",
       "0            0         6.311982        0.708584         ...           \n",
       "1            0         6.311982        0.708584         ...           \n",
       "2            0         6.311982        0.708584         ...           \n",
       "3            0         6.311982        0.708584         ...           \n",
       "4            0         6.311982        0.708584         ...           \n",
       "\n",
       "   user_enc_mean_enc  user_enc_std_enc  off_work_mean_enc  off_work_std_enc  \\\n",
       "0           7.027676          0.552210           6.409396          0.720069   \n",
       "1           6.340716          0.704413           6.409396          0.720069   \n",
       "2           6.340716          0.704413           6.409396          0.720069   \n",
       "3           6.340716          0.704413           6.409396          0.720069   \n",
       "4           6.340716          0.704413           6.409396          0.720069   \n",
       "\n",
       "   snow_plus_1_mean_enc  snow_plus_1_std_enc  age_group_mean_enc  \\\n",
       "0              6.410832             0.720703            6.347784   \n",
       "1              6.410832             0.720703            6.347784   \n",
       "2              6.410832             0.720703            6.347784   \n",
       "3              6.410832             0.720703            6.390670   \n",
       "4              6.410832             0.720703            6.347784   \n",
       "\n",
       "   age_group_std_enc  dist_group_mean_enc  dist_group_std_enc  \n",
       "0           0.706758             6.746486            0.370500  \n",
       "1           0.706758             7.134718            0.316551  \n",
       "2           0.706758             7.134718            0.316551  \n",
       "3           0.706385             5.364905            0.826955  \n",
       "4           0.706758             6.746486            0.370500  \n",
       "\n",
       "[5 rows x 46 columns]"
      ]
     },
     "execution_count": 11,
     "metadata": {},
     "output_type": "execute_result"
    }
   ],
   "source": [
    "val.head()"
   ]
  },
  {
   "cell_type": "code",
   "execution_count": 12,
   "metadata": {},
   "outputs": [
    {
     "data": {
      "image/png": "[encoded data removed]",
      "text/plain": [
       "<Figure size 432x288 with 1 Axes>"
      ]
     },
     "metadata": {},
     "output_type": "display_data"
    }
   ],
   "source": [
    "sns.distplot(val['temp_diff'], bins = 50);"
   ]
  },
  {
   "cell_type": "code",
   "execution_count": 13,
   "metadata": {},
   "outputs": [
    {
     "name": "stdout",
     "output_type": "stream",
     "text": [
      "CPU times: user 8.28 s, sys: 16.6 s, total: 24.9 s\n",
      "Wall time: 29.1 s\n"
     ]
    }
   ],
   "source": [
    "%%time\n",
    "y_train = trn['tripduration']\n",
    "y_val = val['tripduration']\n",
    "\n",
    "X_train = trn.drop(['tripduration'], 1)\n",
    "X_val = val.drop(['tripduration'], 1)"
   ]
  },
  {
   "cell_type": "code",
   "execution_count": 14,
   "metadata": {
    "collapsed": true
   },
   "outputs": [],
   "source": [
    "del trn, val"
   ]
  },
  {
   "cell_type": "code",
   "execution_count": 15,
   "metadata": {
    "collapsed": true
   },
   "outputs": [],
   "source": [
    "rf = RandomForestRegressor(n_jobs=-1, min_samples_leaf=10, \n",
    "                           max_features='sqrt', min_samples_split=3, \n",
    "                           n_estimators=40)"
   ]
  },
  {
   "cell_type": "code",
   "execution_count": 16,
   "metadata": {},
   "outputs": [
    {
     "name": "stdout",
     "output_type": "stream",
     "text": [
      "CPU times: user 1h 31min 56s, sys: 40.4 s, total: 1h 32min 37s\n",
      "Wall time: 12min 34s\n"
     ]
    },
    {
     "data": {
      "text/plain": [
       "RandomForestRegressor(bootstrap=True, criterion='mse', max_depth=None,\n",
       "           max_features='sqrt', max_leaf_nodes=None,\n",
       "           min_impurity_decrease=0.0, min_impurity_split=None,\n",
       "           min_samples_leaf=10, min_samples_split=3,\n",
       "           min_weight_fraction_leaf=0.0, n_estimators=40, n_jobs=-1,\n",
       "           oob_score=False, random_state=None, verbose=0, warm_start=False)"
      ]
     },
     "execution_count": 16,
     "metadata": {},
     "output_type": "execute_result"
    }
   ],
   "source": [
    "%%time\n",
    "rf.fit(X_train, y_train)"
   ]
  },
  {
   "cell_type": "code",
   "execution_count": 17,
   "metadata": {},
   "outputs": [
    {
     "name": "stdout",
     "output_type": "stream",
     "text": [
      "Training loss: 0.0942836289259\n",
      "Validation loss: 0.118486892319\n",
      "CPU times: user 10min 6s, sys: 32.6 s, total: 10min 39s\n",
      "Wall time: 2min\n"
     ]
    }
   ],
   "source": [
    "%%time\n",
    "pred_trn = rf.predict(X_train)\n",
    "pred = rf.predict(X_val)\n",
    "\n",
    "print('Training loss:', mean_squared_error(y_train, pred_trn) )\n",
    "print('Validation loss:', mean_squared_error(y_val, pred) )"
   ]
  },
  {
   "cell_type": "markdown",
   "metadata": {},
   "source": [
    "# LGBM"
   ]
  },
  {
   "cell_type": "code",
   "execution_count": 18,
   "metadata": {},
   "outputs": [
    {
     "name": "stdout",
     "output_type": "stream",
     "text": [
      "Training and predicting models...\n",
      "============================================================\n",
      "Training until validation scores don't improve for 100 rounds.\n",
      "[100]\ttraining's l2: 0.128727\tvalid_1's l2: 0.129263\n",
      "[200]\ttraining's l2: 0.123741\tvalid_1's l2: 0.124728\n",
      "[300]\ttraining's l2: 0.121111\tvalid_1's l2: 0.122598\n",
      "[400]\ttraining's l2: 0.119084\tvalid_1's l2: 0.121146\n",
      "[500]\ttraining's l2: 0.117523\tvalid_1's l2: 0.120088\n",
      "[600]\ttraining's l2: 0.116164\tvalid_1's l2: 0.119271\n",
      "[700]\ttraining's l2: 0.115007\tvalid_1's l2: 0.118618\n",
      "[800]\ttraining's l2: 0.113993\tvalid_1's l2: 0.118121\n",
      "[900]\ttraining's l2: 0.113112\tvalid_1's l2: 0.117703\n",
      "[1000]\ttraining's l2: 0.112299\tvalid_1's l2: 0.117414\n",
      "[1100]\ttraining's l2: 0.111512\tvalid_1's l2: 0.117099\n",
      "[1200]\ttraining's l2: 0.110814\tvalid_1's l2: 0.116833\n",
      "[1300]\ttraining's l2: 0.110178\tvalid_1's l2: 0.116644\n",
      "[1400]\ttraining's l2: 0.109518\tvalid_1's l2: 0.116455\n",
      "[1500]\ttraining's l2: 0.108925\tvalid_1's l2: 0.116287\n",
      "[1600]\ttraining's l2: 0.10835\tvalid_1's l2: 0.116155\n",
      "[1700]\ttraining's l2: 0.10779\tvalid_1's l2: 0.116033\n",
      "[1800]\ttraining's l2: 0.107264\tvalid_1's l2: 0.115903\n",
      "[1900]\ttraining's l2: 0.106774\tvalid_1's l2: 0.115815\n",
      "[2000]\ttraining's l2: 0.106263\tvalid_1's l2: 0.115674\n",
      "[2100]\ttraining's l2: 0.105795\tvalid_1's l2: 0.115568\n",
      "[2200]\ttraining's l2: 0.105336\tvalid_1's l2: 0.115481\n",
      "[2300]\ttraining's l2: 0.104876\tvalid_1's l2: 0.115406\n",
      "[2400]\ttraining's l2: 0.104453\tvalid_1's l2: 0.115348\n",
      "[2500]\ttraining's l2: 0.104045\tvalid_1's l2: 0.115282\n",
      "[2600]\ttraining's l2: 0.103668\tvalid_1's l2: 0.11524\n",
      "[2700]\ttraining's l2: 0.103244\tvalid_1's l2: 0.115117\n",
      "[2800]\ttraining's l2: 0.102866\tvalid_1's l2: 0.115094\n",
      "[2900]\ttraining's l2: 0.102475\tvalid_1's l2: 0.115043\n",
      "[3000]\ttraining's l2: 0.102095\tvalid_1's l2: 0.114981\n",
      "[3100]\ttraining's l2: 0.101726\tvalid_1's l2: 0.114944\n",
      "[3200]\ttraining's l2: 0.101365\tvalid_1's l2: 0.114877\n",
      "[3300]\ttraining's l2: 0.101015\tvalid_1's l2: 0.114856\n",
      "[3400]\ttraining's l2: 0.100665\tvalid_1's l2: 0.114815\n",
      "[3500]\ttraining's l2: 0.100347\tvalid_1's l2: 0.114794\n",
      "[3600]\ttraining's l2: 0.0999967\tvalid_1's l2: 0.114734\n",
      "[3700]\ttraining's l2: 0.099663\tvalid_1's l2: 0.114675\n",
      "[3800]\ttraining's l2: 0.0993615\tvalid_1's l2: 0.114668\n",
      "Early stopping, best iteration is:\n",
      "[3751]\ttraining's l2: 0.0995088\tvalid_1's l2: 0.114659\n",
      "CPU times: user 5h 3min 58s, sys: 3min 41s, total: 5h 7min 40s\n",
      "Wall time: 42min 46s\n"
     ]
    }
   ],
   "source": [
    "%%time\n",
    "print(\"Training and predicting models...\")\n",
    "params = {\n",
    "    'num_leaves': 80,\n",
    "    'objective': 'regression',\n",
    "    'min_data_in_leaf': 200,\n",
    "    'learning_rate': 0.3,\n",
    "    'feature_fraction': 0.9,\n",
    "    'bagging_fraction': 0.7,\n",
    "    'bagging_freq': 1,\n",
    "    'metric': 'l2',\n",
    "    'num_threads': 8\n",
    "}\n",
    "\n",
    "MAX_ROUNDS = 4000\n",
    "train_pred = []\n",
    "val_pred = []\n",
    "test_pred = []\n",
    "cate_vars = []\n",
    "\n",
    "\n",
    "print(\"=\" * 60)\n",
    "dtrain = lgb.Dataset(\n",
    "    X_train, label=y_train\n",
    ")\n",
    "dval = lgb.Dataset(\n",
    "    X_val, label=y_val, reference=dtrain,\n",
    ")\n",
    "bst = lgb.train(\n",
    "    params, dtrain, num_boost_round=MAX_ROUNDS,\n",
    "    valid_sets=[dtrain, dval], early_stopping_rounds=100, verbose_eval=100\n",
    ")\n",
    "\n",
    "\n",
    "train_pred.append(bst.predict(\n",
    "    X_train, num_iteration=bst.best_iteration or MAX_ROUNDS))\n",
    "val_pred.append(bst.predict(\n",
    "    X_val, num_iteration=bst.best_iteration or MAX_ROUNDS))"
   ]
  },
  {
   "cell_type": "code",
   "execution_count": 19,
   "metadata": {},
   "outputs": [
    {
     "name": "stdout",
     "output_type": "stream",
     "text": [
      "Training loss: 0.0995088064416\n",
      "Validation loss: 0.114659253833\n"
     ]
    }
   ],
   "source": [
    "print('Training loss:', mean_squared_error(y_train, train_pred[0]) )\n",
    "print('Validation loss:', mean_squared_error(y_val, val_pred[0]) )"
   ]
  },
  {
   "cell_type": "code",
   "execution_count": 20,
   "metadata": {
    "collapsed": true
   },
   "outputs": [],
   "source": [
    "fi = pd.DataFrame({'cols': X_train.columns, \n",
    "                   'imp':bst.feature_importance(\"gain\")}).sort_values('imp', ascending=False)\n",
    "fi = fi[:25]"
   ]
  },
  {
   "cell_type": "code",
   "execution_count": 21,
   "metadata": {},
   "outputs": [
    {
     "data": {
      "text/plain": [
       "<matplotlib.axes._subplots.AxesSubplot at 0x1a7f4642b0>"
      ]
     },
     "execution_count": 21,
     "metadata": {},
     "output_type": "execute_result"
    },
    {
     "data": {
      "image/png": "[encoded data removed]",
      "text/plain": [
       "<Figure size 1152x648 with 1 Axes>"
      ]
     },
     "metadata": {},
     "output_type": "display_data"
    }
   ],
   "source": [
    "#plt.figure(figsize=(20,20))\n",
    "fi.plot('cols', 'imp', 'barh', legend=False, figsize=(16,9))"
   ]
  },
  {
   "cell_type": "code",
   "execution_count": 23,
   "metadata": {},
   "outputs": [
    {
     "data": {
      "text/html": [
       "<div>\n",
       "<style>\n",
       "    .dataframe thead tr:only-child th {\n",
       "        text-align: right;\n",
       "    }\n",
       "\n",
       "    .dataframe thead th {\n",
       "        text-align: left;\n",
       "    }\n",
       "\n",
       "    .dataframe tbody tr th {\n",
       "        vertical-align: top;\n",
       "    }\n",
       "</style>\n",
       "<table border=\"1\" class=\"dataframe\">\n",
       "  <thead>\n",
       "    <tr style=\"text-align: right;\">\n",
       "      <th></th>\n",
       "      <th>y_val</th>\n",
       "      <th>pred</th>\n",
       "    </tr>\n",
       "  </thead>\n",
       "  <tbody>\n",
       "    <tr>\n",
       "      <th>0</th>\n",
       "      <td>7.037906</td>\n",
       "      <td>7.298517</td>\n",
       "    </tr>\n",
       "    <tr>\n",
       "      <th>1</th>\n",
       "      <td>7.444833</td>\n",
       "      <td>7.274317</td>\n",
       "    </tr>\n",
       "    <tr>\n",
       "      <th>2</th>\n",
       "      <td>7.454720</td>\n",
       "      <td>7.292883</td>\n",
       "    </tr>\n",
       "    <tr>\n",
       "      <th>3</th>\n",
       "      <td>7.056175</td>\n",
       "      <td>5.857837</td>\n",
       "    </tr>\n",
       "    <tr>\n",
       "      <th>4</th>\n",
       "      <td>6.577861</td>\n",
       "      <td>6.450442</td>\n",
       "    </tr>\n",
       "  </tbody>\n",
       "</table>\n",
       "</div>"
      ],
      "text/plain": [
       "      y_val      pred\n",
       "0  7.037906  7.298517\n",
       "1  7.444833  7.274317\n",
       "2  7.454720  7.292883\n",
       "3  7.056175  5.857837\n",
       "4  6.577861  6.450442"
      ]
     },
     "execution_count": 23,
     "metadata": {},
     "output_type": "execute_result"
    }
   ],
   "source": [
    "d = pd.DataFrame(y_val)\n",
    "d['pred'] = val_pred[0]\n",
    "d.columns = ['y_val', 'pred']\n",
    "d.head()"
   ]
  },
  {
   "cell_type": "code",
   "execution_count": 24,
   "metadata": {
    "collapsed": true
   },
   "outputs": [],
   "source": [
    "d['y_val'] = np.exp(d['y_val'])\n",
    "d['pred'] = np.exp(d['pred'])\n",
    "d['error'] = (d['pred']-d['y_val'])/d['y_val']\n"
   ]
  },
  {
   "cell_type": "code",
   "execution_count": 28,
   "metadata": {},
   "outputs": [
    {
     "data": {
      "image/png": "[encoded data removed]",
      "text/plain": [
       "<Figure size 432x288 with 1 Axes>"
      ]
     },
     "metadata": {},
     "output_type": "display_data"
    }
   ],
   "source": [
    "sns.distplot(d['error'][abs(d['error'])<1], bins = 100);"
   ]
  },
  {
   "cell_type": "code",
   "execution_count": 35,
   "metadata": {
    "collapsed": true
   },
   "outputs": [],
   "source": [
    "d['90%'] = (abs(d['error']) <= .1)*1\n",
    "d['80%'] = (abs(d['error']) <= .2)*1\n",
    "d['70%'] = (abs(d['error']) <= .3)*1\n",
    "d['60%'] = (abs(d['error']) <= .4)*1"
   ]
  },
  {
   "cell_type": "code",
   "execution_count": 36,
   "metadata": {},
   "outputs": [
    {
     "data": {
      "text/plain": [
       "y_val    776.850214\n",
       "pred     737.405081\n",
       "error      0.050791\n",
       "90%        0.330527\n",
       "80%        0.587811\n",
       "70%        0.754604\n",
       "60%        0.853354\n",
       "dtype: float64"
      ]
     },
     "execution_count": 36,
     "metadata": {},
     "output_type": "execute_result"
    }
   ],
   "source": [
    "d.mean()"
   ]
  },
  {
   "cell_type": "code",
   "execution_count": null,
   "metadata": {
    "collapsed": true
   },
   "outputs": [],
   "source": []
  }
 ],
 "metadata": {
  "kernelspec": {
   "display_name": "Python 3",
   "language": "python",
   "name": "python3"
  },
  "language_info": {
   "codemirror_mode": {
    "name": "ipython",
    "version": 3
   },
   "file_extension": ".py",
   "mimetype": "text/x-python",
   "name": "python",
   "nbconvert_exporter": "python",
   "pygments_lexer": "ipython3",
   "version": "3.6.2"
  }
 },
 "nbformat": 4,
 "nbformat_minor": 2
}
