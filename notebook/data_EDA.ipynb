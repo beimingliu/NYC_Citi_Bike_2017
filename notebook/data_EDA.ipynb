{
 "cells": [
  {
   "cell_type": "code",
   "execution_count": 1,
   "metadata": {
    "collapsed": true
   },
   "outputs": [],
   "source": [
    "import os\n",
    "import pandas as pd\n",
    "import numpy as np\n",
    "import pickle\n",
    "from collections import Counter\n",
    "\n",
    "%matplotlib inline\n",
    "import seaborn as sns\n",
    "import matplotlib.pyplot as plt\n",
    "\n",
    "import warnings\n",
    "warnings.filterwarnings(\"ignore\")\n",
    "\n",
    "%matplotlib inline\n",
    "import seaborn as sns\n",
    "import matplotlib.pyplot as plt\n",
    "\n",
    "import warnings\n",
    "warnings.filterwarnings(\"ignore\")"
   ]
  },
  {
   "cell_type": "code",
   "execution_count": 2,
   "metadata": {
    "collapsed": true
   },
   "outputs": [],
   "source": [
    "# Defualt image size\n",
    "import matplotlib.pylab as pylab\n",
    "pylab.rcParams['figure.figsize'] = 16, 9"
   ]
  },
  {
   "cell_type": "code",
   "execution_count": 3,
   "metadata": {},
   "outputs": [
    {
     "name": "stdout",
     "output_type": "stream",
     "text": [
      "CPU times: user 4.29 s, sys: 7.78 s, total: 12.1 s\n",
      "Wall time: 32.1 s\n"
     ]
    }
   ],
   "source": [
    "%%time\n",
    "stations_dict = pickle.load(open('stations_dict.p', \"rb\"))\n",
    "stations_latlng = pickle.load(open('stations_latlng.p', \"rb\"))\n",
    "#df = pd.read_feather('2017_all')\n",
    "df = pd.read_feather('df_')\n",
    "#df = pd.read_feather('df_train')"
   ]
  },
  {
   "cell_type": "code",
   "execution_count": 4,
   "metadata": {},
   "outputs": [
    {
     "data": {
      "text/plain": [
       "(16202165, 30)"
      ]
     },
     "execution_count": 4,
     "metadata": {},
     "output_type": "execute_result"
    }
   ],
   "source": [
    "df.shape"
   ]
  },
  {
   "cell_type": "code",
   "execution_count": 5,
   "metadata": {},
   "outputs": [
    {
     "data": {
      "text/plain": [
       "Index(['tripduration', 'starttime', 'stoptime', 'start station id',\n",
       "       'end station id', 'bikeid', 'usertype', 'birth year', 'gender',\n",
       "       'starthour', 'date', 'weekday', 'weekend', 'month', 'time', 'Temp_high',\n",
       "       'Temp_avg', 'Temp_low', 'Precip', 'Rain', 'Snow', 'Fog', 'rain_vol',\n",
       "       'temp_level', 'lat1', 'lon1', 'lat2', 'lon2', 'start_cluster',\n",
       "       'end_cluster'],\n",
       "      dtype='object')"
      ]
     },
     "execution_count": 5,
     "metadata": {},
     "output_type": "execute_result"
    }
   ],
   "source": [
    "df.columns"
   ]
  },
  {
   "cell_type": "code",
   "execution_count": 7,
   "metadata": {},
   "outputs": [
    {
     "data": {
      "text/plain": [
       "607.0"
      ]
     },
     "execution_count": 7,
     "metadata": {},
     "output_type": "execute_result"
    }
   ],
   "source": [
    "df.tripduration.median()"
   ]
  },
  {
   "cell_type": "code",
   "execution_count": 10,
   "metadata": {},
   "outputs": [
    {
     "data": {
      "text/plain": [
       "0.25     366.0\n",
       "0.50     607.0\n",
       "0.75    1040.0\n",
       "0.80    1181.0\n",
       "Name: tripduration, dtype: float64"
      ]
     },
     "execution_count": 10,
     "metadata": {},
     "output_type": "execute_result"
    }
   ],
   "source": [
    "df.tripduration.quantile([.25, .5, .75, .8])"
   ]
  },
  {
   "cell_type": "code",
   "execution_count": 6,
   "metadata": {
    "collapsed": true
   },
   "outputs": [],
   "source": [
    "# 3248, 3480 special stations\n",
    "sp_stations = [3248, 3480, 3247, 3215, 3478]\n",
    "idx = df[(df['start station id'].isin(sp_stations)) \n",
    "          | (df['end station id'].isin(sp_stations))].index\n",
    "df.drop(idx,0,inplace=True)"
   ]
  },
  {
   "cell_type": "code",
   "execution_count": 7,
   "metadata": {},
   "outputs": [
    {
     "data": {
      "text/plain": [
       "(16196043, 30)"
      ]
     },
     "execution_count": 7,
     "metadata": {},
     "output_type": "execute_result"
    }
   ],
   "source": [
    "df.shape"
   ]
  },
  {
   "cell_type": "code",
   "execution_count": 8,
   "metadata": {},
   "outputs": [
    {
     "data": {
      "text/html": [
       "<div>\n",
       "<style>\n",
       "    .dataframe thead tr:only-child th {\n",
       "        text-align: right;\n",
       "    }\n",
       "\n",
       "    .dataframe thead th {\n",
       "        text-align: left;\n",
       "    }\n",
       "\n",
       "    .dataframe tbody tr th {\n",
       "        vertical-align: top;\n",
       "    }\n",
       "</style>\n",
       "<table border=\"1\" class=\"dataframe\">\n",
       "  <thead>\n",
       "    <tr style=\"text-align: right;\">\n",
       "      <th></th>\n",
       "      <th>tripduration</th>\n",
       "      <th>starttime</th>\n",
       "      <th>stoptime</th>\n",
       "      <th>start station id</th>\n",
       "      <th>end station id</th>\n",
       "      <th>bikeid</th>\n",
       "      <th>usertype</th>\n",
       "      <th>birth year</th>\n",
       "      <th>gender</th>\n",
       "      <th>starthour</th>\n",
       "      <th>...</th>\n",
       "      <th>Snow</th>\n",
       "      <th>Fog</th>\n",
       "      <th>rain_vol</th>\n",
       "      <th>temp_level</th>\n",
       "      <th>lat1</th>\n",
       "      <th>lon1</th>\n",
       "      <th>lat2</th>\n",
       "      <th>lon2</th>\n",
       "      <th>start_cluster</th>\n",
       "      <th>end_cluster</th>\n",
       "    </tr>\n",
       "  </thead>\n",
       "  <tbody>\n",
       "    <tr>\n",
       "      <th>0</th>\n",
       "      <td>1282</td>\n",
       "      <td>2017-01-01 00:00:45</td>\n",
       "      <td>2017-01-01 00:22:08</td>\n",
       "      <td>3263</td>\n",
       "      <td>498</td>\n",
       "      <td>21136</td>\n",
       "      <td>Subscriber</td>\n",
       "      <td>1987</td>\n",
       "      <td>2</td>\n",
       "      <td>0.0</td>\n",
       "      <td>...</td>\n",
       "      <td>0</td>\n",
       "      <td>0</td>\n",
       "      <td>0</td>\n",
       "      <td>0</td>\n",
       "      <td>40.729307</td>\n",
       "      <td>-73.990839</td>\n",
       "      <td>40.748549</td>\n",
       "      <td>-73.988084</td>\n",
       "      <td>5</td>\n",
       "      <td>1</td>\n",
       "    </tr>\n",
       "    <tr>\n",
       "      <th>1</th>\n",
       "      <td>648</td>\n",
       "      <td>2017-01-01 00:00:57</td>\n",
       "      <td>2017-01-01 00:11:46</td>\n",
       "      <td>3143</td>\n",
       "      <td>3152</td>\n",
       "      <td>18147</td>\n",
       "      <td>Customer</td>\n",
       "      <td>-1</td>\n",
       "      <td>0</td>\n",
       "      <td>0.0</td>\n",
       "      <td>...</td>\n",
       "      <td>0</td>\n",
       "      <td>0</td>\n",
       "      <td>0</td>\n",
       "      <td>0</td>\n",
       "      <td>40.776372</td>\n",
       "      <td>-73.964235</td>\n",
       "      <td>40.768737</td>\n",
       "      <td>-73.961199</td>\n",
       "      <td>14</td>\n",
       "      <td>14</td>\n",
       "    </tr>\n",
       "    <tr>\n",
       "      <th>2</th>\n",
       "      <td>631</td>\n",
       "      <td>2017-01-01 00:01:10</td>\n",
       "      <td>2017-01-01 00:11:42</td>\n",
       "      <td>3143</td>\n",
       "      <td>3152</td>\n",
       "      <td>21211</td>\n",
       "      <td>Customer</td>\n",
       "      <td>-1</td>\n",
       "      <td>0</td>\n",
       "      <td>0.0</td>\n",
       "      <td>...</td>\n",
       "      <td>0</td>\n",
       "      <td>0</td>\n",
       "      <td>0</td>\n",
       "      <td>0</td>\n",
       "      <td>40.776372</td>\n",
       "      <td>-73.964235</td>\n",
       "      <td>40.768737</td>\n",
       "      <td>-73.961199</td>\n",
       "      <td>14</td>\n",
       "      <td>14</td>\n",
       "    </tr>\n",
       "  </tbody>\n",
       "</table>\n",
       "<p>3 rows × 30 columns</p>\n",
       "</div>"
      ],
      "text/plain": [
       "   tripduration           starttime            stoptime  start station id  \\\n",
       "0          1282 2017-01-01 00:00:45 2017-01-01 00:22:08              3263   \n",
       "1           648 2017-01-01 00:00:57 2017-01-01 00:11:46              3143   \n",
       "2           631 2017-01-01 00:01:10 2017-01-01 00:11:42              3143   \n",
       "\n",
       "   end station id  bikeid    usertype  birth year  gender  starthour  \\\n",
       "0             498   21136  Subscriber        1987       2        0.0   \n",
       "1            3152   18147    Customer          -1       0        0.0   \n",
       "2            3152   21211    Customer          -1       0        0.0   \n",
       "\n",
       "      ...      Snow  Fog  rain_vol  temp_level       lat1       lon1  \\\n",
       "0     ...         0    0         0           0  40.729307 -73.990839   \n",
       "1     ...         0    0         0           0  40.776372 -73.964235   \n",
       "2     ...         0    0         0           0  40.776372 -73.964235   \n",
       "\n",
       "        lat2       lon2  start_cluster  end_cluster  \n",
       "0  40.748549 -73.988084              5            1  \n",
       "1  40.768737 -73.961199             14           14  \n",
       "2  40.768737 -73.961199             14           14  \n",
       "\n",
       "[3 rows x 30 columns]"
      ]
     },
     "execution_count": 8,
     "metadata": {},
     "output_type": "execute_result"
    }
   ],
   "source": [
    "df.head(3)"
   ]
  },
  {
   "cell_type": "code",
   "execution_count": 8,
   "metadata": {},
   "outputs": [
    {
     "data": {
      "text/html": [
       "<div>\n",
       "<style>\n",
       "    .dataframe thead tr:only-child th {\n",
       "        text-align: right;\n",
       "    }\n",
       "\n",
       "    .dataframe thead th {\n",
       "        text-align: left;\n",
       "    }\n",
       "\n",
       "    .dataframe tbody tr th {\n",
       "        vertical-align: top;\n",
       "    }\n",
       "</style>\n",
       "<table border=\"1\" class=\"dataframe\">\n",
       "  <thead>\n",
       "    <tr style=\"text-align: right;\">\n",
       "      <th></th>\n",
       "      <th>tripduration</th>\n",
       "      <th>starttime</th>\n",
       "      <th>stoptime</th>\n",
       "      <th>start station id</th>\n",
       "      <th>end station id</th>\n",
       "      <th>bikeid</th>\n",
       "      <th>usertype</th>\n",
       "      <th>birth year</th>\n",
       "      <th>gender</th>\n",
       "      <th>starthour</th>\n",
       "    </tr>\n",
       "  </thead>\n",
       "  <tbody>\n",
       "    <tr>\n",
       "      <th>16659581</th>\n",
       "      <td>565</td>\n",
       "      <td>2017-12-31 23:56:07</td>\n",
       "      <td>2018-01-01 00:05:33</td>\n",
       "      <td>254</td>\n",
       "      <td>411</td>\n",
       "      <td>16125</td>\n",
       "      <td>Subscriber</td>\n",
       "      <td>1991</td>\n",
       "      <td>1</td>\n",
       "      <td>23.5</td>\n",
       "    </tr>\n",
       "    <tr>\n",
       "      <th>16659582</th>\n",
       "      <td>1659</td>\n",
       "      <td>2017-12-31 23:57:16</td>\n",
       "      <td>2018-01-01 00:24:56</td>\n",
       "      <td>495</td>\n",
       "      <td>3163</td>\n",
       "      <td>33328</td>\n",
       "      <td>Subscriber</td>\n",
       "      <td>1988</td>\n",
       "      <td>2</td>\n",
       "      <td>23.5</td>\n",
       "    </tr>\n",
       "    <tr>\n",
       "      <th>16659583</th>\n",
       "      <td>1279</td>\n",
       "      <td>2017-12-31 23:58:56</td>\n",
       "      <td>2018-01-01 00:20:16</td>\n",
       "      <td>3135</td>\n",
       "      <td>3143</td>\n",
       "      <td>31023</td>\n",
       "      <td>Subscriber</td>\n",
       "      <td>1968</td>\n",
       "      <td>2</td>\n",
       "      <td>23.5</td>\n",
       "    </tr>\n",
       "  </tbody>\n",
       "</table>\n",
       "</div>"
      ],
      "text/plain": [
       "          tripduration           starttime            stoptime  \\\n",
       "16659581           565 2017-12-31 23:56:07 2018-01-01 00:05:33   \n",
       "16659582          1659 2017-12-31 23:57:16 2018-01-01 00:24:56   \n",
       "16659583          1279 2017-12-31 23:58:56 2018-01-01 00:20:16   \n",
       "\n",
       "          start station id  end station id  bikeid    usertype  birth year  \\\n",
       "16659581               254             411   16125  Subscriber        1991   \n",
       "16659582               495            3163   33328  Subscriber        1988   \n",
       "16659583              3135            3143   31023  Subscriber        1968   \n",
       "\n",
       "          gender  starthour  \n",
       "16659581       1       23.5  \n",
       "16659582       2       23.5  \n",
       "16659583       2       23.5  "
      ]
     },
     "execution_count": 8,
     "metadata": {},
     "output_type": "execute_result"
    }
   ],
   "source": [
    "df.tail(3)"
   ]
  },
  {
   "cell_type": "code",
   "execution_count": 9,
   "metadata": {},
   "outputs": [
    {
     "name": "stdout",
     "output_type": "stream",
     "text": [
      "(329538, 10)\n"
     ]
    }
   ],
   "source": [
    "# 2% of the trips ends up in the same station, ignore these for our purpose\n",
    "print(df[df['start station id'] == df['end station id']].shape)\n",
    "df = df[df['start station id'] != df['end station id']]"
   ]
  },
  {
   "cell_type": "code",
   "execution_count": 10,
   "metadata": {},
   "outputs": [
    {
     "data": {
      "text/plain": [
       "0.0000        61.000000\n",
       "0.1000       237.000000\n",
       "0.2500       368.000000\n",
       "0.5000       611.000000\n",
       "0.7500      1055.000000\n",
       "0.9900      3166.000000\n",
       "0.9990     16039.422000\n",
       "0.9999    301717.545799\n",
       "Name: tripduration, dtype: float64"
      ]
     },
     "execution_count": 10,
     "metadata": {},
     "output_type": "execute_result"
    }
   ],
   "source": [
    "df.tripduration.quantile([0, .1, .25, .5, .75, .99, .999, .9999])"
   ]
  },
  {
   "cell_type": "code",
   "execution_count": 9,
   "metadata": {},
   "outputs": [
    {
     "name": "stdout",
     "output_type": "stream",
     "text": [
      "(16196043, 30)\n"
     ]
    }
   ],
   "source": [
    "# only look those trips are less or equal to one hour\n",
    "df = df[df.tripduration <= 3600]\n",
    "print(df.shape)"
   ]
  },
  {
   "cell_type": "code",
   "execution_count": 12,
   "metadata": {},
   "outputs": [
    {
     "data": {
      "image/png": "[encoded data removed]",
      "text/plain": [
       "<Figure size 1152x648 with 1 Axes>"
      ]
     },
     "metadata": {},
     "output_type": "display_data"
    }
   ],
   "source": [
    "d = df.tripduration\n",
    "sns.distplot(d, bins = 100);"
   ]
  },
  {
   "cell_type": "code",
   "execution_count": 13,
   "metadata": {},
   "outputs": [
    {
     "data": {
      "image/png": "[encoded data removed]",
      "text/plain": [
       "<Figure size 1152x648 with 1 Axes>"
      ]
     },
     "metadata": {},
     "output_type": "display_data"
    }
   ],
   "source": [
    "sns.distplot(np.log(d), bins = 100);\n",
    "del d"
   ]
  },
  {
   "cell_type": "code",
   "execution_count": 14,
   "metadata": {},
   "outputs": [
    {
     "data": {
      "text/plain": [
       "Counter({'Customer': 1592527, 'Subscriber': 14609638})"
      ]
     },
     "execution_count": 14,
     "metadata": {},
     "output_type": "execute_result"
    }
   ],
   "source": [
    "Counter(df.usertype)"
   ]
  },
  {
   "cell_type": "code",
   "execution_count": 15,
   "metadata": {},
   "outputs": [
    {
     "name": "stdout",
     "output_type": "stream",
     "text": [
      "CPU times: user 45.3 s, sys: 1.56 s, total: 46.9 s\n",
      "Wall time: 46.8 s\n"
     ]
    }
   ],
   "source": [
    "%%time\n",
    "df['date'] = df['starttime'].apply(lambda x: x.date())"
   ]
  },
  {
   "cell_type": "code",
   "execution_count": 16,
   "metadata": {},
   "outputs": [
    {
     "name": "stdout",
     "output_type": "stream",
     "text": [
      "CPU times: user 894 ms, sys: 5.56 ms, total: 899 ms\n",
      "Wall time: 899 ms\n"
     ]
    }
   ],
   "source": [
    "%%time\n",
    "S = set(df['date'])\n",
    "d = dict()\n",
    "for s in S:\n",
    "    d[s] = s.weekday() + 1"
   ]
  },
  {
   "cell_type": "code",
   "execution_count": 17,
   "metadata": {
    "collapsed": true
   },
   "outputs": [],
   "source": [
    "df['weekday'] = df['date'].map(d)"
   ]
  },
  {
   "cell_type": "code",
   "execution_count": 18,
   "metadata": {},
   "outputs": [
    {
     "data": {
      "text/plain": [
       "<matplotlib.axes._subplots.AxesSubplot at 0x107cf8390>"
      ]
     },
     "execution_count": 18,
     "metadata": {},
     "output_type": "execute_result"
    },
    {
     "data": {
      "image/png": "[encoded data removed]",
      "text/plain": [
       "<Figure size 432x288 with 1 Axes>"
      ]
     },
     "metadata": {},
     "output_type": "display_data"
    }
   ],
   "source": [
    "sns.barplot(x=\"weekday\", y=\"tripduration\", data=df.sample(500000))"
   ]
  },
  {
   "cell_type": "code",
   "execution_count": 19,
   "metadata": {},
   "outputs": [
    {
     "data": {
      "text/plain": [
       "<matplotlib.axes._subplots.AxesSubplot at 0x1a1778d668>"
      ]
     },
     "execution_count": 19,
     "metadata": {},
     "output_type": "execute_result"
    },
    {
     "data": {
      "image/png": "[encoded data removed]",
      "text/plain": [
       "<Figure size 432x288 with 1 Axes>"
      ]
     },
     "metadata": {},
     "output_type": "display_data"
    }
   ],
   "source": [
    "sns.barplot(x=\"weekday\", y=\"tripduration\", data=df[df.usertype == 'Customer'].sample(100000))"
   ]
  },
  {
   "cell_type": "code",
   "execution_count": 20,
   "metadata": {},
   "outputs": [
    {
     "data": {
      "text/plain": [
       "<matplotlib.axes._subplots.AxesSubplot at 0x1a17631208>"
      ]
     },
     "execution_count": 20,
     "metadata": {},
     "output_type": "execute_result"
    },
    {
     "data": {
      "image/png": "[encoded data removed]",
      "text/plain": [
       "<Figure size 432x288 with 1 Axes>"
      ]
     },
     "metadata": {},
     "output_type": "display_data"
    }
   ],
   "source": [
    "sns.barplot(x=\"weekday\", y=\"tripduration\", data=df[df.usertype == 'Subscriber'].sample(100000))"
   ]
  },
  {
   "cell_type": "code",
   "execution_count": 24,
   "metadata": {},
   "outputs": [
    {
     "data": {
      "text/plain": [
       "Index(['tripduration', 'starttime', 'stoptime', 'start station id',\n",
       "       'end station id', 'bikeid', 'usertype', 'birth year', 'gender',\n",
       "       'starthour', 'date', 'weekday', 'weekend', 'month', 'time', 'Temp_high',\n",
       "       'Temp_avg', 'Temp_low', 'Precip', 'Rain', 'Snow', 'Fog', 'rain_vol',\n",
       "       'temp_level', 'lat1', 'lon1', 'lat2', 'lon2', 'start_cluster',\n",
       "       'end_cluster'],\n",
       "      dtype='object')"
      ]
     },
     "execution_count": 24,
     "metadata": {},
     "output_type": "execute_result"
    }
   ],
   "source": [
    "df.columns"
   ]
  },
  {
   "cell_type": "code",
   "execution_count": 25,
   "metadata": {},
   "outputs": [
    {
     "data": {
      "text/html": [
       "<div>\n",
       "<style>\n",
       "    .dataframe thead tr:only-child th {\n",
       "        text-align: right;\n",
       "    }\n",
       "\n",
       "    .dataframe thead th {\n",
       "        text-align: left;\n",
       "    }\n",
       "\n",
       "    .dataframe tbody tr th {\n",
       "        vertical-align: top;\n",
       "    }\n",
       "</style>\n",
       "<table border=\"1\" class=\"dataframe\">\n",
       "  <thead>\n",
       "    <tr style=\"text-align: right;\">\n",
       "      <th></th>\n",
       "      <th>weekday</th>\n",
       "      <th>weekend</th>\n",
       "      <th>tripduration</th>\n",
       "      <th>date</th>\n",
       "      <th>avg_trip_num</th>\n",
       "    </tr>\n",
       "  </thead>\n",
       "  <tbody>\n",
       "    <tr>\n",
       "      <th>0</th>\n",
       "      <td>1</td>\n",
       "      <td>0</td>\n",
       "      <td>2302067</td>\n",
       "      <td>52</td>\n",
       "      <td>44270.519231</td>\n",
       "    </tr>\n",
       "    <tr>\n",
       "      <th>1</th>\n",
       "      <td>2</td>\n",
       "      <td>0</td>\n",
       "      <td>2436273</td>\n",
       "      <td>51</td>\n",
       "      <td>47770.058824</td>\n",
       "    </tr>\n",
       "    <tr>\n",
       "      <th>2</th>\n",
       "      <td>3</td>\n",
       "      <td>0</td>\n",
       "      <td>2673950</td>\n",
       "      <td>51</td>\n",
       "      <td>52430.392157</td>\n",
       "    </tr>\n",
       "    <tr>\n",
       "      <th>3</th>\n",
       "      <td>4</td>\n",
       "      <td>0</td>\n",
       "      <td>2564361</td>\n",
       "      <td>50</td>\n",
       "      <td>51287.220000</td>\n",
       "    </tr>\n",
       "    <tr>\n",
       "      <th>4</th>\n",
       "      <td>5</td>\n",
       "      <td>0</td>\n",
       "      <td>2375396</td>\n",
       "      <td>52</td>\n",
       "      <td>45680.692308</td>\n",
       "    </tr>\n",
       "  </tbody>\n",
       "</table>\n",
       "</div>"
      ],
      "text/plain": [
       "   weekday  weekend  tripduration  date  avg_trip_num\n",
       "0        1        0       2302067    52  44270.519231\n",
       "1        2        0       2436273    51  47770.058824\n",
       "2        3        0       2673950    51  52430.392157\n",
       "3        4        0       2564361    50  51287.220000\n",
       "4        5        0       2375396    52  45680.692308"
      ]
     },
     "execution_count": 25,
     "metadata": {},
     "output_type": "execute_result"
    }
   ],
   "source": [
    "\n",
    "tmp.head()"
   ]
  },
  {
   "cell_type": "code",
   "execution_count": 26,
   "metadata": {},
   "outputs": [
    {
     "data": {
      "text/plain": [
       "<matplotlib.axes._subplots.AxesSubplot at 0x1a15b044a8>"
      ]
     },
     "execution_count": 26,
     "metadata": {},
     "output_type": "execute_result"
    },
    {
     "data": {
      "image/png": "[encoded data removed]",
      "text/plain": [
       "<Figure size 1152x648 with 1 Axes>"
      ]
     },
     "metadata": {},
     "output_type": "display_data"
    }
   ],
   "source": [
    "# # number of trips vs. dow\n",
    "tmp = df.groupby(['weekday','weekend'])\\\n",
    "        .agg({'tripduration': 'size', \n",
    "              'date': lambda x: x.nunique()}).reset_index()\n",
    "        \n",
    "tmp['avg_trip_num'] = tmp['tripduration']/tmp['date']\n",
    "sns.barplot(x=\"weekday\", y=\"avg_trip_num\", hue='weekend', data=tmp)"
   ]
  },
  {
   "cell_type": "code",
   "execution_count": 22,
   "metadata": {},
   "outputs": [
    {
     "data": {
      "text/plain": [
       "<matplotlib.axes._subplots.AxesSubplot at 0x1a17694b70>"
      ]
     },
     "execution_count": 22,
     "metadata": {},
     "output_type": "execute_result"
    },
    {
     "data": {
      "image/png": "[encoded data removed]",
      "text/plain": [
       "<Figure size 432x288 with 1 Axes>"
      ]
     },
     "metadata": {},
     "output_type": "display_data"
    }
   ],
   "source": [
    "# consumer\n",
    "# number of trips vs. dow\n",
    "tmp = df[df.usertype == 'Customer'].groupby(['weekday']).tripduration.size().reset_index()\n",
    "sns.regplot(x=\"weekday\", y=\"tripduration\", data=tmp,\n",
    "            scatter_kws={\"s\": 50},\n",
    "            order=2, ci=None, truncate=True, fit_reg=False)"
   ]
  },
  {
   "cell_type": "code",
   "execution_count": 23,
   "metadata": {},
   "outputs": [
    {
     "name": "stdout",
     "output_type": "stream",
     "text": [
      "CPU times: user 5 s, sys: 413 ms, total: 5.41 s\n",
      "Wall time: 5.44 s\n"
     ]
    }
   ],
   "source": [
    "%%time\n",
    "df['weekend'] = df['weekday'].map(lambda x: 0 if x < 6 else 1)"
   ]
  },
  {
   "cell_type": "code",
   "execution_count": 24,
   "metadata": {
    "collapsed": true
   },
   "outputs": [],
   "source": [
    "S = set(df.date)\n",
    "d = dict()\n",
    "for s in S:\n",
    "    d[s] = s.month\n",
    "df['month'] = df['date'].map(d)"
   ]
  },
  {
   "cell_type": "code",
   "execution_count": 11,
   "metadata": {},
   "outputs": [
    {
     "data": {
      "text/html": [
       "<div>\n",
       "<style>\n",
       "    .dataframe thead tr:only-child th {\n",
       "        text-align: right;\n",
       "    }\n",
       "\n",
       "    .dataframe thead th {\n",
       "        text-align: left;\n",
       "    }\n",
       "\n",
       "    .dataframe tbody tr th {\n",
       "        vertical-align: top;\n",
       "    }\n",
       "</style>\n",
       "<table border=\"1\" class=\"dataframe\">\n",
       "  <thead>\n",
       "    <tr style=\"text-align: right;\">\n",
       "      <th></th>\n",
       "      <th>starthour</th>\n",
       "      <th>tripduration</th>\n",
       "    </tr>\n",
       "  </thead>\n",
       "  <tbody>\n",
       "    <tr>\n",
       "      <th>0</th>\n",
       "      <td>0.0</td>\n",
       "      <td>81065</td>\n",
       "    </tr>\n",
       "    <tr>\n",
       "      <th>1</th>\n",
       "      <td>0.5</td>\n",
       "      <td>58510</td>\n",
       "    </tr>\n",
       "    <tr>\n",
       "      <th>2</th>\n",
       "      <td>1.0</td>\n",
       "      <td>44525</td>\n",
       "    </tr>\n",
       "    <tr>\n",
       "      <th>3</th>\n",
       "      <td>1.5</td>\n",
       "      <td>31821</td>\n",
       "    </tr>\n",
       "    <tr>\n",
       "      <th>4</th>\n",
       "      <td>2.0</td>\n",
       "      <td>24638</td>\n",
       "    </tr>\n",
       "    <tr>\n",
       "      <th>5</th>\n",
       "      <td>2.5</td>\n",
       "      <td>18350</td>\n",
       "    </tr>\n",
       "    <tr>\n",
       "      <th>6</th>\n",
       "      <td>3.0</td>\n",
       "      <td>14881</td>\n",
       "    </tr>\n",
       "    <tr>\n",
       "      <th>7</th>\n",
       "      <td>3.5</td>\n",
       "      <td>11298</td>\n",
       "    </tr>\n",
       "    <tr>\n",
       "      <th>8</th>\n",
       "      <td>4.0</td>\n",
       "      <td>10887</td>\n",
       "    </tr>\n",
       "    <tr>\n",
       "      <th>9</th>\n",
       "      <td>4.5</td>\n",
       "      <td>16020</td>\n",
       "    </tr>\n",
       "    <tr>\n",
       "      <th>10</th>\n",
       "      <td>5.0</td>\n",
       "      <td>28130</td>\n",
       "    </tr>\n",
       "    <tr>\n",
       "      <th>11</th>\n",
       "      <td>5.5</td>\n",
       "      <td>73060</td>\n",
       "    </tr>\n",
       "    <tr>\n",
       "      <th>12</th>\n",
       "      <td>6.0</td>\n",
       "      <td>134392</td>\n",
       "    </tr>\n",
       "    <tr>\n",
       "      <th>13</th>\n",
       "      <td>6.5</td>\n",
       "      <td>228619</td>\n",
       "    </tr>\n",
       "    <tr>\n",
       "      <th>14</th>\n",
       "      <td>7.0</td>\n",
       "      <td>302362</td>\n",
       "    </tr>\n",
       "    <tr>\n",
       "      <th>15</th>\n",
       "      <td>7.5</td>\n",
       "      <td>458834</td>\n",
       "    </tr>\n",
       "    <tr>\n",
       "      <th>16</th>\n",
       "      <td>8.0</td>\n",
       "      <td>613643</td>\n",
       "    </tr>\n",
       "    <tr>\n",
       "      <th>17</th>\n",
       "      <td>8.5</td>\n",
       "      <td>717812</td>\n",
       "    </tr>\n",
       "    <tr>\n",
       "      <th>18</th>\n",
       "      <td>9.0</td>\n",
       "      <td>573329</td>\n",
       "    </tr>\n",
       "    <tr>\n",
       "      <th>19</th>\n",
       "      <td>9.5</td>\n",
       "      <td>459251</td>\n",
       "    </tr>\n",
       "    <tr>\n",
       "      <th>20</th>\n",
       "      <td>10.0</td>\n",
       "      <td>366554</td>\n",
       "    </tr>\n",
       "    <tr>\n",
       "      <th>21</th>\n",
       "      <td>10.5</td>\n",
       "      <td>353225</td>\n",
       "    </tr>\n",
       "    <tr>\n",
       "      <th>22</th>\n",
       "      <td>11.0</td>\n",
       "      <td>348706</td>\n",
       "    </tr>\n",
       "    <tr>\n",
       "      <th>23</th>\n",
       "      <td>11.5</td>\n",
       "      <td>397463</td>\n",
       "    </tr>\n",
       "    <tr>\n",
       "      <th>24</th>\n",
       "      <td>12.0</td>\n",
       "      <td>422374</td>\n",
       "    </tr>\n",
       "    <tr>\n",
       "      <th>25</th>\n",
       "      <td>12.5</td>\n",
       "      <td>437212</td>\n",
       "    </tr>\n",
       "    <tr>\n",
       "      <th>26</th>\n",
       "      <td>13.0</td>\n",
       "      <td>441952</td>\n",
       "    </tr>\n",
       "    <tr>\n",
       "      <th>27</th>\n",
       "      <td>13.5</td>\n",
       "      <td>456344</td>\n",
       "    </tr>\n",
       "    <tr>\n",
       "      <th>28</th>\n",
       "      <td>14.0</td>\n",
       "      <td>460449</td>\n",
       "    </tr>\n",
       "    <tr>\n",
       "      <th>29</th>\n",
       "      <td>14.5</td>\n",
       "      <td>468050</td>\n",
       "    </tr>\n",
       "    <tr>\n",
       "      <th>30</th>\n",
       "      <td>15.0</td>\n",
       "      <td>476169</td>\n",
       "    </tr>\n",
       "    <tr>\n",
       "      <th>31</th>\n",
       "      <td>15.5</td>\n",
       "      <td>500748</td>\n",
       "    </tr>\n",
       "    <tr>\n",
       "      <th>32</th>\n",
       "      <td>16.0</td>\n",
       "      <td>541029</td>\n",
       "    </tr>\n",
       "    <tr>\n",
       "      <th>33</th>\n",
       "      <td>16.5</td>\n",
       "      <td>600137</td>\n",
       "    </tr>\n",
       "    <tr>\n",
       "      <th>34</th>\n",
       "      <td>17.0</td>\n",
       "      <td>779513</td>\n",
       "    </tr>\n",
       "    <tr>\n",
       "      <th>35</th>\n",
       "      <td>17.5</td>\n",
       "      <td>824878</td>\n",
       "    </tr>\n",
       "    <tr>\n",
       "      <th>36</th>\n",
       "      <td>18.0</td>\n",
       "      <td>831117</td>\n",
       "    </tr>\n",
       "    <tr>\n",
       "      <th>37</th>\n",
       "      <td>18.5</td>\n",
       "      <td>711544</td>\n",
       "    </tr>\n",
       "    <tr>\n",
       "      <th>38</th>\n",
       "      <td>19.0</td>\n",
       "      <td>590240</td>\n",
       "    </tr>\n",
       "    <tr>\n",
       "      <th>39</th>\n",
       "      <td>19.5</td>\n",
       "      <td>472342</td>\n",
       "    </tr>\n",
       "    <tr>\n",
       "      <th>40</th>\n",
       "      <td>20.0</td>\n",
       "      <td>391704</td>\n",
       "    </tr>\n",
       "    <tr>\n",
       "      <th>41</th>\n",
       "      <td>20.5</td>\n",
       "      <td>320321</td>\n",
       "    </tr>\n",
       "    <tr>\n",
       "      <th>42</th>\n",
       "      <td>21.0</td>\n",
       "      <td>268824</td>\n",
       "    </tr>\n",
       "    <tr>\n",
       "      <th>43</th>\n",
       "      <td>21.5</td>\n",
       "      <td>227984</td>\n",
       "    </tr>\n",
       "    <tr>\n",
       "      <th>44</th>\n",
       "      <td>22.0</td>\n",
       "      <td>203259</td>\n",
       "    </tr>\n",
       "    <tr>\n",
       "      <th>45</th>\n",
       "      <td>22.5</td>\n",
       "      <td>168247</td>\n",
       "    </tr>\n",
       "    <tr>\n",
       "      <th>46</th>\n",
       "      <td>23.0</td>\n",
       "      <td>135871</td>\n",
       "    </tr>\n",
       "    <tr>\n",
       "      <th>47</th>\n",
       "      <td>23.5</td>\n",
       "      <td>104482</td>\n",
       "    </tr>\n",
       "  </tbody>\n",
       "</table>\n",
       "</div>"
      ],
      "text/plain": [
       "    starthour  tripduration\n",
       "0         0.0         81065\n",
       "1         0.5         58510\n",
       "2         1.0         44525\n",
       "3         1.5         31821\n",
       "4         2.0         24638\n",
       "5         2.5         18350\n",
       "6         3.0         14881\n",
       "7         3.5         11298\n",
       "8         4.0         10887\n",
       "9         4.5         16020\n",
       "10        5.0         28130\n",
       "11        5.5         73060\n",
       "12        6.0        134392\n",
       "13        6.5        228619\n",
       "14        7.0        302362\n",
       "15        7.5        458834\n",
       "16        8.0        613643\n",
       "17        8.5        717812\n",
       "18        9.0        573329\n",
       "19        9.5        459251\n",
       "20       10.0        366554\n",
       "21       10.5        353225\n",
       "22       11.0        348706\n",
       "23       11.5        397463\n",
       "24       12.0        422374\n",
       "25       12.5        437212\n",
       "26       13.0        441952\n",
       "27       13.5        456344\n",
       "28       14.0        460449\n",
       "29       14.5        468050\n",
       "30       15.0        476169\n",
       "31       15.5        500748\n",
       "32       16.0        541029\n",
       "33       16.5        600137\n",
       "34       17.0        779513\n",
       "35       17.5        824878\n",
       "36       18.0        831117\n",
       "37       18.5        711544\n",
       "38       19.0        590240\n",
       "39       19.5        472342\n",
       "40       20.0        391704\n",
       "41       20.5        320321\n",
       "42       21.0        268824\n",
       "43       21.5        227984\n",
       "44       22.0        203259\n",
       "45       22.5        168247\n",
       "46       23.0        135871\n",
       "47       23.5        104482"
      ]
     },
     "metadata": {},
     "output_type": "display_data"
    },
    {
     "data": {
      "image/png": "[encoded data removed]",
      "text/plain": [
       "<Figure size 1152x648 with 1 Axes>"
      ]
     },
     "metadata": {},
     "output_type": "display_data"
    }
   ],
   "source": [
    "# number of trips vs. hours\n",
    "tmp = df.groupby(['starthour']).tripduration.size().reset_index()\n",
    "display(tmp)\n",
    "sns.regplot(x=\"starthour\", y=\"tripduration\", data=tmp,\n",
    "            scatter_kws={\"s\": 50}, ci=None, fit_reg=False);"
   ]
  },
  {
   "cell_type": "code",
   "execution_count": 26,
   "metadata": {
    "collapsed": true
   },
   "outputs": [],
   "source": [
    "def hour_min(time):\n",
    "    t = time.split(':')\n",
    "    return int(t[0])*100 + int(t[1])/60*100"
   ]
  },
  {
   "cell_type": "code",
   "execution_count": 27,
   "metadata": {},
   "outputs": [
    {
     "name": "stdout",
     "output_type": "stream",
     "text": [
      "CPU times: user 40.8 s, sys: 1.92 s, total: 42.7 s\n",
      "Wall time: 42.7 s\n"
     ]
    }
   ],
   "source": [
    "%%time\n",
    "df['time'] = df['starttime'].astype(str).apply(lambda x: x[11:])\n",
    "df['time'] = df['time'].map(lambda x: hour_min(x))"
   ]
  },
  {
   "cell_type": "code",
   "execution_count": 32,
   "metadata": {},
   "outputs": [
    {
     "data": {
      "text/plain": [
       "(0, 2400)"
      ]
     },
     "execution_count": 32,
     "metadata": {},
     "output_type": "execute_result"
    },
    {
     "data": {
      "image/png": "[encoded data removed]",
      "text/plain": [
       "<Figure size 1152x648 with 1 Axes>"
      ]
     },
     "metadata": {},
     "output_type": "display_data"
    }
   ],
   "source": [
    "# # number of trips vs. dow\n",
    "tmp = df.groupby(['time'])\\\n",
    "        .agg({'tripduration': 'size', \n",
    "              'date': lambda x: x.nunique()}).reset_index()\n",
    "        \n",
    "tmp['avg_trip_num'] = tmp['tripduration']/tmp['date']\n",
    "s = sns.regplot(x=\"time\", y=\"avg_trip_num\", data=tmp,\n",
    "            scatter_kws={\"s\": 10}, ci=None, fit_reg=False);\n",
    "axes = s.axes\n",
    "axes.set_xlim(0,2400)"
   ]
  },
  {
   "cell_type": "code",
   "execution_count": 29,
   "metadata": {},
   "outputs": [
    {
     "data": {
      "image/png": "[encoded data removed]",
      "text/plain": [
       "<Figure size 432x288 with 1 Axes>"
      ]
     },
     "metadata": {},
     "output_type": "display_data"
    }
   ],
   "source": [
    "# Customer\n",
    "# number of trips vs. HH%MM\n",
    "tmp = df[df.usertype == 'Customer'].groupby(['time']).tripduration.size().reset_index()\n",
    "sns.regplot(x=\"time\", y=\"tripduration\", data=tmp,\n",
    "            scatter_kws={\"s\": 10}, ci=None, fit_reg=False);"
   ]
  },
  {
   "cell_type": "code",
   "execution_count": 30,
   "metadata": {},
   "outputs": [
    {
     "data": {
      "image/png": "[encoded data removed]",
      "text/plain": [
       "<Figure size 432x288 with 1 Axes>"
      ]
     },
     "metadata": {},
     "output_type": "display_data"
    }
   ],
   "source": [
    "# Customer\n",
    "# number of trips vs. HH%MM\n",
    "tmp = df[df.usertype == 'Subscriber'].groupby(['time']).tripduration.size().reset_index()\n",
    "sns.regplot(x=\"time\", y=\"tripduration\", data=tmp,\n",
    "            scatter_kws={\"s\": 10}, ci=None, fit_reg=False);"
   ]
  },
  {
   "cell_type": "code",
   "execution_count": 31,
   "metadata": {},
   "outputs": [
    {
     "name": "stdout",
     "output_type": "stream",
     "text": [
      "CPU times: user 8.15 s, sys: 977 ms, total: 9.13 s\n",
      "Wall time: 9.14 s\n"
     ]
    },
    {
     "data": {
      "image/png": "[encoded data removed]",
      "text/plain": [
       "<Figure size 1728x1152 with 1 Axes>"
      ]
     },
     "metadata": {},
     "output_type": "display_data"
    }
   ],
   "source": [
    "%%time\n",
    "plt.figure(figsize=(24,16))\n",
    "sns.barplot(x=\"starthour\", y=\"tripduration\", \n",
    "            data=df[(df.usertype == 'Subscriber') & (df.weekend == 0)].sample(300000))"
   ]
  },
  {
   "cell_type": "code",
   "execution_count": 32,
   "metadata": {},
   "outputs": [
    {
     "data": {
      "text/plain": [
       "<matplotlib.axes._subplots.AxesSubplot at 0x1a156c6240>"
      ]
     },
     "execution_count": 32,
     "metadata": {},
     "output_type": "execute_result"
    },
    {
     "data": {
      "image/png": "[encoded data removed]",
      "text/plain": [
       "<Figure size 1728x1152 with 1 Axes>"
      ]
     },
     "metadata": {},
     "output_type": "display_data"
    }
   ],
   "source": [
    "plt.figure(figsize=(24,16))\n",
    "sns.barplot(x=\"starthour\", y=\"tripduration\", \n",
    "            data=df[(df.usertype == 'Customer') & (df.weekend == 1)].sample(300000))"
   ]
  },
  {
   "cell_type": "code",
   "execution_count": 33,
   "metadata": {},
   "outputs": [
    {
     "data": {
      "image/png": "[encoded data removed]",
      "text/plain": [
       "<Figure size 1728x972 with 1 Axes>"
      ]
     },
     "metadata": {},
     "output_type": "display_data"
    }
   ],
   "source": [
    "tmp = df.groupby(['month', 'usertype']).tripduration.size().reset_index()\n",
    "plt.figure(figsize=(24,13.5))\n",
    "sns.barplot(x=\"month\", y=\"tripduration\", hue=\"usertype\",\n",
    "            data=tmp);"
   ]
  },
  {
   "cell_type": "code",
   "execution_count": 34,
   "metadata": {},
   "outputs": [
    {
     "data": {
      "image/png": "[encoded data removed]",
      "text/plain": [
       "<Figure size 1728x972 with 1 Axes>"
      ]
     },
     "metadata": {},
     "output_type": "display_data"
    }
   ],
   "source": [
    "# number of trips vs. day\n",
    "\n",
    "tmp = df[df['month']==8].groupby(['date', 'usertype']).tripduration.size().reset_index()\n",
    "tmp['date'] = tmp['date'].apply(lambda x: str(x)[-2:])\n",
    "plt.figure(figsize=(24,13.5))\n",
    "sns.barplot(x=\"date\", y=\"tripduration\", hue=\"usertype\",\n",
    "            data=tmp);"
   ]
  },
  {
   "cell_type": "code",
   "execution_count": 13,
   "metadata": {
    "collapsed": true
   },
   "outputs": [],
   "source": [
    "from datetime import datetime\n",
    "def display_all(df):\n",
    "    \"\"\"\n",
    "    display more than 20 rows/cols\n",
    "    \"\"\"\n",
    "    with pd.option_context(\"display.max_rows\", 1000):\n",
    "        with pd.option_context(\"display.max_columns\", 1000):\n",
    "            display(df)"
   ]
  },
  {
   "cell_type": "code",
   "execution_count": 36,
   "metadata": {},
   "outputs": [
    {
     "data": {
      "text/html": [
       "<div>\n",
       "<style>\n",
       "    .dataframe thead tr:only-child th {\n",
       "        text-align: right;\n",
       "    }\n",
       "\n",
       "    .dataframe thead th {\n",
       "        text-align: left;\n",
       "    }\n",
       "\n",
       "    .dataframe tbody tr th {\n",
       "        vertical-align: top;\n",
       "    }\n",
       "</style>\n",
       "<table border=\"1\" class=\"dataframe\">\n",
       "  <thead>\n",
       "    <tr style=\"text-align: right;\">\n",
       "      <th></th>\n",
       "      <th>date</th>\n",
       "      <th>Temp_high</th>\n",
       "      <th>Temp_avg</th>\n",
       "      <th>Temp_low</th>\n",
       "      <th>Precip</th>\n",
       "      <th>Rain</th>\n",
       "      <th>Snow</th>\n",
       "      <th>Fog</th>\n",
       "    </tr>\n",
       "  </thead>\n",
       "  <tbody>\n",
       "    <tr>\n",
       "      <th>125</th>\n",
       "      <td>2017-05-06</td>\n",
       "      <td>67</td>\n",
       "      <td>60</td>\n",
       "      <td>52</td>\n",
       "      <td>0.180</td>\n",
       "      <td>1</td>\n",
       "      <td>0</td>\n",
       "      <td>0</td>\n",
       "    </tr>\n",
       "    <tr>\n",
       "      <th>162</th>\n",
       "      <td>2017-06-12</td>\n",
       "      <td>93</td>\n",
       "      <td>85</td>\n",
       "      <td>76</td>\n",
       "      <td>0.000</td>\n",
       "      <td>0</td>\n",
       "      <td>0</td>\n",
       "      <td>0</td>\n",
       "    </tr>\n",
       "    <tr>\n",
       "      <th>121</th>\n",
       "      <td>2017-05-02</td>\n",
       "      <td>75</td>\n",
       "      <td>69</td>\n",
       "      <td>62</td>\n",
       "      <td>0.001</td>\n",
       "      <td>0</td>\n",
       "      <td>0</td>\n",
       "      <td>0</td>\n",
       "    </tr>\n",
       "    <tr>\n",
       "      <th>330</th>\n",
       "      <td>2017-11-27</td>\n",
       "      <td>51</td>\n",
       "      <td>45</td>\n",
       "      <td>39</td>\n",
       "      <td>0.000</td>\n",
       "      <td>0</td>\n",
       "      <td>0</td>\n",
       "      <td>0</td>\n",
       "    </tr>\n",
       "    <tr>\n",
       "      <th>107</th>\n",
       "      <td>2017-04-18</td>\n",
       "      <td>65</td>\n",
       "      <td>56</td>\n",
       "      <td>47</td>\n",
       "      <td>0.000</td>\n",
       "      <td>0</td>\n",
       "      <td>0</td>\n",
       "      <td>0</td>\n",
       "    </tr>\n",
       "  </tbody>\n",
       "</table>\n",
       "</div>"
      ],
      "text/plain": [
       "           date  Temp_high  Temp_avg  Temp_low  Precip  Rain  Snow  Fog\n",
       "125  2017-05-06         67        60        52   0.180     1     0    0\n",
       "162  2017-06-12         93        85        76   0.000     0     0    0\n",
       "121  2017-05-02         75        69        62   0.001     0     0    0\n",
       "330  2017-11-27         51        45        39   0.000     0     0    0\n",
       "107  2017-04-18         65        56        47   0.000     0     0    0"
      ]
     },
     "execution_count": 36,
     "metadata": {},
     "output_type": "execute_result"
    }
   ],
   "source": [
    "nyc_temp = pd.read_csv('nyc_temp_2017.csv')\n",
    "nyc_temp['2017'] = nyc_temp['2017'].apply(lambda x: datetime.strptime(x, \"%Y-%m-%d\").date())\n",
    "nyc_temp.columns = ['date', 'Temp_high', 'Temp_avg', 'Temp_low', 'Precip', 'Rain', 'Snow', 'Fog']\n",
    "nyc_temp.sample(5)"
   ]
  },
  {
   "cell_type": "code",
   "execution_count": 37,
   "metadata": {},
   "outputs": [
    {
     "name": "stdout",
     "output_type": "stream",
     "text": [
      "CPU times: user 7.32 s, sys: 4.91 s, total: 12.2 s\n",
      "Wall time: 13.4 s\n"
     ]
    }
   ],
   "source": [
    "%%time\n",
    "df = pd.merge(df, nyc_temp, 'left', on='date')"
   ]
  },
  {
   "cell_type": "code",
   "execution_count": 38,
   "metadata": {},
   "outputs": [
    {
     "data": {
      "text/plain": [
       "0.70    0.001\n",
       "0.75    0.010\n",
       "0.80    0.030\n",
       "0.85    0.080\n",
       "0.90    0.200\n",
       "0.95    0.450\n",
       "1.00    3.030\n",
       "Name: Precip, dtype: float64"
      ]
     },
     "execution_count": 38,
     "metadata": {},
     "output_type": "execute_result"
    }
   ],
   "source": [
    "df.Precip.quantile(np.clip(np.arange(.7, 1., .05), 0, 1))"
   ]
  },
  {
   "cell_type": "code",
   "execution_count": 39,
   "metadata": {
    "collapsed": true
   },
   "outputs": [],
   "source": [
    "df['rain_vol'] = 0\n",
    "# v light, medium, heavy\n",
    "df.loc[df['Precip'] >= 0.001, 'rain_vol'] = 1\n",
    "df.loc[df['Precip'] >= 0.03, 'rain_vol'] = 2\n",
    "df.loc[df['Precip'] >= 0.2, 'rain_vol'] = 3\n",
    "\n",
    "df['temp_level'] = 0\n",
    "df.loc[df['Temp_high'] >= 56, 'temp_level'] = 1\n",
    "df.loc[df['Temp_high'] >= 67, 'temp_level'] = 2\n",
    "df.loc[df['Temp_high'] >= 76, 'temp_level'] = 3\n",
    "df.loc[df['Temp_high'] >= 83, 'temp_level'] = 4"
   ]
  },
  {
   "cell_type": "code",
   "execution_count": 42,
   "metadata": {},
   "outputs": [
    {
     "data": {
      "image/png": "[encoded data removed]",
      "text/plain": [
       "<Figure size 1152x648 with 1 Axes>"
      ]
     },
     "metadata": {},
     "output_type": "display_data"
    }
   ],
   "source": [
    "tmp = df[df.usertype == 'Subscriber']\\\n",
    "    .groupby(['temp_level','rain_vol'])\\\n",
    "        .agg({'tripduration': 'size', \n",
    "              'date': lambda x: x.nunique()}).reset_index()\n",
    "        \n",
    "tmp['avg_trip_num'] = tmp['tripduration']/tmp['date']\n",
    "\n",
    "g = sns.barplot(x=\"temp_level\", \n",
    "                y=\"avg_trip_num\", \n",
    "                data=tmp, \n",
    "                hue=\"rain_vol\",\n",
    "                palette=sns.cubehelix_palette(8, start=.9, rot=-.75))\n",
    "#             scatter_kws={\"s\": 10}, ci=None, fit_reg=False);\n",
    "\n",
    "g.figure.set_size_inches(16, 9)"
   ]
  },
  {
   "cell_type": "code",
   "execution_count": 43,
   "metadata": {},
   "outputs": [
    {
     "data": {
      "image/png": "[encoded data removed]",
      "text/plain": [
       "<Figure size 1152x648 with 1 Axes>"
      ]
     },
     "metadata": {},
     "output_type": "display_data"
    }
   ],
   "source": [
    "tmp = df[df.usertype == 'Subscriber']\\\n",
    "    .groupby(['temp_level','Rain'])\\\n",
    "        .agg({'tripduration': 'size', \n",
    "              'date': lambda x: x.nunique()}).reset_index()\n",
    "        \n",
    "tmp['avg_trip_num'] = tmp['tripduration']/tmp['date']\n",
    "\n",
    "g = sns.barplot(x=\"temp_level\", y=\"avg_trip_num\", data=tmp, hue=\"Rain\",)\n",
    "#             scatter_kws={\"s\": 10}, ci=None, fit_reg=False);\n",
    "\n",
    "g.figure.set_size_inches(16, 9)"
   ]
  },
  {
   "cell_type": "code",
   "execution_count": 44,
   "metadata": {},
   "outputs": [
    {
     "data": {
      "image/png": "[encoded data removed]",
      "text/plain": [
       "<Figure size 1152x648 with 1 Axes>"
      ]
     },
     "metadata": {},
     "output_type": "display_data"
    }
   ],
   "source": [
    "tmp = df[df.usertype == 'Subscriber']\\\n",
    "    .groupby(['temp_level','Snow'])\\\n",
    "        .agg({'tripduration': 'size', \n",
    "              'date': lambda x: x.nunique()}).reset_index()\n",
    "        \n",
    "tmp['avg_trip_num'] = tmp['tripduration']/tmp['date']\n",
    "\n",
    "g = sns.barplot(x=\"temp_level\", y=\"avg_trip_num\", data=tmp, hue=\"Snow\",)\n",
    "#             scatter_kws={\"s\": 10}, ci=None, fit_reg=False);\n",
    "\n",
    "g.figure.set_size_inches(16, 9)"
   ]
  },
  {
   "cell_type": "code",
   "execution_count": 45,
   "metadata": {},
   "outputs": [
    {
     "data": {
      "image/png": "[encoded data removed]",
      "text/plain": [
       "<Figure size 1152x648 with 1 Axes>"
      ]
     },
     "metadata": {},
     "output_type": "display_data"
    }
   ],
   "source": [
    "tmp = df[df.usertype == 'Subscriber']\\\n",
    "    .groupby(['temp_level','Fog'])\\\n",
    "        .agg({'tripduration': 'size', \n",
    "              'date': lambda x: x.nunique()}).reset_index()\n",
    "        \n",
    "tmp['avg_trip_num'] = tmp['tripduration']/tmp['date']\n",
    "\n",
    "g = sns.barplot(x=\"temp_level\", y=\"avg_trip_num\", data=tmp, hue=\"Fog\",)\n",
    "#             scatter_kws={\"s\": 10}, ci=None, fit_reg=False);\n",
    "\n",
    "g.figure.set_size_inches(16, 9)"
   ]
  },
  {
   "cell_type": "code",
   "execution_count": 47,
   "metadata": {},
   "outputs": [
    {
     "name": "stdout",
     "output_type": "stream",
     "text": [
      "CPU times: user 28.6 s, sys: 2.16 s, total: 30.8 s\n",
      "Wall time: 31 s\n"
     ]
    }
   ],
   "source": [
    "%%time\n",
    "df['lat1'] = df['start station id'].map(lambda x: stations_latlng[x][0])\n",
    "df['lon1'] = df['start station id'].map(lambda x: stations_latlng[x][1])\n",
    "df['lat2'] = df['end station id'].map(lambda x: stations_latlng[x][0])\n",
    "df['lon2'] = df['end station id'].map(lambda x: stations_latlng[x][1])"
   ]
  },
  {
   "cell_type": "code",
   "execution_count": 6,
   "metadata": {
    "collapsed": true
   },
   "outputs": [],
   "source": [
    "from math import sin, cos, sqrt, atan2, radians\n",
    "def manhattan_distance(latlon1, latlon2):\n",
    "    R = 6371\n",
    "\n",
    "    lat1 = radians(latlon1[0])\n",
    "    lon1 = radians(latlon1[1])\n",
    "    lat2 = radians(latlon2[0])\n",
    "    lon2 = radians(latlon2[1])\n",
    "\n",
    "    dlon = lon2 - lon1\n",
    "    dlat = lat2 - lat1\n",
    "\n",
    "    a1 = sin(dlat / 2)**2 \n",
    "    c1 = 2 * atan2(sqrt(a1), sqrt(1 - a1))\n",
    "    d1 = R * c1\n",
    "    \n",
    "    a2 = sin(dlon / 2)**2\n",
    "    c2 = 2 * atan2(sqrt(a2), sqrt(1 - a2))\n",
    "    d2 = R * c2\n",
    "    \n",
    "    return d1+d2"
   ]
  },
  {
   "cell_type": "code",
   "execution_count": 33,
   "metadata": {},
   "outputs": [
    {
     "data": {
      "text/plain": [
       "3.7290455392526001"
      ]
     },
     "execution_count": 33,
     "metadata": {},
     "output_type": "execute_result"
    }
   ],
   "source": [
    "d1 = stations_latlng[523]\n",
    "d1\n",
    "\n",
    "d2 = stations_latlng[428]\n",
    "d2\n",
    "\n",
    "a = abs(d1[0]-d2[0])\n",
    "b = abs(d1[1]-d2[1])\n",
    "\n",
    "(a+b)*111.195"
   ]
  },
  {
   "cell_type": "code",
   "execution_count": 34,
   "metadata": {},
   "outputs": [
    {
     "data": {
      "text/plain": [
       "3.729043079198083"
      ]
     },
     "execution_count": 34,
     "metadata": {},
     "output_type": "execute_result"
    }
   ],
   "source": [
    "manhattan_distance(d1, d2)"
   ]
  },
  {
   "cell_type": "code",
   "execution_count": 53,
   "metadata": {},
   "outputs": [
    {
     "data": {
      "text/plain": [
       "(40.754665909936371, -73.991381520106231)"
      ]
     },
     "execution_count": 53,
     "metadata": {},
     "output_type": "execute_result"
    }
   ],
   "source": [
    "d1"
   ]
  },
  {
   "cell_type": "code",
   "execution_count": 54,
   "metadata": {},
   "outputs": [
    {
     "data": {
      "text/plain": [
       "(40.724677209979468, -73.987834129957889)"
      ]
     },
     "execution_count": 54,
     "metadata": {},
     "output_type": "execute_result"
    }
   ],
   "source": [
    "d2"
   ]
  },
  {
   "cell_type": "code",
   "execution_count": 56,
   "metadata": {},
   "outputs": [
    {
     "name": "stdout",
     "output_type": "stream",
     "text": [
      "CPU times: user 1.17 s, sys: 314 ms, total: 1.48 s\n",
      "Wall time: 1.48 s\n"
     ]
    }
   ],
   "source": [
    "%%time\n",
    "tmp = df.groupby(['start station id', 'end station id']).size().reset_index()\n",
    "tmp.columns = ['start station id', 'end station id', 'size']\n",
    "tmp = tmp.sort_values('size', ascending=False).reset_index()"
   ]
  },
  {
   "cell_type": "code",
   "execution_count": 57,
   "metadata": {},
   "outputs": [
    {
     "name": "stdout",
     "output_type": "stream",
     "text": [
      "CPU times: user 503 ms, sys: 57.6 ms, total: 561 ms\n",
      "Wall time: 560 ms\n"
     ]
    }
   ],
   "source": [
    "%%time\n",
    "tmp['lat1'] = tmp['start station id'].map(lambda x: stations_latlng[x][0])\n",
    "tmp['lon1'] = tmp['start station id'].map(lambda x: stations_latlng[x][1])\n",
    "tmp['lat2'] = tmp['end station id'].map(lambda x: stations_latlng[x][0])\n",
    "tmp['lon2'] = tmp['end station id'].map(lambda x: stations_latlng[x][1])\n",
    "\n",
    "lat2 = tmp['lat2'].values\n",
    "lon2 = tmp['lon2'].values"
   ]
  },
  {
   "cell_type": "code",
   "execution_count": 58,
   "metadata": {},
   "outputs": [
    {
     "data": {
      "image/png": "[encoded data removed]",
      "text/plain": [
       "<Figure size 720x720 with 1 Axes>"
      ]
     },
     "metadata": {},
     "output_type": "display_data"
    }
   ],
   "source": [
    "plt.figure(figsize = (10,10))\n",
    "plt.plot(lon2,lat2,'.', alpha = 0.8, markersize = 0.1)\n",
    "plt.show()"
   ]
  },
  {
   "cell_type": "code",
   "execution_count": 59,
   "metadata": {
    "collapsed": true
   },
   "outputs": [],
   "source": [
    "def latlon2pos(lat, lon, size=240):\n",
    "    return int(round((40.84-lat)*size/240*1000-1)), int(round((lon+74.12)*size/240*1000-1))"
   ]
  },
  {
   "cell_type": "code",
   "execution_count": 60,
   "metadata": {},
   "outputs": [
    {
     "name": "stdout",
     "output_type": "stream",
     "text": [
      "(855, 5)\n",
      "CPU times: user 662 ms, sys: 275 ms, total: 938 ms\n",
      "Wall time: 936 ms\n"
     ]
    },
    {
     "data": {
      "image/png": "[encoded data removed]",
      "text/plain": [
       "<Figure size 864x864 with 1 Axes>"
      ]
     },
     "metadata": {},
     "output_type": "display_data"
    }
   ],
   "source": [
    "%%time\n",
    "tmp = df.groupby(['start station id']).size().reset_index()\n",
    "tmp.columns = ['start station id', 'size']\n",
    "tmp = tmp.sort_values('size', ascending=False).reset_index()\n",
    "\n",
    "tmp['lat1'] = tmp['start station id'].map(lambda x: stations_latlng[x][0])\n",
    "tmp['lon1'] = tmp['start station id'].map(lambda x: stations_latlng[x][1])\n",
    "print(tmp.shape)\n",
    "# show the log density of pickup and dropoff locations\n",
    "s = 200\n",
    "imageSize = (s,s)\n",
    "\n",
    "locationDensityImage = np.zeros(imageSize)\n",
    "for i in range(len(tmp)):\n",
    "    t = tmp.loc[i]\n",
    "    locationDensityImage[latlon2pos(t['lat1'], t['lon1'], s)] += t['size']#np.log1p(t['size'])\n",
    "\n",
    "fig, ax = plt.subplots(nrows=1,ncols=1,figsize=(12,12))\n",
    "ax.imshow(np.log1p(locationDensityImage), cmap='hot')\n",
    "ax.set_axis_off()"
   ]
  },
  {
   "cell_type": "code",
   "execution_count": 61,
   "metadata": {},
   "outputs": [
    {
     "name": "stdout",
     "output_type": "stream",
     "text": [
      "(857, 5)\n",
      "CPU times: user 566 ms, sys: 160 ms, total: 725 ms\n",
      "Wall time: 724 ms\n"
     ]
    },
    {
     "data": {
      "image/png": "[encoded data removed]",
      "text/plain": [
       "<Figure size 864x864 with 1 Axes>"
      ]
     },
     "metadata": {},
     "output_type": "display_data"
    }
   ],
   "source": [
    "%%time\n",
    "tmp = df.groupby(['end station id']).size().reset_index()\n",
    "tmp.columns = ['end station id', 'size']\n",
    "tmp = tmp.sort_values('size', ascending=False).reset_index()\n",
    "\n",
    "tmp['lat1'] = tmp['end station id'].map(lambda x: stations_latlng[x][0])\n",
    "tmp['lon1'] = tmp['end station id'].map(lambda x: stations_latlng[x][1])\n",
    "print(tmp.shape)\n",
    "# show the log density of pickup and dropoff locations\n",
    "s = 200\n",
    "imageSize = (s,s)\n",
    "\n",
    "locationDensityImage1 = np.zeros(imageSize)\n",
    "for i in range(len(tmp)):\n",
    "    t = tmp.loc[i]\n",
    "    locationDensityImage1[latlon2pos(t['lat1'], t['lon1'], s)] += t['size']#np.log1p(t['size'])\n",
    "\n",
    "fig, ax = plt.subplots(nrows=1,ncols=1,figsize=(12,12))\n",
    "ax.imshow(np.log1p(locationDensityImage1), cmap='hot')\n",
    "ax.set_axis_off()"
   ]
  },
  {
   "cell_type": "code",
   "execution_count": 63,
   "metadata": {
    "collapsed": true
   },
   "outputs": [],
   "source": [
    "from sklearn.cluster import KMeans"
   ]
  },
  {
   "cell_type": "code",
   "execution_count": 802,
   "metadata": {},
   "outputs": [
    {
     "name": "stdout",
     "output_type": "stream",
     "text": [
      "CPU times: user 23min 55s, sys: 2min 10s, total: 26min 5s\n",
      "Wall time: 6min 50s\n"
     ]
    }
   ],
   "source": [
    "# %%time\n",
    "# tmp = df[['start station id']].sample(200000)\n",
    "# loc_df = pd.DataFrame()\n",
    "# loc_df['longitude'] = tmp['start station id'].map(lambda x: stations_latlng[x][1])\n",
    "# loc_df['latitude'] = tmp['start station id'].map(lambda x: stations_latlng[x][0])\n",
    "\n",
    "# Ks = range(5, 50)\n",
    "# km = [KMeans(n_clusters=i) for i in Ks]\n",
    "# score = [km[i].fit(loc_df).score(loc_df) for i in range(len(km))]\n",
    "# score = [abs(i) for i in score]"
   ]
  },
  {
   "cell_type": "code",
   "execution_count": 808,
   "metadata": {},
   "outputs": [
    {
     "data": {
      "text/plain": [
       "[<matplotlib.lines.Line2D at 0x1bb2b36ba8>]"
      ]
     },
     "execution_count": 808,
     "metadata": {},
     "output_type": "execute_result"
    },
    {
     "data": {
      "image/png": "[encoded data removed]",
      "text/plain": [
       "<Figure size 432x288 with 1 Axes>"
      ]
     },
     "metadata": {},
     "output_type": "display_data"
    }
   ],
   "source": [
    "plt.plot((score))"
   ]
  },
  {
   "cell_type": "code",
   "execution_count": 127,
   "metadata": {},
   "outputs": [
    {
     "data": {
      "image/png": "[encoded data removed]",
      "text/plain": [
       "<Figure size 720x720 with 1 Axes>"
      ]
     },
     "metadata": {},
     "output_type": "display_data"
    },
    {
     "name": "stdout",
     "output_type": "stream",
     "text": [
      "CPU times: user 14.1 s, sys: 1.53 s, total: 15.6 s\n",
      "Wall time: 6.99 s\n"
     ]
    }
   ],
   "source": [
    "%%time\n",
    "tmp = df[['start station id']].sample(200000)\n",
    "loc_df = pd.DataFrame()\n",
    "loc_df['longitude'] = tmp['start station id'].map(lambda x: stations_latlng[x][1])\n",
    "loc_df['latitude'] = tmp['start station id'].map(lambda x: stations_latlng[x][0])\n",
    "\n",
    "kmeans = KMeans(n_clusters=16, random_state=2, n_init = 10).fit(loc_df)\n",
    "loc_df['label'] = kmeans.labels_\n",
    "\n",
    "\n",
    "plt.figure(figsize = (10,10))\n",
    "for label in loc_df.label.unique():\n",
    "    plt.plot(loc_df.longitude[loc_df.label == label],loc_df.latitude[loc_df.label == label],'.', alpha = 0.3, markersize = 1)\n",
    "\n",
    "plt.title('Clusters of New York (and New Jersey)')\n",
    "plt.show()"
   ]
  },
  {
   "cell_type": "code",
   "execution_count": 128,
   "metadata": {},
   "outputs": [
    {
     "data": {
      "image/png": "[encoded data removed]",
      "text/plain": [
       "<Figure size 720x720 with 1 Axes>"
      ]
     },
     "metadata": {},
     "output_type": "display_data"
    }
   ],
   "source": [
    "fig,ax = plt.subplots(figsize = (10,10))\n",
    "for label in loc_df.label.unique():\n",
    "    ax.plot(loc_df.longitude[loc_df.label == label],loc_df.latitude[loc_df.label == label],'.', alpha = 0.4, markersize = 0.1, color = 'gray')\n",
    "    ax.plot(kmeans.cluster_centers_[label,0],kmeans.cluster_centers_[label,1],'o', color = 'r')\n",
    "    ax.annotate(label, (kmeans.cluster_centers_[label,0],kmeans.cluster_centers_[label,1]), color = 'b', fontsize = 20)\n",
    "ax.set_title('Cluster Centers')\n",
    "plt.show()"
   ]
  },
  {
   "cell_type": "code",
   "execution_count": 96,
   "metadata": {},
   "outputs": [
    {
     "name": "stdout",
     "output_type": "stream",
     "text": [
      "CPU times: user 8.34 s, sys: 562 ms, total: 8.9 s\n",
      "Wall time: 8.91 s\n"
     ]
    }
   ],
   "source": [
    "%%time\n",
    "df['start_cluster'] = kmeans.predict(df[['lon1','lat1']])\n",
    "df['end_cluster'] = kmeans.predict(df[['lon2','lat2']])"
   ]
  },
  {
   "cell_type": "code",
   "execution_count": 97,
   "metadata": {
    "collapsed": true
   },
   "outputs": [],
   "source": [
    "clusters = pd.DataFrame()\n",
    "clusters['x'] = kmeans.cluster_centers_[:,0]\n",
    "clusters['y'] = kmeans.cluster_centers_[:,1]\n",
    "clusters['label'] = range(len(clusters))"
   ]
  },
  {
   "cell_type": "code",
   "execution_count": 120,
   "metadata": {
    "collapsed": true
   },
   "outputs": [
    {
     "ename": "NameError",
     "evalue": "name 'loc_df_' is not defined",
     "output_type": "error",
     "traceback": [
      "\u001b[0;31m---------------------------------------------------------------------------\u001b[0m",
      "\u001b[0;31mNameError\u001b[0m                                 Traceback (most recent call last)",
      "\u001b[0;32m<ipython-input-120-8234d1df6f35>\u001b[0m in \u001b[0;36m<module>\u001b[0;34m()\u001b[0m\n\u001b[0;32m----> 1\u001b[0;31m \u001b[0mloc_df\u001b[0m \u001b[0;34m=\u001b[0m \u001b[0mloc_df_\u001b[0m\u001b[0;34m.\u001b[0m\u001b[0msample\u001b[0m\u001b[0;34m(\u001b[0m\u001b[0;36m5000\u001b[0m\u001b[0;34m)\u001b[0m\u001b[0;34m\u001b[0m\u001b[0m\n\u001b[0m",
      "\u001b[0;31mNameError\u001b[0m: name 'loc_df_' is not defined"
     ]
    }
   ],
   "source": [
    "loc_df = loc_df.sample(5000)"
   ]
  },
  {
   "cell_type": "code",
   "execution_count": 115,
   "metadata": {
    "collapsed": true
   },
   "outputs": [],
   "source": [
    "import os\n",
    "from matplotlib.pyplot import *\n",
    "import matplotlib.pyplot as plt\n",
    "from matplotlib import animation\n",
    "from sklearn.cluster import KMeans\n",
    "from IPython.display import HTML\n",
    "from subprocess import check_output\n",
    "import io\n",
    "import base64"
   ]
  },
  {
   "cell_type": "code",
   "execution_count": 124,
   "metadata": {
    "collapsed": true
   },
   "outputs": [
    {
     "name": "stderr",
     "output_type": "stream",
     "text": [
      "MovieWriter imagemagick unavailable.\n"
     ]
    },
    {
     "name": "stdout",
     "output_type": "stream",
     "text": [
      "CPU times: user 5min 53s, sys: 1min 51s, total: 7min 45s\n",
      "Wall time: 7min 53s\n"
     ]
    },
    {
     "data": {
      "text/plain": [
       "<Figure size 720x720 with 0 Axes>"
      ]
     },
     "metadata": {},
     "output_type": "display_data"
    },
    {
     "data": {
      "text/plain": [
       "<Figure size 720x720 with 0 Axes>"
      ]
     },
     "metadata": {},
     "output_type": "display_data"
    },
    {
     "data": {
      "text/plain": [
       "<Figure size 720x720 with 0 Axes>"
      ]
     },
     "metadata": {},
     "output_type": "display_data"
    },
    {
     "data": {
      "text/plain": [
       "<Figure size 720x720 with 0 Axes>"
      ]
     },
     "metadata": {},
     "output_type": "display_data"
    },
    {
     "data": {
      "text/plain": [
       "<Figure size 720x720 with 0 Axes>"
      ]
     },
     "metadata": {},
     "output_type": "display_data"
    },
    {
     "data": {
      "text/plain": [
       "<Figure size 720x720 with 0 Axes>"
      ]
     },
     "metadata": {},
     "output_type": "display_data"
    },
    {
     "data": {
      "text/plain": [
       "<Figure size 720x720 with 0 Axes>"
      ]
     },
     "metadata": {},
     "output_type": "display_data"
    },
    {
     "data": {
      "text/plain": [
       "<Figure size 720x720 with 0 Axes>"
      ]
     },
     "metadata": {},
     "output_type": "display_data"
    },
    {
     "data": {
      "text/plain": [
       "<Figure size 720x720 with 0 Axes>"
      ]
     },
     "metadata": {},
     "output_type": "display_data"
    },
    {
     "data": {
      "text/plain": [
       "<Figure size 720x720 with 0 Axes>"
      ]
     },
     "metadata": {},
     "output_type": "display_data"
    },
    {
     "data": {
      "text/plain": [
       "<Figure size 720x720 with 0 Axes>"
      ]
     },
     "metadata": {},
     "output_type": "display_data"
    },
    {
     "data": {
      "text/plain": [
       "<Figure size 720x720 with 0 Axes>"
      ]
     },
     "metadata": {},
     "output_type": "display_data"
    },
    {
     "data": {
      "text/plain": [
       "<Figure size 720x720 with 0 Axes>"
      ]
     },
     "metadata": {},
     "output_type": "display_data"
    },
    {
     "data": {
      "text/plain": [
       "<Figure size 720x720 with 0 Axes>"
      ]
     },
     "metadata": {},
     "output_type": "display_data"
    },
    {
     "data": {
      "text/plain": [
       "<Figure size 720x720 with 0 Axes>"
      ]
     },
     "metadata": {},
     "output_type": "display_data"
    },
    {
     "data": {
      "text/plain": [
       "<Figure size 720x720 with 0 Axes>"
      ]
     },
     "metadata": {},
     "output_type": "display_data"
    },
    {
     "data": {
      "text/plain": [
       "<Figure size 720x720 with 0 Axes>"
      ]
     },
     "metadata": {},
     "output_type": "display_data"
    },
    {
     "data": {
      "text/plain": [
       "<Figure size 720x720 with 0 Axes>"
      ]
     },
     "metadata": {},
     "output_type": "display_data"
    },
    {
     "data": {
      "text/plain": [
       "<Figure size 720x720 with 0 Axes>"
      ]
     },
     "metadata": {},
     "output_type": "display_data"
    },
    {
     "data": {
      "text/plain": [
       "<Figure size 720x720 with 0 Axes>"
      ]
     },
     "metadata": {},
     "output_type": "display_data"
    },
    {
     "data": {
      "text/plain": [
       "<Figure size 720x720 with 0 Axes>"
      ]
     },
     "metadata": {},
     "output_type": "display_data"
    },
    {
     "data": {
      "text/plain": [
       "<Figure size 720x720 with 0 Axes>"
      ]
     },
     "metadata": {},
     "output_type": "display_data"
    },
    {
     "data": {
      "text/plain": [
       "<Figure size 720x720 with 0 Axes>"
      ]
     },
     "metadata": {},
     "output_type": "display_data"
    },
    {
     "data": {
      "text/plain": [
       "<Figure size 720x720 with 0 Axes>"
      ]
     },
     "metadata": {},
     "output_type": "display_data"
    },
    {
     "data": {
      "text/plain": [
       "<Figure size 720x720 with 0 Axes>"
      ]
     },
     "metadata": {},
     "output_type": "display_data"
    },
    {
     "data": {
      "text/plain": [
       "<Figure size 720x720 with 0 Axes>"
      ]
     },
     "metadata": {},
     "output_type": "display_data"
    },
    {
     "data": {
      "text/plain": [
       "<Figure size 720x720 with 0 Axes>"
      ]
     },
     "metadata": {},
     "output_type": "display_data"
    },
    {
     "data": {
      "text/plain": [
       "<Figure size 720x720 with 0 Axes>"
      ]
     },
     "metadata": {},
     "output_type": "display_data"
    },
    {
     "data": {
      "text/plain": [
       "<Figure size 720x720 with 0 Axes>"
      ]
     },
     "metadata": {},
     "output_type": "display_data"
    },
    {
     "data": {
      "text/plain": [
       "<Figure size 720x720 with 0 Axes>"
      ]
     },
     "metadata": {},
     "output_type": "display_data"
    },
    {
     "data": {
      "text/plain": [
       "<Figure size 720x720 with 0 Axes>"
      ]
     },
     "metadata": {},
     "output_type": "display_data"
    },
    {
     "data": {
      "text/plain": [
       "<Figure size 720x720 with 0 Axes>"
      ]
     },
     "metadata": {},
     "output_type": "display_data"
    },
    {
     "data": {
      "text/plain": [
       "<Figure size 720x720 with 0 Axes>"
      ]
     },
     "metadata": {},
     "output_type": "display_data"
    },
    {
     "data": {
      "text/plain": [
       "<Figure size 720x720 with 0 Axes>"
      ]
     },
     "metadata": {},
     "output_type": "display_data"
    },
    {
     "data": {
      "text/plain": [
       "<Figure size 720x720 with 0 Axes>"
      ]
     },
     "metadata": {},
     "output_type": "display_data"
    },
    {
     "data": {
      "text/plain": [
       "<Figure size 720x720 with 0 Axes>"
      ]
     },
     "metadata": {},
     "output_type": "display_data"
    },
    {
     "data": {
      "text/plain": [
       "<Figure size 720x720 with 0 Axes>"
      ]
     },
     "metadata": {},
     "output_type": "display_data"
    },
    {
     "data": {
      "text/plain": [
       "<Figure size 720x720 with 0 Axes>"
      ]
     },
     "metadata": {},
     "output_type": "display_data"
    },
    {
     "data": {
      "text/plain": [
       "<Figure size 720x720 with 0 Axes>"
      ]
     },
     "metadata": {},
     "output_type": "display_data"
    },
    {
     "data": {
      "text/plain": [
       "<Figure size 720x720 with 0 Axes>"
      ]
     },
     "metadata": {},
     "output_type": "display_data"
    },
    {
     "data": {
      "text/plain": [
       "<Figure size 720x720 with 0 Axes>"
      ]
     },
     "metadata": {},
     "output_type": "display_data"
    },
    {
     "data": {
      "text/plain": [
       "<Figure size 720x720 with 0 Axes>"
      ]
     },
     "metadata": {},
     "output_type": "display_data"
    },
    {
     "data": {
      "text/plain": [
       "<Figure size 720x720 with 0 Axes>"
      ]
     },
     "metadata": {},
     "output_type": "display_data"
    },
    {
     "data": {
      "text/plain": [
       "<Figure size 720x720 with 0 Axes>"
      ]
     },
     "metadata": {},
     "output_type": "display_data"
    },
    {
     "data": {
      "text/plain": [
       "<Figure size 720x720 with 0 Axes>"
      ]
     },
     "metadata": {},
     "output_type": "display_data"
    },
    {
     "data": {
      "text/plain": [
       "<Figure size 720x720 with 0 Axes>"
      ]
     },
     "metadata": {},
     "output_type": "display_data"
    },
    {
     "data": {
      "text/plain": [
       "<Figure size 720x720 with 0 Axes>"
      ]
     },
     "metadata": {},
     "output_type": "display_data"
    },
    {
     "data": {
      "text/plain": [
       "<Figure size 720x720 with 0 Axes>"
      ]
     },
     "metadata": {},
     "output_type": "display_data"
    },
    {
     "data": {
      "text/plain": [
       "<Figure size 720x720 with 0 Axes>"
      ]
     },
     "metadata": {},
     "output_type": "display_data"
    }
   ],
   "source": [
    "%%time\n",
    "fig, ax = plt.subplots(1, 1, figsize = (10,10))\n",
    "df_ = df.sample(5000000)\n",
    "\n",
    "def animate(hour):\n",
    "    ax.clear()\n",
    "    ax.set_title('Absolute Traffic - Hour ' + str(hour))    \n",
    "    plt.figure(figsize = (10,10));\n",
    "    for label in loc_df.label.unique():\n",
    "        ax.plot(loc_df.longitude[loc_df.label == label],loc_df.latitude[loc_df.label == label],'.', alpha = 1, markersize = 2, color = 'gray');\n",
    "        ax.plot(kmeans.cluster_centers_[label,0],kmeans.cluster_centers_[label,1],'o', color = 'r');\n",
    "\n",
    "\n",
    "    for label in clusters.label:\n",
    "        for dest_label in clusters.label:\n",
    "            num_of_rides = len(df_[(df_.start_cluster == label) & (df_.end_cluster == dest_label) & (df_.starthour == hour)])\n",
    "            dist_x = clusters.x[clusters.label == label].values[0] - clusters.x[clusters.label == dest_label].values[0]\n",
    "            dist_y = clusters.y[clusters.label == label].values[0] - clusters.y[clusters.label == dest_label].values[0]\n",
    "            pct = np.true_divide(num_of_rides,len(df_))\n",
    "            arr = Arrow(clusters.x[clusters.label == label].values, clusters.y[clusters.label == label].values, -dist_x, -dist_y, edgecolor='white', width = 15*pct)\n",
    "            ax.add_patch(arr)\n",
    "            arr.set_facecolor('g')\n",
    "\n",
    "ani = animation.FuncAnimation(fig,animate,sorted(df.starthour.unique()), interval = 1000);\n",
    "plt.close();\n",
    "ani.save('Absolute.gif', writer='imagemagick', fps=2);\n",
    "filename = 'Absolute.gif'\n",
    "video = io.open(filename, 'r+b').read();\n",
    "encoded = base64.b64encode(video);\n",
    "HTML(data='''<img src=\"data:image/gif;base64,{0}\" type=\"gif\" />'''.format(encoded.decode('ascii')));\n"
   ]
  },
  {
   "cell_type": "code",
   "execution_count": 123,
   "metadata": {
    "collapsed": true
   },
   "outputs": [
    {
     "name": "stderr",
     "output_type": "stream",
     "text": [
      "MovieWriter imagemagick unavailable.\n"
     ]
    },
    {
     "name": "stdout",
     "output_type": "stream",
     "text": [
      "CPU times: user 3min 43s, sys: 5.16 s, total: 3min 48s\n",
      "Wall time: 3min 50s\n"
     ]
    },
    {
     "data": {
      "text/plain": [
       "<Figure size 720x720 with 0 Axes>"
      ]
     },
     "metadata": {},
     "output_type": "display_data"
    },
    {
     "data": {
      "text/plain": [
       "<Figure size 720x720 with 0 Axes>"
      ]
     },
     "metadata": {},
     "output_type": "display_data"
    },
    {
     "data": {
      "text/plain": [
       "<Figure size 720x720 with 0 Axes>"
      ]
     },
     "metadata": {},
     "output_type": "display_data"
    },
    {
     "data": {
      "text/plain": [
       "<Figure size 720x720 with 0 Axes>"
      ]
     },
     "metadata": {},
     "output_type": "display_data"
    },
    {
     "data": {
      "text/plain": [
       "<Figure size 720x720 with 0 Axes>"
      ]
     },
     "metadata": {},
     "output_type": "display_data"
    },
    {
     "data": {
      "text/plain": [
       "<Figure size 720x720 with 0 Axes>"
      ]
     },
     "metadata": {},
     "output_type": "display_data"
    },
    {
     "data": {
      "text/plain": [
       "<Figure size 720x720 with 0 Axes>"
      ]
     },
     "metadata": {},
     "output_type": "display_data"
    },
    {
     "data": {
      "text/plain": [
       "<Figure size 720x720 with 0 Axes>"
      ]
     },
     "metadata": {},
     "output_type": "display_data"
    },
    {
     "data": {
      "text/plain": [
       "<Figure size 720x720 with 0 Axes>"
      ]
     },
     "metadata": {},
     "output_type": "display_data"
    },
    {
     "data": {
      "text/plain": [
       "<Figure size 720x720 with 0 Axes>"
      ]
     },
     "metadata": {},
     "output_type": "display_data"
    },
    {
     "data": {
      "text/plain": [
       "<Figure size 720x720 with 0 Axes>"
      ]
     },
     "metadata": {},
     "output_type": "display_data"
    },
    {
     "data": {
      "text/plain": [
       "<Figure size 720x720 with 0 Axes>"
      ]
     },
     "metadata": {},
     "output_type": "display_data"
    },
    {
     "data": {
      "text/plain": [
       "<Figure size 720x720 with 0 Axes>"
      ]
     },
     "metadata": {},
     "output_type": "display_data"
    },
    {
     "data": {
      "text/plain": [
       "<Figure size 720x720 with 0 Axes>"
      ]
     },
     "metadata": {},
     "output_type": "display_data"
    },
    {
     "data": {
      "text/plain": [
       "<Figure size 720x720 with 0 Axes>"
      ]
     },
     "metadata": {},
     "output_type": "display_data"
    },
    {
     "data": {
      "text/plain": [
       "<Figure size 720x720 with 0 Axes>"
      ]
     },
     "metadata": {},
     "output_type": "display_data"
    },
    {
     "data": {
      "text/plain": [
       "<Figure size 720x720 with 0 Axes>"
      ]
     },
     "metadata": {},
     "output_type": "display_data"
    },
    {
     "data": {
      "text/plain": [
       "<Figure size 720x720 with 0 Axes>"
      ]
     },
     "metadata": {},
     "output_type": "display_data"
    },
    {
     "data": {
      "text/plain": [
       "<Figure size 720x720 with 0 Axes>"
      ]
     },
     "metadata": {},
     "output_type": "display_data"
    },
    {
     "data": {
      "text/plain": [
       "<Figure size 720x720 with 0 Axes>"
      ]
     },
     "metadata": {},
     "output_type": "display_data"
    },
    {
     "data": {
      "text/plain": [
       "<Figure size 720x720 with 0 Axes>"
      ]
     },
     "metadata": {},
     "output_type": "display_data"
    },
    {
     "data": {
      "text/plain": [
       "<Figure size 720x720 with 0 Axes>"
      ]
     },
     "metadata": {},
     "output_type": "display_data"
    },
    {
     "data": {
      "text/plain": [
       "<Figure size 720x720 with 0 Axes>"
      ]
     },
     "metadata": {},
     "output_type": "display_data"
    },
    {
     "data": {
      "text/plain": [
       "<Figure size 720x720 with 0 Axes>"
      ]
     },
     "metadata": {},
     "output_type": "display_data"
    },
    {
     "data": {
      "text/plain": [
       "<Figure size 720x720 with 0 Axes>"
      ]
     },
     "metadata": {},
     "output_type": "display_data"
    },
    {
     "data": {
      "text/plain": [
       "<Figure size 720x720 with 0 Axes>"
      ]
     },
     "metadata": {},
     "output_type": "display_data"
    },
    {
     "data": {
      "text/plain": [
       "<Figure size 720x720 with 0 Axes>"
      ]
     },
     "metadata": {},
     "output_type": "display_data"
    },
    {
     "data": {
      "text/plain": [
       "<Figure size 720x720 with 0 Axes>"
      ]
     },
     "metadata": {},
     "output_type": "display_data"
    },
    {
     "data": {
      "text/plain": [
       "<Figure size 720x720 with 0 Axes>"
      ]
     },
     "metadata": {},
     "output_type": "display_data"
    },
    {
     "data": {
      "text/plain": [
       "<Figure size 720x720 with 0 Axes>"
      ]
     },
     "metadata": {},
     "output_type": "display_data"
    },
    {
     "data": {
      "text/plain": [
       "<Figure size 720x720 with 0 Axes>"
      ]
     },
     "metadata": {},
     "output_type": "display_data"
    },
    {
     "data": {
      "text/plain": [
       "<Figure size 720x720 with 0 Axes>"
      ]
     },
     "metadata": {},
     "output_type": "display_data"
    },
    {
     "data": {
      "text/plain": [
       "<Figure size 720x720 with 0 Axes>"
      ]
     },
     "metadata": {},
     "output_type": "display_data"
    },
    {
     "data": {
      "text/plain": [
       "<Figure size 720x720 with 0 Axes>"
      ]
     },
     "metadata": {},
     "output_type": "display_data"
    },
    {
     "data": {
      "text/plain": [
       "<Figure size 720x720 with 0 Axes>"
      ]
     },
     "metadata": {},
     "output_type": "display_data"
    },
    {
     "data": {
      "text/plain": [
       "<Figure size 720x720 with 0 Axes>"
      ]
     },
     "metadata": {},
     "output_type": "display_data"
    },
    {
     "data": {
      "text/plain": [
       "<Figure size 720x720 with 0 Axes>"
      ]
     },
     "metadata": {},
     "output_type": "display_data"
    },
    {
     "data": {
      "text/plain": [
       "<Figure size 720x720 with 0 Axes>"
      ]
     },
     "metadata": {},
     "output_type": "display_data"
    },
    {
     "data": {
      "text/plain": [
       "<Figure size 720x720 with 0 Axes>"
      ]
     },
     "metadata": {},
     "output_type": "display_data"
    },
    {
     "data": {
      "text/plain": [
       "<Figure size 720x720 with 0 Axes>"
      ]
     },
     "metadata": {},
     "output_type": "display_data"
    },
    {
     "data": {
      "text/plain": [
       "<Figure size 720x720 with 0 Axes>"
      ]
     },
     "metadata": {},
     "output_type": "display_data"
    },
    {
     "data": {
      "text/plain": [
       "<Figure size 720x720 with 0 Axes>"
      ]
     },
     "metadata": {},
     "output_type": "display_data"
    },
    {
     "data": {
      "text/plain": [
       "<Figure size 720x720 with 0 Axes>"
      ]
     },
     "metadata": {},
     "output_type": "display_data"
    },
    {
     "data": {
      "text/plain": [
       "<Figure size 720x720 with 0 Axes>"
      ]
     },
     "metadata": {},
     "output_type": "display_data"
    },
    {
     "data": {
      "text/plain": [
       "<Figure size 720x720 with 0 Axes>"
      ]
     },
     "metadata": {},
     "output_type": "display_data"
    },
    {
     "data": {
      "text/plain": [
       "<Figure size 720x720 with 0 Axes>"
      ]
     },
     "metadata": {},
     "output_type": "display_data"
    },
    {
     "data": {
      "text/plain": [
       "<Figure size 720x720 with 0 Axes>"
      ]
     },
     "metadata": {},
     "output_type": "display_data"
    },
    {
     "data": {
      "text/plain": [
       "<Figure size 720x720 with 0 Axes>"
      ]
     },
     "metadata": {},
     "output_type": "display_data"
    },
    {
     "data": {
      "text/plain": [
       "<Figure size 720x720 with 0 Axes>"
      ]
     },
     "metadata": {},
     "output_type": "display_data"
    }
   ],
   "source": [
    "%%time\n",
    "fig, ax = plt.subplots(1, 1, figsize = (10,10))\n",
    "\n",
    "def animate(hour):\n",
    "    ax.clear()\n",
    "    ax.set_title('Relative Traffic - Hour ' + str(hour))    \n",
    "    plt.figure(figsize = (10,10))\n",
    "    for label in loc_df.label.unique():\n",
    "        ax.plot(loc_df.longitude[loc_df.label == label],loc_df.latitude[loc_df.label == label],'.', alpha = 1, markersize = 2, color = 'gray')\n",
    "        ax.plot(kmeans.cluster_centers_[label,0],kmeans.cluster_centers_[label,1],'o', color = 'r')\n",
    "\n",
    "\n",
    "    for label in clusters.label:\n",
    "        for dest_label in clusters.label:\n",
    "            num_of_rides = len(df_[(df_.start_cluster == label) & (df_.end_cluster == dest_label) & (df_.starthour == hour)])\n",
    "            dist_x = clusters.x[clusters.label == label].values[0] - clusters.x[clusters.label == dest_label].values[0]\n",
    "            dist_y = clusters.y[clusters.label == label].values[0] - clusters.y[clusters.label == dest_label].values[0]\n",
    "            pct = np.true_divide(num_of_rides,len(df_[df_.starthour == hour]))\n",
    "            arr = Arrow(clusters.x[clusters.label == label].values, clusters.y[clusters.label == label].values, -dist_x, -dist_y, edgecolor='white', width = pct)\n",
    "            ax.add_patch(arr)\n",
    "            arr.set_facecolor('g')\n",
    "\n",
    "\n",
    "ani = animation.FuncAnimation(fig,animate,sorted(df_.starthour.unique()), interval = 1000)\n",
    "plt.close()\n",
    "ani.save('Relative.gif', writer='imagemagick', fps=2)\n",
    "filename = 'Relative.gif'\n",
    "video = io.open(filename, 'r+b').read()\n",
    "encoded = base64.b64encode(video)\n",
    "HTML(data='''<img src=\"data:image/gif;base64,{0}\" type=\"gif\" />'''.format(encoded.decode('ascii')))"
   ]
  },
  {
   "cell_type": "code",
   "execution_count": 130,
   "metadata": {},
   "outputs": [
    {
     "data": {
      "text/plain": [
       "0.00      61.0\n",
       "0.25     366.0\n",
       "0.50     607.0\n",
       "0.75    1040.0\n",
       "1.00    3600.0\n",
       "Name: tripduration, dtype: float64"
      ]
     },
     "execution_count": 130,
     "metadata": {},
     "output_type": "execute_result"
    }
   ],
   "source": [
    "df.tripduration.quantile([0, .25, .5, .75, 1.])"
   ]
  },
  {
   "cell_type": "code",
   "execution_count": 133,
   "metadata": {
    "collapsed": true
   },
   "outputs": [],
   "source": [
    "df.to_feather('df_')"
   ]
  },
  {
   "cell_type": "code",
   "execution_count": 9,
   "metadata": {
    "collapsed": true
   },
   "outputs": [],
   "source": [
    "def col_encode(col):\n",
    "    \"\"\"Encodes a pandas column with continous ids. \n",
    "    \"\"\"\n",
    "    uniq = np.unique(col)\n",
    "    name2idx = {o:i for i,o in enumerate(uniq)}\n",
    "    return name2idx#, np.array([name2idx[x] for x in col]), len(uniq)"
   ]
  },
  {
   "cell_type": "code",
   "execution_count": 10,
   "metadata": {},
   "outputs": [
    {
     "data": {
      "text/plain": [
       "{'Customer': 0, 'Subscriber': 1}"
      ]
     },
     "execution_count": 10,
     "metadata": {},
     "output_type": "execute_result"
    }
   ],
   "source": [
    "col_encode(df['usertype'])"
   ]
  },
  {
   "cell_type": "code",
   "execution_count": 11,
   "metadata": {},
   "outputs": [
    {
     "name": "stdout",
     "output_type": "stream",
     "text": [
      "CPU times: user 20.9 s, sys: 271 ms, total: 21.2 s\n",
      "Wall time: 21.2 s\n"
     ]
    }
   ],
   "source": [
    "%%time\n",
    "df['user_enc'] = df['usertype'].map(col_encode(df['usertype']))"
   ]
  },
  {
   "cell_type": "code",
   "execution_count": 14,
   "metadata": {},
   "outputs": [
    {
     "data": {
      "text/html": [
       "<div>\n",
       "<style>\n",
       "    .dataframe thead tr:only-child th {\n",
       "        text-align: right;\n",
       "    }\n",
       "\n",
       "    .dataframe thead th {\n",
       "        text-align: left;\n",
       "    }\n",
       "\n",
       "    .dataframe tbody tr th {\n",
       "        vertical-align: top;\n",
       "    }\n",
       "</style>\n",
       "<table border=\"1\" class=\"dataframe\">\n",
       "  <thead>\n",
       "    <tr style=\"text-align: right;\">\n",
       "      <th></th>\n",
       "      <th>tripduration</th>\n",
       "      <th>starttime</th>\n",
       "      <th>stoptime</th>\n",
       "      <th>start station id</th>\n",
       "      <th>end station id</th>\n",
       "      <th>bikeid</th>\n",
       "      <th>usertype</th>\n",
       "      <th>birth year</th>\n",
       "      <th>gender</th>\n",
       "      <th>starthour</th>\n",
       "      <th>date</th>\n",
       "      <th>weekday</th>\n",
       "      <th>weekend</th>\n",
       "      <th>month</th>\n",
       "      <th>time</th>\n",
       "      <th>Temp_high</th>\n",
       "      <th>Temp_avg</th>\n",
       "      <th>Temp_low</th>\n",
       "      <th>Precip</th>\n",
       "      <th>Rain</th>\n",
       "      <th>Snow</th>\n",
       "      <th>Fog</th>\n",
       "      <th>rain_vol</th>\n",
       "      <th>temp_level</th>\n",
       "      <th>lat1</th>\n",
       "      <th>lon1</th>\n",
       "      <th>lat2</th>\n",
       "      <th>lon2</th>\n",
       "      <th>start_cluster</th>\n",
       "      <th>end_cluster</th>\n",
       "      <th>user_enc</th>\n",
       "    </tr>\n",
       "  </thead>\n",
       "  <tbody>\n",
       "    <tr>\n",
       "      <th>0</th>\n",
       "      <td>1282</td>\n",
       "      <td>2017-01-01 00:00:45</td>\n",
       "      <td>2017-01-01 00:22:08</td>\n",
       "      <td>3263</td>\n",
       "      <td>498</td>\n",
       "      <td>21136</td>\n",
       "      <td>Subscriber</td>\n",
       "      <td>1987</td>\n",
       "      <td>2</td>\n",
       "      <td>0.0</td>\n",
       "      <td>2017-01-01</td>\n",
       "      <td>7</td>\n",
       "      <td>1</td>\n",
       "      <td>1</td>\n",
       "      <td>0.000000</td>\n",
       "      <td>46</td>\n",
       "      <td>44</td>\n",
       "      <td>41</td>\n",
       "      <td>0.0</td>\n",
       "      <td>0</td>\n",
       "      <td>0</td>\n",
       "      <td>0</td>\n",
       "      <td>0</td>\n",
       "      <td>0</td>\n",
       "      <td>40.729307</td>\n",
       "      <td>-73.990839</td>\n",
       "      <td>40.748549</td>\n",
       "      <td>-73.988084</td>\n",
       "      <td>5</td>\n",
       "      <td>1</td>\n",
       "      <td>1</td>\n",
       "    </tr>\n",
       "    <tr>\n",
       "      <th>1</th>\n",
       "      <td>648</td>\n",
       "      <td>2017-01-01 00:00:57</td>\n",
       "      <td>2017-01-01 00:11:46</td>\n",
       "      <td>3143</td>\n",
       "      <td>3152</td>\n",
       "      <td>18147</td>\n",
       "      <td>Customer</td>\n",
       "      <td>-1</td>\n",
       "      <td>0</td>\n",
       "      <td>0.0</td>\n",
       "      <td>2017-01-01</td>\n",
       "      <td>7</td>\n",
       "      <td>1</td>\n",
       "      <td>1</td>\n",
       "      <td>0.000000</td>\n",
       "      <td>46</td>\n",
       "      <td>44</td>\n",
       "      <td>41</td>\n",
       "      <td>0.0</td>\n",
       "      <td>0</td>\n",
       "      <td>0</td>\n",
       "      <td>0</td>\n",
       "      <td>0</td>\n",
       "      <td>0</td>\n",
       "      <td>40.776372</td>\n",
       "      <td>-73.964235</td>\n",
       "      <td>40.768737</td>\n",
       "      <td>-73.961199</td>\n",
       "      <td>14</td>\n",
       "      <td>14</td>\n",
       "      <td>0</td>\n",
       "    </tr>\n",
       "    <tr>\n",
       "      <th>2</th>\n",
       "      <td>631</td>\n",
       "      <td>2017-01-01 00:01:10</td>\n",
       "      <td>2017-01-01 00:11:42</td>\n",
       "      <td>3143</td>\n",
       "      <td>3152</td>\n",
       "      <td>21211</td>\n",
       "      <td>Customer</td>\n",
       "      <td>-1</td>\n",
       "      <td>0</td>\n",
       "      <td>0.0</td>\n",
       "      <td>2017-01-01</td>\n",
       "      <td>7</td>\n",
       "      <td>1</td>\n",
       "      <td>1</td>\n",
       "      <td>1.666667</td>\n",
       "      <td>46</td>\n",
       "      <td>44</td>\n",
       "      <td>41</td>\n",
       "      <td>0.0</td>\n",
       "      <td>0</td>\n",
       "      <td>0</td>\n",
       "      <td>0</td>\n",
       "      <td>0</td>\n",
       "      <td>0</td>\n",
       "      <td>40.776372</td>\n",
       "      <td>-73.964235</td>\n",
       "      <td>40.768737</td>\n",
       "      <td>-73.961199</td>\n",
       "      <td>14</td>\n",
       "      <td>14</td>\n",
       "      <td>0</td>\n",
       "    </tr>\n",
       "    <tr>\n",
       "      <th>3</th>\n",
       "      <td>621</td>\n",
       "      <td>2017-01-01 00:01:25</td>\n",
       "      <td>2017-01-01 00:11:47</td>\n",
       "      <td>3143</td>\n",
       "      <td>3152</td>\n",
       "      <td>26819</td>\n",
       "      <td>Customer</td>\n",
       "      <td>-1</td>\n",
       "      <td>0</td>\n",
       "      <td>0.0</td>\n",
       "      <td>2017-01-01</td>\n",
       "      <td>7</td>\n",
       "      <td>1</td>\n",
       "      <td>1</td>\n",
       "      <td>1.666667</td>\n",
       "      <td>46</td>\n",
       "      <td>44</td>\n",
       "      <td>41</td>\n",
       "      <td>0.0</td>\n",
       "      <td>0</td>\n",
       "      <td>0</td>\n",
       "      <td>0</td>\n",
       "      <td>0</td>\n",
       "      <td>0</td>\n",
       "      <td>40.776372</td>\n",
       "      <td>-73.964235</td>\n",
       "      <td>40.768737</td>\n",
       "      <td>-73.961199</td>\n",
       "      <td>14</td>\n",
       "      <td>14</td>\n",
       "      <td>0</td>\n",
       "    </tr>\n",
       "    <tr>\n",
       "      <th>4</th>\n",
       "      <td>559</td>\n",
       "      <td>2017-01-01 00:05:00</td>\n",
       "      <td>2017-01-01 00:14:20</td>\n",
       "      <td>499</td>\n",
       "      <td>479</td>\n",
       "      <td>27294</td>\n",
       "      <td>Subscriber</td>\n",
       "      <td>1973</td>\n",
       "      <td>1</td>\n",
       "      <td>0.0</td>\n",
       "      <td>2017-01-01</td>\n",
       "      <td>7</td>\n",
       "      <td>1</td>\n",
       "      <td>1</td>\n",
       "      <td>8.333333</td>\n",
       "      <td>46</td>\n",
       "      <td>44</td>\n",
       "      <td>41</td>\n",
       "      <td>0.0</td>\n",
       "      <td>0</td>\n",
       "      <td>0</td>\n",
       "      <td>0</td>\n",
       "      <td>0</td>\n",
       "      <td>0</td>\n",
       "      <td>40.769155</td>\n",
       "      <td>-73.981918</td>\n",
       "      <td>40.760193</td>\n",
       "      <td>-73.991255</td>\n",
       "      <td>7</td>\n",
       "      <td>7</td>\n",
       "      <td>1</td>\n",
       "    </tr>\n",
       "  </tbody>\n",
       "</table>\n",
       "</div>"
      ],
      "text/plain": [
       "   tripduration           starttime            stoptime  start station id  \\\n",
       "0          1282 2017-01-01 00:00:45 2017-01-01 00:22:08              3263   \n",
       "1           648 2017-01-01 00:00:57 2017-01-01 00:11:46              3143   \n",
       "2           631 2017-01-01 00:01:10 2017-01-01 00:11:42              3143   \n",
       "3           621 2017-01-01 00:01:25 2017-01-01 00:11:47              3143   \n",
       "4           559 2017-01-01 00:05:00 2017-01-01 00:14:20               499   \n",
       "\n",
       "   end station id  bikeid    usertype  birth year  gender  starthour  \\\n",
       "0             498   21136  Subscriber        1987       2        0.0   \n",
       "1            3152   18147    Customer          -1       0        0.0   \n",
       "2            3152   21211    Customer          -1       0        0.0   \n",
       "3            3152   26819    Customer          -1       0        0.0   \n",
       "4             479   27294  Subscriber        1973       1        0.0   \n",
       "\n",
       "        date  weekday  weekend  month      time  Temp_high  Temp_avg  \\\n",
       "0 2017-01-01        7        1      1  0.000000         46        44   \n",
       "1 2017-01-01        7        1      1  0.000000         46        44   \n",
       "2 2017-01-01        7        1      1  1.666667         46        44   \n",
       "3 2017-01-01        7        1      1  1.666667         46        44   \n",
       "4 2017-01-01        7        1      1  8.333333         46        44   \n",
       "\n",
       "   Temp_low  Precip  Rain  Snow  Fog  rain_vol  temp_level       lat1  \\\n",
       "0        41     0.0     0     0    0         0           0  40.729307   \n",
       "1        41     0.0     0     0    0         0           0  40.776372   \n",
       "2        41     0.0     0     0    0         0           0  40.776372   \n",
       "3        41     0.0     0     0    0         0           0  40.776372   \n",
       "4        41     0.0     0     0    0         0           0  40.769155   \n",
       "\n",
       "        lon1       lat2       lon2  start_cluster  end_cluster  user_enc  \n",
       "0 -73.990839  40.748549 -73.988084              5            1         1  \n",
       "1 -73.964235  40.768737 -73.961199             14           14         0  \n",
       "2 -73.964235  40.768737 -73.961199             14           14         0  \n",
       "3 -73.964235  40.768737 -73.961199             14           14         0  \n",
       "4 -73.981918  40.760193 -73.991255              7            7         1  "
      ]
     },
     "metadata": {},
     "output_type": "display_data"
    }
   ],
   "source": [
    "display_all(df.head(5))"
   ]
  },
  {
   "cell_type": "code",
   "execution_count": 38,
   "metadata": {},
   "outputs": [
    {
     "name": "stdout",
     "output_type": "stream",
     "text": [
      "CPU times: user 684 ms, sys: 2.36 s, total: 3.05 s\n",
      "Wall time: 901 ms\n"
     ]
    }
   ],
   "source": [
    "%%time\n",
    "# naive distance\n",
    "df['est_dist'] = abs(df['lat1'] - df['lat2']) + abs(df['lon1'] - df['lon2'])\n",
    "df['est_dist'] = df['est_dist'] * 111195"
   ]
  },
  {
   "cell_type": "code",
   "execution_count": 39,
   "metadata": {},
   "outputs": [
    {
     "name": "stdout",
     "output_type": "stream",
     "text": [
      "CPU times: user 3.32 s, sys: 353 ms, total: 3.68 s\n",
      "Wall time: 3.7 s\n"
     ]
    },
    {
     "data": {
      "image/png": "[encoded data removed]",
      "text/plain": [
       "<Figure size 1152x648 with 1 Axes>"
      ]
     },
     "metadata": {},
     "output_type": "display_data"
    }
   ],
   "source": [
    "%%time\n",
    "d = df.est_dist\n",
    "sns.distplot(d, bins = 50);\n",
    "del d"
   ]
  },
  {
   "cell_type": "code",
   "execution_count": 47,
   "metadata": {},
   "outputs": [
    {
     "data": {
      "text/plain": [
       "array([[ 2445.83958415,  1186.58065488,  1186.58065488, ...,\n",
       "         3820.71579507,  2879.34782726,  1307.12492693]])"
      ]
     },
     "execution_count": 47,
     "metadata": {},
     "output_type": "execute_result"
    }
   ],
   "source": [
    "np.array(df.est_dist).reshape(1, -1)"
   ]
  },
  {
   "cell_type": "code",
   "execution_count": 16,
   "metadata": {},
   "outputs": [
    {
     "name": "stdout",
     "output_type": "stream",
     "text": [
      "CPU times: user 9.41 s, sys: 12.3 s, total: 21.7 s\n",
      "Wall time: 23.1 s\n"
     ]
    }
   ],
   "source": [
    "%%time\n",
    "for i in ['starttime', 'stoptime', 'bikeid', 'usertype']:\n",
    "    try:\n",
    "        df.drop([i], 1, inplace=True)\n",
    "    except:\n",
    "        pass"
   ]
  },
  {
   "cell_type": "code",
   "execution_count": 25,
   "metadata": {},
   "outputs": [
    {
     "data": {
      "text/plain": [
       "0.50     2067.339662\n",
       "0.95     6643.651056\n",
       "0.97     7657.077835\n",
       "0.98     8380.180045\n",
       "0.99     9529.209129\n",
       "1.00    19882.601152\n",
       "Name: est_dist, dtype: float64"
      ]
     },
     "execution_count": 25,
     "metadata": {},
     "output_type": "execute_result"
    }
   ],
   "source": [
    "df.est_dist.quantile([.5, .95, .97, .98, .99, 1.])"
   ]
  },
  {
   "cell_type": "code",
   "execution_count": 31,
   "metadata": {},
   "outputs": [
    {
     "data": {
      "text/html": [
       "<div>\n",
       "<style>\n",
       "    .dataframe thead tr:only-child th {\n",
       "        text-align: right;\n",
       "    }\n",
       "\n",
       "    .dataframe thead th {\n",
       "        text-align: left;\n",
       "    }\n",
       "\n",
       "    .dataframe tbody tr th {\n",
       "        vertical-align: top;\n",
       "    }\n",
       "</style>\n",
       "<table border=\"1\" class=\"dataframe\">\n",
       "  <thead>\n",
       "    <tr style=\"text-align: right;\">\n",
       "      <th></th>\n",
       "      <th>tripduration</th>\n",
       "      <th>start station id</th>\n",
       "      <th>end station id</th>\n",
       "      <th>birth year</th>\n",
       "      <th>gender</th>\n",
       "      <th>starthour</th>\n",
       "      <th>date</th>\n",
       "      <th>weekday</th>\n",
       "      <th>weekend</th>\n",
       "      <th>month</th>\n",
       "      <th>time</th>\n",
       "      <th>Temp_high</th>\n",
       "      <th>Temp_avg</th>\n",
       "      <th>Temp_low</th>\n",
       "      <th>Precip</th>\n",
       "      <th>Rain</th>\n",
       "      <th>Snow</th>\n",
       "      <th>Fog</th>\n",
       "      <th>rain_vol</th>\n",
       "      <th>temp_level</th>\n",
       "      <th>lat1</th>\n",
       "      <th>lon1</th>\n",
       "      <th>lat2</th>\n",
       "      <th>lon2</th>\n",
       "      <th>start_cluster</th>\n",
       "      <th>end_cluster</th>\n",
       "      <th>est_dist</th>\n",
       "    </tr>\n",
       "  </thead>\n",
       "  <tbody>\n",
       "    <tr>\n",
       "      <th>16090312</th>\n",
       "      <td>255</td>\n",
       "      <td>3161</td>\n",
       "      <td>3166</td>\n",
       "      <td>1969</td>\n",
       "      <td>1</td>\n",
       "      <td>15.5</td>\n",
       "      <td>2017-12-22</td>\n",
       "      <td>5</td>\n",
       "      <td>0</td>\n",
       "      <td>12</td>\n",
       "      <td>1565.000000</td>\n",
       "      <td>50</td>\n",
       "      <td>43</td>\n",
       "      <td>35</td>\n",
       "      <td>0.0</td>\n",
       "      <td>0</td>\n",
       "      <td>0</td>\n",
       "      <td>0</td>\n",
       "      <td>0</td>\n",
       "      <td>0</td>\n",
       "      <td>40.780184</td>\n",
       "      <td>-73.977285</td>\n",
       "      <td>40.780578</td>\n",
       "      <td>-73.985624</td>\n",
       "      <td>2</td>\n",
       "      <td>2</td>\n",
       "      <td>971.066546</td>\n",
       "    </tr>\n",
       "    <tr>\n",
       "      <th>10774526</th>\n",
       "      <td>421</td>\n",
       "      <td>382</td>\n",
       "      <td>284</td>\n",
       "      <td>1985</td>\n",
       "      <td>1</td>\n",
       "      <td>20.0</td>\n",
       "      <td>2017-09-10</td>\n",
       "      <td>7</td>\n",
       "      <td>1</td>\n",
       "      <td>9</td>\n",
       "      <td>2035.000000</td>\n",
       "      <td>72</td>\n",
       "      <td>65</td>\n",
       "      <td>57</td>\n",
       "      <td>0.0</td>\n",
       "      <td>0</td>\n",
       "      <td>0</td>\n",
       "      <td>0</td>\n",
       "      <td>0</td>\n",
       "      <td>2</td>\n",
       "      <td>40.734927</td>\n",
       "      <td>-73.992005</td>\n",
       "      <td>40.739017</td>\n",
       "      <td>-74.002638</td>\n",
       "      <td>9</td>\n",
       "      <td>1</td>\n",
       "      <td>1637.066391</td>\n",
       "    </tr>\n",
       "    <tr>\n",
       "      <th>11956604</th>\n",
       "      <td>1480</td>\n",
       "      <td>435</td>\n",
       "      <td>3166</td>\n",
       "      <td>1971</td>\n",
       "      <td>1</td>\n",
       "      <td>17.0</td>\n",
       "      <td>2017-09-28</td>\n",
       "      <td>4</td>\n",
       "      <td>0</td>\n",
       "      <td>9</td>\n",
       "      <td>1715.000000</td>\n",
       "      <td>79</td>\n",
       "      <td>69</td>\n",
       "      <td>59</td>\n",
       "      <td>0.0</td>\n",
       "      <td>0</td>\n",
       "      <td>0</td>\n",
       "      <td>0</td>\n",
       "      <td>0</td>\n",
       "      <td>3</td>\n",
       "      <td>40.741740</td>\n",
       "      <td>-73.994156</td>\n",
       "      <td>40.780578</td>\n",
       "      <td>-73.985624</td>\n",
       "      <td>1</td>\n",
       "      <td>2</td>\n",
       "      <td>5267.256743</td>\n",
       "    </tr>\n",
       "    <tr>\n",
       "      <th>4568867</th>\n",
       "      <td>2659</td>\n",
       "      <td>3295</td>\n",
       "      <td>441</td>\n",
       "      <td>-1</td>\n",
       "      <td>0</td>\n",
       "      <td>14.0</td>\n",
       "      <td>2017-05-21</td>\n",
       "      <td>7</td>\n",
       "      <td>1</td>\n",
       "      <td>5</td>\n",
       "      <td>1428.333333</td>\n",
       "      <td>69</td>\n",
       "      <td>61</td>\n",
       "      <td>52</td>\n",
       "      <td>0.0</td>\n",
       "      <td>0</td>\n",
       "      <td>0</td>\n",
       "      <td>0</td>\n",
       "      <td>0</td>\n",
       "      <td>2</td>\n",
       "      <td>40.791270</td>\n",
       "      <td>-73.964839</td>\n",
       "      <td>40.756014</td>\n",
       "      <td>-73.967416</td>\n",
       "      <td>8</td>\n",
       "      <td>13</td>\n",
       "      <td>4206.840440</td>\n",
       "    </tr>\n",
       "    <tr>\n",
       "      <th>11431798</th>\n",
       "      <td>480</td>\n",
       "      <td>517</td>\n",
       "      <td>497</td>\n",
       "      <td>1980</td>\n",
       "      <td>1</td>\n",
       "      <td>18.0</td>\n",
       "      <td>2017-09-20</td>\n",
       "      <td>3</td>\n",
       "      <td>0</td>\n",
       "      <td>9</td>\n",
       "      <td>1840.000000</td>\n",
       "      <td>79</td>\n",
       "      <td>75</td>\n",
       "      <td>71</td>\n",
       "      <td>0.0</td>\n",
       "      <td>0</td>\n",
       "      <td>0</td>\n",
       "      <td>0</td>\n",
       "      <td>0</td>\n",
       "      <td>3</td>\n",
       "      <td>40.751581</td>\n",
       "      <td>-73.977910</td>\n",
       "      <td>40.737050</td>\n",
       "      <td>-73.990093</td>\n",
       "      <td>13</td>\n",
       "      <td>9</td>\n",
       "      <td>2970.476590</td>\n",
       "    </tr>\n",
       "  </tbody>\n",
       "</table>\n",
       "</div>"
      ],
      "text/plain": [
       "          tripduration  start station id  end station id  birth year  gender  \\\n",
       "16090312           255              3161            3166        1969       1   \n",
       "10774526           421               382             284        1985       1   \n",
       "11956604          1480               435            3166        1971       1   \n",
       "4568867           2659              3295             441          -1       0   \n",
       "11431798           480               517             497        1980       1   \n",
       "\n",
       "          starthour       date  weekday  weekend  month         time  \\\n",
       "16090312       15.5 2017-12-22        5        0     12  1565.000000   \n",
       "10774526       20.0 2017-09-10        7        1      9  2035.000000   \n",
       "11956604       17.0 2017-09-28        4        0      9  1715.000000   \n",
       "4568867        14.0 2017-05-21        7        1      5  1428.333333   \n",
       "11431798       18.0 2017-09-20        3        0      9  1840.000000   \n",
       "\n",
       "          Temp_high  Temp_avg  Temp_low  Precip  Rain  Snow  Fog  rain_vol  \\\n",
       "16090312         50        43        35     0.0     0     0    0         0   \n",
       "10774526         72        65        57     0.0     0     0    0         0   \n",
       "11956604         79        69        59     0.0     0     0    0         0   \n",
       "4568867          69        61        52     0.0     0     0    0         0   \n",
       "11431798         79        75        71     0.0     0     0    0         0   \n",
       "\n",
       "          temp_level       lat1       lon1       lat2       lon2  \\\n",
       "16090312           0  40.780184 -73.977285  40.780578 -73.985624   \n",
       "10774526           2  40.734927 -73.992005  40.739017 -74.002638   \n",
       "11956604           3  40.741740 -73.994156  40.780578 -73.985624   \n",
       "4568867            2  40.791270 -73.964839  40.756014 -73.967416   \n",
       "11431798           3  40.751581 -73.977910  40.737050 -73.990093   \n",
       "\n",
       "          start_cluster  end_cluster     est_dist  \n",
       "16090312              2            2   971.066546  \n",
       "10774526              9            1  1637.066391  \n",
       "11956604              1            2  5267.256743  \n",
       "4568867               8           13  4206.840440  \n",
       "11431798             13            9  2970.476590  "
      ]
     },
     "metadata": {},
     "output_type": "display_data"
    }
   ],
   "source": [
    "display_all(df.sample(5))"
   ]
  },
  {
   "cell_type": "code",
   "execution_count": 40,
   "metadata": {
    "collapsed": true
   },
   "outputs": [],
   "source": [
    "df['speed'] = df.est_dist/df.tripduration"
   ]
  },
  {
   "cell_type": "code",
   "execution_count": 41,
   "metadata": {},
   "outputs": [
    {
     "data": {
      "text/plain": [
       "0.0      0.000015\n",
       "0.1      2.061646\n",
       "0.2      2.646135\n",
       "0.3      3.037756\n",
       "0.4      3.368957\n",
       "0.5      3.681570\n",
       "0.6      3.999842\n",
       "0.7      4.346341\n",
       "0.8      4.759431\n",
       "0.9      5.347649\n",
       "1.0    105.474367\n",
       "Name: speed, dtype: float64"
      ]
     },
     "execution_count": 41,
     "metadata": {},
     "output_type": "execute_result"
    }
   ],
   "source": [
    "df.speed.quantile([0, .1, .2, .3, .4, .5, .6, .7 ,.8, .9, 1.])"
   ]
  },
  {
   "cell_type": "code",
   "execution_count": 42,
   "metadata": {},
   "outputs": [
    {
     "data": {
      "text/plain": [
       "0.900      5.347649\n",
       "0.920      5.516571\n",
       "0.940      5.722792\n",
       "0.960      5.995605\n",
       "0.980      6.425008\n",
       "0.990      6.820323\n",
       "0.995      7.188719\n",
       "1.000    105.474367\n",
       "Name: speed, dtype: float64"
      ]
     },
     "execution_count": 42,
     "metadata": {},
     "output_type": "execute_result"
    }
   ],
   "source": [
    "df.speed.quantile([.9, .92, .94 ,.96, .98, .99, .995, 1.])"
   ]
  },
  {
   "cell_type": "code",
   "execution_count": 43,
   "metadata": {
    "collapsed": true
   },
   "outputs": [],
   "source": [
    "idx = df[df.speed > 10].index\n",
    "df.drop(idx, 0 ,inplace=True)"
   ]
  },
  {
   "cell_type": "code",
   "execution_count": 44,
   "metadata": {
    "collapsed": true
   },
   "outputs": [],
   "source": [
    "df = df.reset_index()"
   ]
  },
  {
   "cell_type": "code",
   "execution_count": 46,
   "metadata": {},
   "outputs": [
    {
     "name": "stdout",
     "output_type": "stream",
     "text": [
      "CPU times: user 3.99 s, sys: 523 ms, total: 4.51 s\n",
      "Wall time: 4.53 s\n"
     ]
    },
    {
     "data": {
      "image/png": "[encoded data removed]",
      "text/plain": [
       "<Figure size 1152x648 with 1 Axes>"
      ]
     },
     "metadata": {},
     "output_type": "display_data"
    }
   ],
   "source": [
    "%%time\n",
    "d = df.speed\n",
    "sns.distplot(d, bins = 100);\n",
    "del d"
   ]
  },
  {
   "cell_type": "code",
   "execution_count": 23,
   "metadata": {},
   "outputs": [
    {
     "name": "stdout",
     "output_type": "stream",
     "text": [
      "CPU times: user 9.26 s, sys: 10.8 s, total: 20.1 s\n",
      "Wall time: 20.1 s\n"
     ]
    }
   ],
   "source": [
    "%%time\n",
    "for i in ['index', 'lat1', 'lon1', 'lat2', 'lon2', 'time', 'speed']:\n",
    "    try:\n",
    "        df.drop([i], 1, inplace=True)\n",
    "    except:\n",
    "        pass"
   ]
  },
  {
   "cell_type": "code",
   "execution_count": 24,
   "metadata": {},
   "outputs": [
    {
     "data": {
      "text/html": [
       "<div>\n",
       "<style>\n",
       "    .dataframe thead tr:only-child th {\n",
       "        text-align: right;\n",
       "    }\n",
       "\n",
       "    .dataframe thead th {\n",
       "        text-align: left;\n",
       "    }\n",
       "\n",
       "    .dataframe tbody tr th {\n",
       "        vertical-align: top;\n",
       "    }\n",
       "</style>\n",
       "<table border=\"1\" class=\"dataframe\">\n",
       "  <thead>\n",
       "    <tr style=\"text-align: right;\">\n",
       "      <th></th>\n",
       "      <th>tripduration</th>\n",
       "      <th>start station id</th>\n",
       "      <th>end station id</th>\n",
       "      <th>birth year</th>\n",
       "      <th>gender</th>\n",
       "      <th>starthour</th>\n",
       "      <th>date</th>\n",
       "      <th>weekday</th>\n",
       "      <th>weekend</th>\n",
       "      <th>month</th>\n",
       "      <th>Temp_high</th>\n",
       "      <th>Temp_avg</th>\n",
       "      <th>Temp_low</th>\n",
       "      <th>Precip</th>\n",
       "      <th>Rain</th>\n",
       "      <th>Snow</th>\n",
       "      <th>Fog</th>\n",
       "      <th>rain_vol</th>\n",
       "      <th>temp_level</th>\n",
       "      <th>start_cluster</th>\n",
       "      <th>end_cluster</th>\n",
       "      <th>user_enc</th>\n",
       "      <th>est_dist</th>\n",
       "    </tr>\n",
       "  </thead>\n",
       "  <tbody>\n",
       "    <tr>\n",
       "      <th>0</th>\n",
       "      <td>1282</td>\n",
       "      <td>3263</td>\n",
       "      <td>498</td>\n",
       "      <td>1987</td>\n",
       "      <td>2</td>\n",
       "      <td>0.0</td>\n",
       "      <td>2017-01-01</td>\n",
       "      <td>7</td>\n",
       "      <td>1</td>\n",
       "      <td>1</td>\n",
       "      <td>46</td>\n",
       "      <td>44</td>\n",
       "      <td>41</td>\n",
       "      <td>0.0</td>\n",
       "      <td>0</td>\n",
       "      <td>0</td>\n",
       "      <td>0</td>\n",
       "      <td>0</td>\n",
       "      <td>0</td>\n",
       "      <td>5</td>\n",
       "      <td>1</td>\n",
       "      <td>1</td>\n",
       "      <td>2445.839584</td>\n",
       "    </tr>\n",
       "    <tr>\n",
       "      <th>1</th>\n",
       "      <td>648</td>\n",
       "      <td>3143</td>\n",
       "      <td>3152</td>\n",
       "      <td>-1</td>\n",
       "      <td>0</td>\n",
       "      <td>0.0</td>\n",
       "      <td>2017-01-01</td>\n",
       "      <td>7</td>\n",
       "      <td>1</td>\n",
       "      <td>1</td>\n",
       "      <td>46</td>\n",
       "      <td>44</td>\n",
       "      <td>41</td>\n",
       "      <td>0.0</td>\n",
       "      <td>0</td>\n",
       "      <td>0</td>\n",
       "      <td>0</td>\n",
       "      <td>0</td>\n",
       "      <td>0</td>\n",
       "      <td>14</td>\n",
       "      <td>14</td>\n",
       "      <td>0</td>\n",
       "      <td>1186.580655</td>\n",
       "    </tr>\n",
       "    <tr>\n",
       "      <th>2</th>\n",
       "      <td>631</td>\n",
       "      <td>3143</td>\n",
       "      <td>3152</td>\n",
       "      <td>-1</td>\n",
       "      <td>0</td>\n",
       "      <td>0.0</td>\n",
       "      <td>2017-01-01</td>\n",
       "      <td>7</td>\n",
       "      <td>1</td>\n",
       "      <td>1</td>\n",
       "      <td>46</td>\n",
       "      <td>44</td>\n",
       "      <td>41</td>\n",
       "      <td>0.0</td>\n",
       "      <td>0</td>\n",
       "      <td>0</td>\n",
       "      <td>0</td>\n",
       "      <td>0</td>\n",
       "      <td>0</td>\n",
       "      <td>14</td>\n",
       "      <td>14</td>\n",
       "      <td>0</td>\n",
       "      <td>1186.580655</td>\n",
       "    </tr>\n",
       "    <tr>\n",
       "      <th>3</th>\n",
       "      <td>621</td>\n",
       "      <td>3143</td>\n",
       "      <td>3152</td>\n",
       "      <td>-1</td>\n",
       "      <td>0</td>\n",
       "      <td>0.0</td>\n",
       "      <td>2017-01-01</td>\n",
       "      <td>7</td>\n",
       "      <td>1</td>\n",
       "      <td>1</td>\n",
       "      <td>46</td>\n",
       "      <td>44</td>\n",
       "      <td>41</td>\n",
       "      <td>0.0</td>\n",
       "      <td>0</td>\n",
       "      <td>0</td>\n",
       "      <td>0</td>\n",
       "      <td>0</td>\n",
       "      <td>0</td>\n",
       "      <td>14</td>\n",
       "      <td>14</td>\n",
       "      <td>0</td>\n",
       "      <td>1186.580655</td>\n",
       "    </tr>\n",
       "    <tr>\n",
       "      <th>4</th>\n",
       "      <td>559</td>\n",
       "      <td>499</td>\n",
       "      <td>479</td>\n",
       "      <td>1973</td>\n",
       "      <td>1</td>\n",
       "      <td>0.0</td>\n",
       "      <td>2017-01-01</td>\n",
       "      <td>7</td>\n",
       "      <td>1</td>\n",
       "      <td>1</td>\n",
       "      <td>46</td>\n",
       "      <td>44</td>\n",
       "      <td>41</td>\n",
       "      <td>0.0</td>\n",
       "      <td>0</td>\n",
       "      <td>0</td>\n",
       "      <td>0</td>\n",
       "      <td>0</td>\n",
       "      <td>0</td>\n",
       "      <td>7</td>\n",
       "      <td>7</td>\n",
       "      <td>1</td>\n",
       "      <td>2034.781759</td>\n",
       "    </tr>\n",
       "  </tbody>\n",
       "</table>\n",
       "</div>"
      ],
      "text/plain": [
       "   tripduration  start station id  end station id  birth year  gender  \\\n",
       "0          1282              3263             498        1987       2   \n",
       "1           648              3143            3152          -1       0   \n",
       "2           631              3143            3152          -1       0   \n",
       "3           621              3143            3152          -1       0   \n",
       "4           559               499             479        1973       1   \n",
       "\n",
       "   starthour       date  weekday  weekend  month  Temp_high  Temp_avg  \\\n",
       "0        0.0 2017-01-01        7        1      1         46        44   \n",
       "1        0.0 2017-01-01        7        1      1         46        44   \n",
       "2        0.0 2017-01-01        7        1      1         46        44   \n",
       "3        0.0 2017-01-01        7        1      1         46        44   \n",
       "4        0.0 2017-01-01        7        1      1         46        44   \n",
       "\n",
       "   Temp_low  Precip  Rain  Snow  Fog  rain_vol  temp_level  start_cluster  \\\n",
       "0        41     0.0     0     0    0         0           0              5   \n",
       "1        41     0.0     0     0    0         0           0             14   \n",
       "2        41     0.0     0     0    0         0           0             14   \n",
       "3        41     0.0     0     0    0         0           0             14   \n",
       "4        41     0.0     0     0    0         0           0              7   \n",
       "\n",
       "   end_cluster  user_enc     est_dist  \n",
       "0            1         1  2445.839584  \n",
       "1           14         0  1186.580655  \n",
       "2           14         0  1186.580655  \n",
       "3           14         0  1186.580655  \n",
       "4            7         1  2034.781759  "
      ]
     },
     "metadata": {},
     "output_type": "display_data"
    }
   ],
   "source": [
    "display_all(df.head())"
   ]
  },
  {
   "cell_type": "code",
   "execution_count": 167,
   "metadata": {
    "collapsed": true
   },
   "outputs": [],
   "source": [
    "date_temp = df.groupby(['month']).Temp_high.mean().reset_index()\n",
    "date_temp['month'] = date_temp['month']-1\n",
    "date_temp.columns = ['month', 'temp']"
   ]
  },
  {
   "cell_type": "code",
   "execution_count": 180,
   "metadata": {},
   "outputs": [
    {
     "data": {
      "image/png": "[encoded data removed]",
      "text/plain": [
       "<Figure size 1728x972 with 2 Axes>"
      ]
     },
     "metadata": {},
     "output_type": "display_data"
    }
   ],
   "source": [
    "tmp = df.groupby(['month']).tripduration.size().reset_index()\n",
    "#tmp = pd.merge(tmp, date_temp, 'left', 'month')\n",
    "\n",
    "fig, ax = plt.subplots(figsize=(24,13.5))\n",
    "ax2 = ax.twinx()\n",
    "\n",
    "sns.barplot(x=\"month\", y=\"tripduration\", data=tmp, color=\"#fff89e\", ax=ax);\n",
    "sns.regplot(x=\"month\", y=\"temp\", data=date_temp, ax=ax2, fit_reg=False);\n",
    "\n",
    "ax.set_ylim(0, None)\n",
    "ax2.set_ylim(32, 90)\n",
    "plt.title('Trip numbers in each month along average temperature', fontsize=20)\n",
    "plt.show()"
   ]
  },
  {
   "cell_type": "code",
   "execution_count": 25,
   "metadata": {},
   "outputs": [
    {
     "data": {
      "text/html": [
       "<div>\n",
       "<style>\n",
       "    .dataframe thead tr:only-child th {\n",
       "        text-align: right;\n",
       "    }\n",
       "\n",
       "    .dataframe thead th {\n",
       "        text-align: left;\n",
       "    }\n",
       "\n",
       "    .dataframe tbody tr th {\n",
       "        vertical-align: top;\n",
       "    }\n",
       "</style>\n",
       "<table border=\"1\" class=\"dataframe\">\n",
       "  <thead>\n",
       "    <tr style=\"text-align: right;\">\n",
       "      <th></th>\n",
       "      <th>date</th>\n",
       "      <th>Temp_high</th>\n",
       "      <th>diff</th>\n",
       "    </tr>\n",
       "  </thead>\n",
       "  <tbody>\n",
       "    <tr>\n",
       "      <th>0</th>\n",
       "      <td>2017-01-01</td>\n",
       "      <td>46</td>\n",
       "      <td>0</td>\n",
       "    </tr>\n",
       "    <tr>\n",
       "      <th>1</th>\n",
       "      <td>2017-01-02</td>\n",
       "      <td>39</td>\n",
       "      <td>-7</td>\n",
       "    </tr>\n",
       "    <tr>\n",
       "      <th>2</th>\n",
       "      <td>2017-01-03</td>\n",
       "      <td>43</td>\n",
       "      <td>4</td>\n",
       "    </tr>\n",
       "    <tr>\n",
       "      <th>3</th>\n",
       "      <td>2017-01-04</td>\n",
       "      <td>52</td>\n",
       "      <td>9</td>\n",
       "    </tr>\n",
       "    <tr>\n",
       "      <th>4</th>\n",
       "      <td>2017-01-05</td>\n",
       "      <td>33</td>\n",
       "      <td>-19</td>\n",
       "    </tr>\n",
       "  </tbody>\n",
       "</table>\n",
       "</div>"
      ],
      "text/plain": [
       "        date  Temp_high  diff\n",
       "0 2017-01-01         46     0\n",
       "1 2017-01-02         39    -7\n",
       "2 2017-01-03         43     4\n",
       "3 2017-01-04         52     9\n",
       "4 2017-01-05         33   -19"
      ]
     },
     "execution_count": 25,
     "metadata": {},
     "output_type": "execute_result"
    }
   ],
   "source": [
    "tmp = df[['date', 'Temp_high']].groupby(['date']).first().reset_index()\n",
    "tmp['diff'] = 0\n",
    "tmp.loc[1:, 'diff'] = np.diff(tmp.Temp_high)\n",
    "tmp.head()"
   ]
  },
  {
   "cell_type": "code",
   "execution_count": 26,
   "metadata": {
    "collapsed": true
   },
   "outputs": [],
   "source": [
    "temp_d = dict(zip(tmp['date'], tmp['diff']))"
   ]
  },
  {
   "cell_type": "code",
   "execution_count": 27,
   "metadata": {},
   "outputs": [
    {
     "name": "stdout",
     "output_type": "stream",
     "text": [
      "CPU times: user 49.3 s, sys: 1.54 s, total: 50.8 s\n",
      "Wall time: 50.9 s\n"
     ]
    }
   ],
   "source": [
    "%%time\n",
    "df['temp_diff'] = df['date'].map(temp_d)"
   ]
  },
  {
   "cell_type": "code",
   "execution_count": 28,
   "metadata": {
    "collapsed": true
   },
   "outputs": [],
   "source": [
    "df['est_dist'] = df['est_dist'].astype(int)"
   ]
  },
  {
   "cell_type": "code",
   "execution_count": 29,
   "metadata": {},
   "outputs": [
    {
     "data": {
      "image/png": "[encoded data removed]",
      "text/plain": [
       "<Figure size 1728x972 with 2 Axes>"
      ]
     },
     "metadata": {},
     "output_type": "display_data"
    }
   ],
   "source": [
    "tmp = df[df.month==2].groupby(['date']).tripduration.size().reset_index()\n",
    "tmp['date'] = tmp['date'].map(col_encode(tmp['date']))+1\n",
    "\n",
    "fig, ax = plt.subplots(figsize=(24,13.5))\n",
    "ax2 = ax.twinx()\n",
    "\n",
    "sns.barplot(x=\"date\", y=\"tripduration\", data=tmp, color=\"#fff89e\", ax=ax);\n",
    "\n",
    "ax.set_ylim(0, None)\n",
    "ax2.set_ylim(32, 90)\n",
    "#plt.title('Trip numbers in each month along average temperature', fontsize=20)\n",
    "plt.show()"
   ]
  },
  {
   "cell_type": "code",
   "execution_count": 30,
   "metadata": {},
   "outputs": [
    {
     "data": {
      "text/html": [
       "<div>\n",
       "<style>\n",
       "    .dataframe thead tr:only-child th {\n",
       "        text-align: right;\n",
       "    }\n",
       "\n",
       "    .dataframe thead th {\n",
       "        text-align: left;\n",
       "    }\n",
       "\n",
       "    .dataframe tbody tr th {\n",
       "        vertical-align: top;\n",
       "    }\n",
       "</style>\n",
       "<table border=\"1\" class=\"dataframe\">\n",
       "  <thead>\n",
       "    <tr style=\"text-align: right;\">\n",
       "      <th></th>\n",
       "      <th>tripduration</th>\n",
       "      <th>start station id</th>\n",
       "      <th>end station id</th>\n",
       "      <th>birth year</th>\n",
       "      <th>gender</th>\n",
       "      <th>starthour</th>\n",
       "      <th>date</th>\n",
       "      <th>weekday</th>\n",
       "      <th>weekend</th>\n",
       "      <th>month</th>\n",
       "      <th>Temp_high</th>\n",
       "      <th>Temp_avg</th>\n",
       "      <th>Temp_low</th>\n",
       "      <th>Precip</th>\n",
       "      <th>Rain</th>\n",
       "      <th>Snow</th>\n",
       "      <th>Fog</th>\n",
       "      <th>rain_vol</th>\n",
       "      <th>temp_level</th>\n",
       "      <th>start_cluster</th>\n",
       "      <th>end_cluster</th>\n",
       "      <th>user_enc</th>\n",
       "      <th>est_dist</th>\n",
       "      <th>temp_diff</th>\n",
       "    </tr>\n",
       "  </thead>\n",
       "  <tbody>\n",
       "    <tr>\n",
       "      <th>16062533</th>\n",
       "      <td>1063</td>\n",
       "      <td>441</td>\n",
       "      <td>297</td>\n",
       "      <td>1989</td>\n",
       "      <td>2</td>\n",
       "      <td>18.5</td>\n",
       "      <td>2017-12-21</td>\n",
       "      <td>4</td>\n",
       "      <td>0</td>\n",
       "      <td>12</td>\n",
       "      <td>39</td>\n",
       "      <td>36</td>\n",
       "      <td>32</td>\n",
       "      <td>0.00</td>\n",
       "      <td>0</td>\n",
       "      <td>0</td>\n",
       "      <td>0</td>\n",
       "      <td>0</td>\n",
       "      <td>0</td>\n",
       "      <td>13</td>\n",
       "      <td>9</td>\n",
       "      <td>1</td>\n",
       "      <td>4591</td>\n",
       "      <td>-12</td>\n",
       "    </tr>\n",
       "    <tr>\n",
       "      <th>9605005</th>\n",
       "      <td>433</td>\n",
       "      <td>514</td>\n",
       "      <td>523</td>\n",
       "      <td>1978</td>\n",
       "      <td>1</td>\n",
       "      <td>7.0</td>\n",
       "      <td>2017-08-21</td>\n",
       "      <td>1</td>\n",
       "      <td>0</td>\n",
       "      <td>8</td>\n",
       "      <td>87</td>\n",
       "      <td>79</td>\n",
       "      <td>71</td>\n",
       "      <td>0.00</td>\n",
       "      <td>0</td>\n",
       "      <td>0</td>\n",
       "      <td>0</td>\n",
       "      <td>0</td>\n",
       "      <td>4</td>\n",
       "      <td>1</td>\n",
       "      <td>7</td>\n",
       "      <td>1</td>\n",
       "      <td>1957</td>\n",
       "      <td>6</td>\n",
       "    </tr>\n",
       "    <tr>\n",
       "      <th>9921670</th>\n",
       "      <td>493</td>\n",
       "      <td>3463</td>\n",
       "      <td>442</td>\n",
       "      <td>1985</td>\n",
       "      <td>1</td>\n",
       "      <td>9.0</td>\n",
       "      <td>2017-08-26</td>\n",
       "      <td>6</td>\n",
       "      <td>1</td>\n",
       "      <td>8</td>\n",
       "      <td>78</td>\n",
       "      <td>70</td>\n",
       "      <td>62</td>\n",
       "      <td>0.00</td>\n",
       "      <td>0</td>\n",
       "      <td>0</td>\n",
       "      <td>0</td>\n",
       "      <td>0</td>\n",
       "      <td>3</td>\n",
       "      <td>9</td>\n",
       "      <td>1</td>\n",
       "      <td>1</td>\n",
       "      <td>1914</td>\n",
       "      <td>0</td>\n",
       "    </tr>\n",
       "    <tr>\n",
       "      <th>15375911</th>\n",
       "      <td>249</td>\n",
       "      <td>497</td>\n",
       "      <td>504</td>\n",
       "      <td>1968</td>\n",
       "      <td>1</td>\n",
       "      <td>12.5</td>\n",
       "      <td>2017-12-02</td>\n",
       "      <td>6</td>\n",
       "      <td>1</td>\n",
       "      <td>12</td>\n",
       "      <td>48</td>\n",
       "      <td>44</td>\n",
       "      <td>39</td>\n",
       "      <td>0.00</td>\n",
       "      <td>0</td>\n",
       "      <td>0</td>\n",
       "      <td>0</td>\n",
       "      <td>0</td>\n",
       "      <td>0</td>\n",
       "      <td>9</td>\n",
       "      <td>9</td>\n",
       "      <td>1</td>\n",
       "      <td>1475</td>\n",
       "      <td>-4</td>\n",
       "    </tr>\n",
       "    <tr>\n",
       "      <th>13923113</th>\n",
       "      <td>174</td>\n",
       "      <td>3101</td>\n",
       "      <td>3109</td>\n",
       "      <td>1990</td>\n",
       "      <td>1</td>\n",
       "      <td>23.5</td>\n",
       "      <td>2017-10-30</td>\n",
       "      <td>1</td>\n",
       "      <td>0</td>\n",
       "      <td>10</td>\n",
       "      <td>61</td>\n",
       "      <td>54</td>\n",
       "      <td>46</td>\n",
       "      <td>0.25</td>\n",
       "      <td>1</td>\n",
       "      <td>0</td>\n",
       "      <td>0</td>\n",
       "      <td>3</td>\n",
       "      <td>1</td>\n",
       "      <td>15</td>\n",
       "      <td>15</td>\n",
       "      <td>1</td>\n",
       "      <td>736</td>\n",
       "      <td>-6</td>\n",
       "    </tr>\n",
       "  </tbody>\n",
       "</table>\n",
       "</div>"
      ],
      "text/plain": [
       "          tripduration  start station id  end station id  birth year  gender  \\\n",
       "16062533          1063               441             297        1989       2   \n",
       "9605005            433               514             523        1978       1   \n",
       "9921670            493              3463             442        1985       1   \n",
       "15375911           249               497             504        1968       1   \n",
       "13923113           174              3101            3109        1990       1   \n",
       "\n",
       "          starthour       date  weekday  weekend  month  Temp_high  Temp_avg  \\\n",
       "16062533       18.5 2017-12-21        4        0     12         39        36   \n",
       "9605005         7.0 2017-08-21        1        0      8         87        79   \n",
       "9921670         9.0 2017-08-26        6        1      8         78        70   \n",
       "15375911       12.5 2017-12-02        6        1     12         48        44   \n",
       "13923113       23.5 2017-10-30        1        0     10         61        54   \n",
       "\n",
       "          Temp_low  Precip  Rain  Snow  Fog  rain_vol  temp_level  \\\n",
       "16062533        32    0.00     0     0    0         0           0   \n",
       "9605005         71    0.00     0     0    0         0           4   \n",
       "9921670         62    0.00     0     0    0         0           3   \n",
       "15375911        39    0.00     0     0    0         0           0   \n",
       "13923113        46    0.25     1     0    0         3           1   \n",
       "\n",
       "          start_cluster  end_cluster  user_enc  est_dist  temp_diff  \n",
       "16062533             13            9         1      4591        -12  \n",
       "9605005               1            7         1      1957          6  \n",
       "9921670               9            1         1      1914          0  \n",
       "15375911              9            9         1      1475         -4  \n",
       "13923113             15           15         1       736         -6  "
      ]
     },
     "metadata": {},
     "output_type": "display_data"
    }
   ],
   "source": [
    "display_all(df.sample(5))"
   ]
  },
  {
   "cell_type": "code",
   "execution_count": 31,
   "metadata": {},
   "outputs": [
    {
     "data": {
      "text/html": [
       "<div>\n",
       "<style>\n",
       "    .dataframe thead tr:only-child th {\n",
       "        text-align: right;\n",
       "    }\n",
       "\n",
       "    .dataframe thead th {\n",
       "        text-align: left;\n",
       "    }\n",
       "\n",
       "    .dataframe tbody tr th {\n",
       "        vertical-align: top;\n",
       "    }\n",
       "</style>\n",
       "<table border=\"1\" class=\"dataframe\">\n",
       "  <thead>\n",
       "    <tr style=\"text-align: right;\">\n",
       "      <th></th>\n",
       "      <th>date</th>\n",
       "      <th>Temp_high</th>\n",
       "      <th>Temp_avg</th>\n",
       "      <th>Temp_low</th>\n",
       "      <th>Precip</th>\n",
       "      <th>Rain</th>\n",
       "      <th>Snow</th>\n",
       "      <th>Fog</th>\n",
       "      <th>off_work</th>\n",
       "      <th>snow_plus_1</th>\n",
       "    </tr>\n",
       "  </thead>\n",
       "  <tbody>\n",
       "    <tr>\n",
       "      <th>97</th>\n",
       "      <td>2017-04-08</td>\n",
       "      <td>57</td>\n",
       "      <td>49</td>\n",
       "      <td>40</td>\n",
       "      <td>0</td>\n",
       "      <td>0</td>\n",
       "      <td>0</td>\n",
       "      <td>0</td>\n",
       "      <td>0</td>\n",
       "      <td>0</td>\n",
       "    </tr>\n",
       "    <tr>\n",
       "      <th>213</th>\n",
       "      <td>2017-08-02</td>\n",
       "      <td>86</td>\n",
       "      <td>78</td>\n",
       "      <td>69</td>\n",
       "      <td>0.09</td>\n",
       "      <td>1</td>\n",
       "      <td>0</td>\n",
       "      <td>0</td>\n",
       "      <td>0</td>\n",
       "      <td>0</td>\n",
       "    </tr>\n",
       "    <tr>\n",
       "      <th>289</th>\n",
       "      <td>2017-10-17</td>\n",
       "      <td>58</td>\n",
       "      <td>50</td>\n",
       "      <td>42</td>\n",
       "      <td>0</td>\n",
       "      <td>0</td>\n",
       "      <td>0</td>\n",
       "      <td>0</td>\n",
       "      <td>0</td>\n",
       "      <td>0</td>\n",
       "    </tr>\n",
       "    <tr>\n",
       "      <th>280</th>\n",
       "      <td>2017-10-08</td>\n",
       "      <td>77</td>\n",
       "      <td>75</td>\n",
       "      <td>72</td>\n",
       "      <td>0.22</td>\n",
       "      <td>1</td>\n",
       "      <td>0</td>\n",
       "      <td>0</td>\n",
       "      <td>0</td>\n",
       "      <td>0</td>\n",
       "    </tr>\n",
       "    <tr>\n",
       "      <th>17</th>\n",
       "      <td>2017-01-18</td>\n",
       "      <td>41</td>\n",
       "      <td>40</td>\n",
       "      <td>38</td>\n",
       "      <td>0.06</td>\n",
       "      <td>1</td>\n",
       "      <td>0</td>\n",
       "      <td>0</td>\n",
       "      <td>0</td>\n",
       "      <td>0</td>\n",
       "    </tr>\n",
       "    <tr>\n",
       "      <th>324</th>\n",
       "      <td>2017-11-21</td>\n",
       "      <td>58</td>\n",
       "      <td>50</td>\n",
       "      <td>42</td>\n",
       "      <td>0</td>\n",
       "      <td>0</td>\n",
       "      <td>0</td>\n",
       "      <td>0</td>\n",
       "      <td>0</td>\n",
       "      <td>0</td>\n",
       "    </tr>\n",
       "    <tr>\n",
       "      <th>34</th>\n",
       "      <td>2017-02-04</td>\n",
       "      <td>34</td>\n",
       "      <td>28</td>\n",
       "      <td>22</td>\n",
       "      <td>0</td>\n",
       "      <td>0</td>\n",
       "      <td>0</td>\n",
       "      <td>0</td>\n",
       "      <td>0</td>\n",
       "      <td>0</td>\n",
       "    </tr>\n",
       "    <tr>\n",
       "      <th>0</th>\n",
       "      <td>2017-01-01</td>\n",
       "      <td>46</td>\n",
       "      <td>44</td>\n",
       "      <td>41</td>\n",
       "      <td>0</td>\n",
       "      <td>0</td>\n",
       "      <td>0</td>\n",
       "      <td>0</td>\n",
       "      <td>1</td>\n",
       "      <td>0</td>\n",
       "    </tr>\n",
       "    <tr>\n",
       "      <th>48</th>\n",
       "      <td>2017-02-18</td>\n",
       "      <td>63</td>\n",
       "      <td>49</td>\n",
       "      <td>35</td>\n",
       "      <td>0</td>\n",
       "      <td>0</td>\n",
       "      <td>0</td>\n",
       "      <td>0</td>\n",
       "      <td>0</td>\n",
       "      <td>0</td>\n",
       "    </tr>\n",
       "    <tr>\n",
       "      <th>91</th>\n",
       "      <td>2017-04-02</td>\n",
       "      <td>63</td>\n",
       "      <td>52</td>\n",
       "      <td>40</td>\n",
       "      <td>0</td>\n",
       "      <td>0</td>\n",
       "      <td>0</td>\n",
       "      <td>0</td>\n",
       "      <td>0</td>\n",
       "      <td>0</td>\n",
       "    </tr>\n",
       "  </tbody>\n",
       "</table>\n",
       "</div>"
      ],
      "text/plain": [
       "          date  Temp_high  Temp_avg  Temp_low Precip  Rain  Snow  Fog  \\\n",
       "97  2017-04-08         57        49        40      0     0     0    0   \n",
       "213 2017-08-02         86        78        69   0.09     1     0    0   \n",
       "289 2017-10-17         58        50        42      0     0     0    0   \n",
       "280 2017-10-08         77        75        72   0.22     1     0    0   \n",
       "17  2017-01-18         41        40        38   0.06     1     0    0   \n",
       "324 2017-11-21         58        50        42      0     0     0    0   \n",
       "34  2017-02-04         34        28        22      0     0     0    0   \n",
       "0   2017-01-01         46        44        41      0     0     0    0   \n",
       "48  2017-02-18         63        49        35      0     0     0    0   \n",
       "91  2017-04-02         63        52        40      0     0     0    0   \n",
       "\n",
       "     off_work  snow_plus_1  \n",
       "97          0            0  \n",
       "213         0            0  \n",
       "289         0            0  \n",
       "280         0            0  \n",
       "17          0            0  \n",
       "324         0            0  \n",
       "34          0            0  \n",
       "0           1            0  \n",
       "48          0            0  \n",
       "91          0            0  "
      ]
     },
     "execution_count": 31,
     "metadata": {},
     "output_type": "execute_result"
    }
   ],
   "source": [
    "tmp = pd.read_csv('nyc_temp_2017.csv')\n",
    "tmp['2017'] = pd.to_datetime(tmp['2017'])\n",
    "tmp.columns = ['date', 'Temp_high', 'Temp_avg', \n",
    "               'Temp_low', 'Precip', 'Rain', \n",
    "               'Snow', 'Fog', 'off_work',\n",
    "               'snow_plus_1']\n",
    "tmp.sample(10)"
   ]
  },
  {
   "cell_type": "code",
   "execution_count": 32,
   "metadata": {
    "collapsed": true
   },
   "outputs": [],
   "source": [
    "tmp = tmp[['date', 'off_work', 'snow_plus_1']]"
   ]
  },
  {
   "cell_type": "code",
   "execution_count": 33,
   "metadata": {},
   "outputs": [
    {
     "data": {
      "text/html": [
       "<div>\n",
       "<style>\n",
       "    .dataframe thead tr:only-child th {\n",
       "        text-align: right;\n",
       "    }\n",
       "\n",
       "    .dataframe thead th {\n",
       "        text-align: left;\n",
       "    }\n",
       "\n",
       "    .dataframe tbody tr th {\n",
       "        vertical-align: top;\n",
       "    }\n",
       "</style>\n",
       "<table border=\"1\" class=\"dataframe\">\n",
       "  <thead>\n",
       "    <tr style=\"text-align: right;\">\n",
       "      <th></th>\n",
       "      <th>date</th>\n",
       "      <th>off_work</th>\n",
       "      <th>snow_plus_1</th>\n",
       "    </tr>\n",
       "  </thead>\n",
       "  <tbody>\n",
       "    <tr>\n",
       "      <th>39</th>\n",
       "      <td>2017-02-09</td>\n",
       "      <td>0</td>\n",
       "      <td>0</td>\n",
       "    </tr>\n",
       "    <tr>\n",
       "      <th>190</th>\n",
       "      <td>2017-07-10</td>\n",
       "      <td>0</td>\n",
       "      <td>0</td>\n",
       "    </tr>\n",
       "    <tr>\n",
       "      <th>37</th>\n",
       "      <td>2017-02-07</td>\n",
       "      <td>0</td>\n",
       "      <td>0</td>\n",
       "    </tr>\n",
       "  </tbody>\n",
       "</table>\n",
       "</div>"
      ],
      "text/plain": [
       "          date  off_work  snow_plus_1\n",
       "39  2017-02-09         0            0\n",
       "190 2017-07-10         0            0\n",
       "37  2017-02-07         0            0"
      ]
     },
     "execution_count": 33,
     "metadata": {},
     "output_type": "execute_result"
    }
   ],
   "source": [
    "tmp.sample(3)"
   ]
  },
  {
   "cell_type": "code",
   "execution_count": 34,
   "metadata": {},
   "outputs": [
    {
     "name": "stdout",
     "output_type": "stream",
     "text": [
      "CPU times: user 6.85 s, sys: 5.94 s, total: 12.8 s\n",
      "Wall time: 12.9 s\n"
     ]
    }
   ],
   "source": [
    "%%time\n",
    "df = pd.merge(df, tmp, 'left', on='date')"
   ]
  },
  {
   "cell_type": "code",
   "execution_count": 36,
   "metadata": {},
   "outputs": [
    {
     "data": {
      "text/html": [
       "<div>\n",
       "<style>\n",
       "    .dataframe thead tr:only-child th {\n",
       "        text-align: right;\n",
       "    }\n",
       "\n",
       "    .dataframe thead th {\n",
       "        text-align: left;\n",
       "    }\n",
       "\n",
       "    .dataframe tbody tr th {\n",
       "        vertical-align: top;\n",
       "    }\n",
       "</style>\n",
       "<table border=\"1\" class=\"dataframe\">\n",
       "  <thead>\n",
       "    <tr style=\"text-align: right;\">\n",
       "      <th></th>\n",
       "      <th>tripduration</th>\n",
       "      <th>start station id</th>\n",
       "      <th>end station id</th>\n",
       "      <th>birth year</th>\n",
       "      <th>gender</th>\n",
       "      <th>starthour</th>\n",
       "      <th>date</th>\n",
       "      <th>weekday</th>\n",
       "      <th>weekend</th>\n",
       "      <th>month</th>\n",
       "      <th>...</th>\n",
       "      <th>Fog</th>\n",
       "      <th>rain_vol</th>\n",
       "      <th>temp_level</th>\n",
       "      <th>start_cluster</th>\n",
       "      <th>end_cluster</th>\n",
       "      <th>user_enc</th>\n",
       "      <th>est_dist</th>\n",
       "      <th>temp_diff</th>\n",
       "      <th>off_work</th>\n",
       "      <th>snow_plus_1</th>\n",
       "    </tr>\n",
       "  </thead>\n",
       "  <tbody>\n",
       "    <tr>\n",
       "      <th>14610159</th>\n",
       "      <td>765</td>\n",
       "      <td>519</td>\n",
       "      <td>285</td>\n",
       "      <td>1956</td>\n",
       "      <td>2</td>\n",
       "      <td>19.0</td>\n",
       "      <td>2017-11-13</td>\n",
       "      <td>1</td>\n",
       "      <td>0</td>\n",
       "      <td>11</td>\n",
       "      <td>...</td>\n",
       "      <td>0</td>\n",
       "      <td>2</td>\n",
       "      <td>0</td>\n",
       "      <td>13</td>\n",
       "      <td>9</td>\n",
       "      <td>1</td>\n",
       "      <td>3376</td>\n",
       "      <td>1</td>\n",
       "      <td>0</td>\n",
       "      <td>0</td>\n",
       "    </tr>\n",
       "    <tr>\n",
       "      <th>9757050</th>\n",
       "      <td>405</td>\n",
       "      <td>3428</td>\n",
       "      <td>3255</td>\n",
       "      <td>1981</td>\n",
       "      <td>1</td>\n",
       "      <td>16.0</td>\n",
       "      <td>2017-08-23</td>\n",
       "      <td>3</td>\n",
       "      <td>0</td>\n",
       "      <td>8</td>\n",
       "      <td>...</td>\n",
       "      <td>0</td>\n",
       "      <td>1</td>\n",
       "      <td>3</td>\n",
       "      <td>1</td>\n",
       "      <td>1</td>\n",
       "      <td>1</td>\n",
       "      <td>1848</td>\n",
       "      <td>-8</td>\n",
       "      <td>0</td>\n",
       "      <td>0</td>\n",
       "    </tr>\n",
       "    <tr>\n",
       "      <th>11525650</th>\n",
       "      <td>485</td>\n",
       "      <td>3431</td>\n",
       "      <td>359</td>\n",
       "      <td>1995</td>\n",
       "      <td>2</td>\n",
       "      <td>8.0</td>\n",
       "      <td>2017-09-22</td>\n",
       "      <td>5</td>\n",
       "      <td>0</td>\n",
       "      <td>9</td>\n",
       "      <td>...</td>\n",
       "      <td>0</td>\n",
       "      <td>0</td>\n",
       "      <td>3</td>\n",
       "      <td>13</td>\n",
       "      <td>13</td>\n",
       "      <td>1</td>\n",
       "      <td>1276</td>\n",
       "      <td>2</td>\n",
       "      <td>0</td>\n",
       "      <td>0</td>\n",
       "    </tr>\n",
       "    <tr>\n",
       "      <th>9525799</th>\n",
       "      <td>996</td>\n",
       "      <td>151</td>\n",
       "      <td>3435</td>\n",
       "      <td>-1</td>\n",
       "      <td>0</td>\n",
       "      <td>16.0</td>\n",
       "      <td>2017-08-19</td>\n",
       "      <td>6</td>\n",
       "      <td>1</td>\n",
       "      <td>8</td>\n",
       "      <td>...</td>\n",
       "      <td>0</td>\n",
       "      <td>0</td>\n",
       "      <td>4</td>\n",
       "      <td>5</td>\n",
       "      <td>4</td>\n",
       "      <td>0</td>\n",
       "      <td>508</td>\n",
       "      <td>4</td>\n",
       "      <td>0</td>\n",
       "      <td>0</td>\n",
       "    </tr>\n",
       "    <tr>\n",
       "      <th>8544613</th>\n",
       "      <td>136</td>\n",
       "      <td>528</td>\n",
       "      <td>476</td>\n",
       "      <td>1977</td>\n",
       "      <td>1</td>\n",
       "      <td>14.5</td>\n",
       "      <td>2017-08-02</td>\n",
       "      <td>3</td>\n",
       "      <td>0</td>\n",
       "      <td>8</td>\n",
       "      <td>...</td>\n",
       "      <td>0</td>\n",
       "      <td>2</td>\n",
       "      <td>4</td>\n",
       "      <td>9</td>\n",
       "      <td>9</td>\n",
       "      <td>1</td>\n",
       "      <td>404</td>\n",
       "      <td>-6</td>\n",
       "      <td>0</td>\n",
       "      <td>0</td>\n",
       "    </tr>\n",
       "  </tbody>\n",
       "</table>\n",
       "<p>5 rows × 26 columns</p>\n",
       "</div>"
      ],
      "text/plain": [
       "          tripduration  start station id  end station id  birth year  gender  \\\n",
       "14610159           765               519             285        1956       2   \n",
       "9757050            405              3428            3255        1981       1   \n",
       "11525650           485              3431             359        1995       2   \n",
       "9525799            996               151            3435          -1       0   \n",
       "8544613            136               528             476        1977       1   \n",
       "\n",
       "          starthour       date  weekday  weekend  month     ...       Fog  \\\n",
       "14610159       19.0 2017-11-13        1        0     11     ...         0   \n",
       "9757050        16.0 2017-08-23        3        0      8     ...         0   \n",
       "11525650        8.0 2017-09-22        5        0      9     ...         0   \n",
       "9525799        16.0 2017-08-19        6        1      8     ...         0   \n",
       "8544613        14.5 2017-08-02        3        0      8     ...         0   \n",
       "\n",
       "          rain_vol  temp_level  start_cluster  end_cluster  user_enc  \\\n",
       "14610159         2           0             13            9         1   \n",
       "9757050          1           3              1            1         1   \n",
       "11525650         0           3             13           13         1   \n",
       "9525799          0           4              5            4         0   \n",
       "8544613          2           4              9            9         1   \n",
       "\n",
       "          est_dist  temp_diff  off_work  snow_plus_1  \n",
       "14610159      3376          1         0            0  \n",
       "9757050       1848         -8         0            0  \n",
       "11525650      1276          2         0            0  \n",
       "9525799        508          4         0            0  \n",
       "8544613        404         -6         0            0  \n",
       "\n",
       "[5 rows x 26 columns]"
      ]
     },
     "execution_count": 36,
     "metadata": {},
     "output_type": "execute_result"
    }
   ],
   "source": [
    "df.sample(5)"
   ]
  },
  {
   "cell_type": "code",
   "execution_count": 37,
   "metadata": {
    "collapsed": true
   },
   "outputs": [],
   "source": [
    "df.to_feather('df_train')"
   ]
  },
  {
   "cell_type": "code",
   "execution_count": null,
   "metadata": {
    "collapsed": true
   },
   "outputs": [],
   "source": []
  }
 ],
 "metadata": {
  "kernelspec": {
   "display_name": "Python 3",
   "language": "python",
   "name": "python3"
  },
  "language_info": {
   "codemirror_mode": {
    "name": "ipython",
    "version": 3
   },
   "file_extension": ".py",
   "mimetype": "text/x-python",
   "name": "python",
   "nbconvert_exporter": "python",
   "pygments_lexer": "ipython3",
   "version": "3.6.2"
  }
 },
 "nbformat": 4,
 "nbformat_minor": 2
}
